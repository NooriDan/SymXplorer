{
 "cells": [
  {
   "cell_type": "code",
   "execution_count": 1,
   "metadata": {},
   "outputs": [],
   "source": [
    "from   symxplorer.symbolic_solver.domains    import Circuit, ExperimentResult\n",
    "from   symxplorer.symbolic_solver.solver     import Circuit_Solver, Impedance_Analyzer\n",
    "from   symxplorer.demo.multiple_feedback     import Customized_Current_Mode_Multiple_Feedback_With_Limitation as TIA_CMMF\n",
    "import sympy"
   ]
  },
  {
   "cell_type": "markdown",
   "metadata": {},
   "source": [
    "# Manual Runs"
   ]
  },
  {
   "cell_type": "markdown",
   "metadata": {},
   "source": [
    "## Loading the Circuitt"
   ]
  },
  {
   "cell_type": "code",
   "execution_count": 2,
   "metadata": {},
   "outputs": [
    {
     "data": {
      "text/plain": [
       "True"
      ]
     },
     "execution_count": 2,
     "metadata": {},
     "output_type": "execute_result"
    }
   ],
   "source": [
    "circuit = TIA_CMMF.circuit\n",
    "circuit.hasSolution()"
   ]
  },
  {
   "cell_type": "code",
   "execution_count": 3,
   "metadata": {},
   "outputs": [
    {
     "data": {
      "text/plain": [
       "([Z_1, Z_2, Z_3, Z_4, Z_5, Z_6], [Z_1, Z_2, Z_3, Z_4, Z_5, Z_6])"
      ]
     },
     "execution_count": 3,
     "metadata": {},
     "output_type": "execute_result"
    }
   ],
   "source": [
    "circuit.impedances, circuit.impedancesToDisconnect"
   ]
  },
  {
   "cell_type": "code",
   "execution_count": 4,
   "metadata": {},
   "outputs": [
    {
     "name": "stdout",
     "output_type": "stream",
     "text": [
      "1 - Eq(-GB*Vn1/s, Vo1)\n",
      "2 - Eq(-GB*Vn2/s, Vo2)\n",
      "3 - Eq(Iin, (-Va + Vn1)/Z_2 + (Vn1 - Vo1)/Z_1)\n",
      "4 - Eq(0, -Va/Z_4 + (Va - Vn2)/Z_5 + (-Va + Vo1)/Z_3 + (-Va + Vn1)/Z_2)\n",
      "5 - Eq((Va - Vn2)/Z_5, (Vn2 - Vo2)/Z_6)\n"
     ]
    }
   ],
   "source": [
    "for i, eq in enumerate(circuit.nodal_equations, 1):\n",
    "    print(f\"{i} - {eq}\")"
   ]
  },
  {
   "cell_type": "code",
   "execution_count": 5,
   "metadata": {},
   "outputs": [
    {
     "data": {
      "text/plain": [
       "[Vo1, Vo2, Va, Vn1, Vn2, Iin]"
      ]
     },
     "execution_count": 5,
     "metadata": {},
     "output_type": "execute_result"
    }
   ],
   "source": [
    "circuit.solve_for"
   ]
  },
  {
   "cell_type": "markdown",
   "metadata": {},
   "source": [
    "## Circuit Solver"
   ]
  },
  {
   "cell_type": "code",
   "execution_count": 6,
   "metadata": {},
   "outputs": [],
   "source": [
    "solver = Circuit_Solver(circuit=circuit, _output= sympy.symbols(\"Vo2 0\"), _input=sympy.symbols(\"Iin 0\"), transmissionMatrixType=\"NA\")"
   ]
  },
  {
   "cell_type": "code",
   "execution_count": 7,
   "metadata": {},
   "outputs": [
    {
     "data": {
      "text/plain": [
       "[Z_1, Z_2, Z_3, Z_4, Z_5, Z_6]"
      ]
     },
     "execution_count": 7,
     "metadata": {},
     "output_type": "execute_result"
    }
   ],
   "source": [
    "solver.impedances"
   ]
  },
  {
   "cell_type": "code",
   "execution_count": 8,
   "metadata": {},
   "outputs": [
    {
     "data": {
      "text/plain": [
       "[Z_1, Z_2, Z_3, Z_4, Z_5, Z_6]"
      ]
     },
     "execution_count": 8,
     "metadata": {},
     "output_type": "execute_result"
    }
   ],
   "source": [
    "solver.impedancesToDisconnect"
   ]
  },
  {
   "cell_type": "code",
   "execution_count": 7,
   "metadata": {},
   "outputs": [
    {
     "name": "stdout",
     "output_type": "stream",
     "text": [
      "====Solving the Circuit====\n",
      "--- Computing the possible impedance connections for [Z_1, Z_2, Z_3, Z_4, Z_5, Z_6] ---\n",
      "--- Impedance connections stored in Circuit_Solver.impedanceConnections---\n",
      " ----------------------------\n",
      "1 - Solving for (Vo2 - 0) / (Iin - 0)\n",
      "2 - Intermediate Variables: [Vo1, Vo2, Va, Vn1, Vn2, Iin]\n",
      " ----------------------------\n",
      "3 - solved the base transfer function (symbolic [T])\n",
      "-- Single-ended input/output\n",
      "processing combo index 1\n",
      "processing combo index 2\n",
      "processing combo index 3\n",
      "processing combo index 4\n",
      "processing combo index 5\n",
      "processing combo index 6\n",
      "=====*Circuit Solved*=====\n"
     ]
    }
   ],
   "source": [
    "solver.solve()"
   ]
  },
  {
   "cell_type": "code",
   "execution_count": 8,
   "metadata": {},
   "outputs": [
    {
     "data": {
      "text/plain": [
       "[{Va: Iin*(GB**2*Z_1*Z_2*Z_4*Z_5 + GB*Z_1*Z_2*Z_4*Z_5*s + GB*Z_1*Z_2*Z_4*Z_6*s - GB*Z_1*Z_3*Z_4*Z_5*s - Z_1*Z_3*Z_4*Z_5*s**2 - Z_1*Z_3*Z_4*Z_6*s**2)/(-GB**2*Z_1*Z_4*Z_5 + GB**2*Z_2*Z_3*Z_4 - GB**2*Z_2*Z_3*Z_5 - GB**2*Z_2*Z_4*Z_5 - GB**2*Z_3*Z_4*Z_5 + GB*Z_1*Z_3*Z_4*s - GB*Z_1*Z_3*Z_5*s - 2*GB*Z_1*Z_4*Z_5*s - GB*Z_1*Z_4*Z_6*s + 2*GB*Z_2*Z_3*Z_4*s - 2*GB*Z_2*Z_3*Z_5*s - GB*Z_2*Z_3*Z_6*s - 2*GB*Z_2*Z_4*Z_5*s - GB*Z_2*Z_4*Z_6*s - 2*GB*Z_3*Z_4*Z_5*s - GB*Z_3*Z_4*Z_6*s + Z_1*Z_3*Z_4*s**2 - Z_1*Z_3*Z_5*s**2 - Z_1*Z_3*Z_6*s**2 - Z_1*Z_4*Z_5*s**2 - Z_1*Z_4*Z_6*s**2 + Z_2*Z_3*Z_4*s**2 - Z_2*Z_3*Z_5*s**2 - Z_2*Z_3*Z_6*s**2 - Z_2*Z_4*Z_5*s**2 - Z_2*Z_4*Z_6*s**2 - Z_3*Z_4*Z_5*s**2 - Z_3*Z_4*Z_6*s**2),\n",
       "  Vn1: Iin*(GB*Z_1*Z_2*Z_3*Z_4*s - GB*Z_1*Z_2*Z_3*Z_5*s - GB*Z_1*Z_2*Z_4*Z_5*s - GB*Z_1*Z_3*Z_4*Z_5*s + Z_1*Z_2*Z_3*Z_4*s**2 - Z_1*Z_2*Z_3*Z_5*s**2 - Z_1*Z_2*Z_3*Z_6*s**2 - Z_1*Z_2*Z_4*Z_5*s**2 - Z_1*Z_2*Z_4*Z_6*s**2 - Z_1*Z_3*Z_4*Z_5*s**2 - Z_1*Z_3*Z_4*Z_6*s**2)/(-GB**2*Z_1*Z_4*Z_5 + GB**2*Z_2*Z_3*Z_4 - GB**2*Z_2*Z_3*Z_5 - GB**2*Z_2*Z_4*Z_5 - GB**2*Z_3*Z_4*Z_5 + GB*Z_1*Z_3*Z_4*s - GB*Z_1*Z_3*Z_5*s - 2*GB*Z_1*Z_4*Z_5*s - GB*Z_1*Z_4*Z_6*s + 2*GB*Z_2*Z_3*Z_4*s - 2*GB*Z_2*Z_3*Z_5*s - GB*Z_2*Z_3*Z_6*s - 2*GB*Z_2*Z_4*Z_5*s - GB*Z_2*Z_4*Z_6*s - 2*GB*Z_3*Z_4*Z_5*s - GB*Z_3*Z_4*Z_6*s + Z_1*Z_3*Z_4*s**2 - Z_1*Z_3*Z_5*s**2 - Z_1*Z_3*Z_6*s**2 - Z_1*Z_4*Z_5*s**2 - Z_1*Z_4*Z_6*s**2 + Z_2*Z_3*Z_4*s**2 - Z_2*Z_3*Z_5*s**2 - Z_2*Z_3*Z_6*s**2 - Z_2*Z_4*Z_5*s**2 - Z_2*Z_4*Z_6*s**2 - Z_3*Z_4*Z_5*s**2 - Z_3*Z_4*Z_6*s**2),\n",
       "  Vn2: Iin*(GB*Z_1*Z_2*Z_4*Z_6*s - Z_1*Z_3*Z_4*Z_6*s**2)/(-GB**2*Z_1*Z_4*Z_5 + GB**2*Z_2*Z_3*Z_4 - GB**2*Z_2*Z_3*Z_5 - GB**2*Z_2*Z_4*Z_5 - GB**2*Z_3*Z_4*Z_5 + GB*Z_1*Z_3*Z_4*s - GB*Z_1*Z_3*Z_5*s - 2*GB*Z_1*Z_4*Z_5*s - GB*Z_1*Z_4*Z_6*s + 2*GB*Z_2*Z_3*Z_4*s - 2*GB*Z_2*Z_3*Z_5*s - GB*Z_2*Z_3*Z_6*s - 2*GB*Z_2*Z_4*Z_5*s - GB*Z_2*Z_4*Z_6*s - 2*GB*Z_3*Z_4*Z_5*s - GB*Z_3*Z_4*Z_6*s + Z_1*Z_3*Z_4*s**2 - Z_1*Z_3*Z_5*s**2 - Z_1*Z_3*Z_6*s**2 - Z_1*Z_4*Z_5*s**2 - Z_1*Z_4*Z_6*s**2 + Z_2*Z_3*Z_4*s**2 - Z_2*Z_3*Z_5*s**2 - Z_2*Z_3*Z_6*s**2 - Z_2*Z_4*Z_5*s**2 - Z_2*Z_4*Z_6*s**2 - Z_3*Z_4*Z_5*s**2 - Z_3*Z_4*Z_6*s**2),\n",
       "  Vo1: Iin*(-GB**2*Z_1*Z_2*Z_3*Z_4 + GB**2*Z_1*Z_2*Z_3*Z_5 + GB**2*Z_1*Z_2*Z_4*Z_5 + GB**2*Z_1*Z_3*Z_4*Z_5 - GB*Z_1*Z_2*Z_3*Z_4*s + GB*Z_1*Z_2*Z_3*Z_5*s + GB*Z_1*Z_2*Z_3*Z_6*s + GB*Z_1*Z_2*Z_4*Z_5*s + GB*Z_1*Z_2*Z_4*Z_6*s + GB*Z_1*Z_3*Z_4*Z_5*s + GB*Z_1*Z_3*Z_4*Z_6*s)/(-GB**2*Z_1*Z_4*Z_5 + GB**2*Z_2*Z_3*Z_4 - GB**2*Z_2*Z_3*Z_5 - GB**2*Z_2*Z_4*Z_5 - GB**2*Z_3*Z_4*Z_5 + GB*Z_1*Z_3*Z_4*s - GB*Z_1*Z_3*Z_5*s - 2*GB*Z_1*Z_4*Z_5*s - GB*Z_1*Z_4*Z_6*s + 2*GB*Z_2*Z_3*Z_4*s - 2*GB*Z_2*Z_3*Z_5*s - GB*Z_2*Z_3*Z_6*s - 2*GB*Z_2*Z_4*Z_5*s - GB*Z_2*Z_4*Z_6*s - 2*GB*Z_3*Z_4*Z_5*s - GB*Z_3*Z_4*Z_6*s + Z_1*Z_3*Z_4*s**2 - Z_1*Z_3*Z_5*s**2 - Z_1*Z_3*Z_6*s**2 - Z_1*Z_4*Z_5*s**2 - Z_1*Z_4*Z_6*s**2 + Z_2*Z_3*Z_4*s**2 - Z_2*Z_3*Z_5*s**2 - Z_2*Z_3*Z_6*s**2 - Z_2*Z_4*Z_5*s**2 - Z_2*Z_4*Z_6*s**2 - Z_3*Z_4*Z_5*s**2 - Z_3*Z_4*Z_6*s**2),\n",
       "  Vo2: Iin*(-GB**2*Z_1*Z_2*Z_4*Z_6 + GB*Z_1*Z_3*Z_4*Z_6*s)/(-GB**2*Z_1*Z_4*Z_5 + GB**2*Z_2*Z_3*Z_4 - GB**2*Z_2*Z_3*Z_5 - GB**2*Z_2*Z_4*Z_5 - GB**2*Z_3*Z_4*Z_5 + GB*Z_1*Z_3*Z_4*s - GB*Z_1*Z_3*Z_5*s - 2*GB*Z_1*Z_4*Z_5*s - GB*Z_1*Z_4*Z_6*s + 2*GB*Z_2*Z_3*Z_4*s - 2*GB*Z_2*Z_3*Z_5*s - GB*Z_2*Z_3*Z_6*s - 2*GB*Z_2*Z_4*Z_5*s - GB*Z_2*Z_4*Z_6*s - 2*GB*Z_3*Z_4*Z_5*s - GB*Z_3*Z_4*Z_6*s + Z_1*Z_3*Z_4*s**2 - Z_1*Z_3*Z_5*s**2 - Z_1*Z_3*Z_6*s**2 - Z_1*Z_4*Z_5*s**2 - Z_1*Z_4*Z_6*s**2 + Z_2*Z_3*Z_4*s**2 - Z_2*Z_3*Z_5*s**2 - Z_2*Z_3*Z_6*s**2 - Z_2*Z_4*Z_5*s**2 - Z_2*Z_4*Z_6*s**2 - Z_3*Z_4*Z_5*s**2 - Z_3*Z_4*Z_6*s**2)}]"
      ]
     },
     "execution_count": 8,
     "metadata": {},
     "output_type": "execute_result"
    }
   ],
   "source": [
    "solver.solutions"
   ]
  },
  {
   "cell_type": "code",
   "execution_count": 9,
   "metadata": {},
   "outputs": [
    {
     "data": {
      "text/latex": [
       "$\\displaystyle \\frac{- GB^{2} Z_{1} Z_{2} Z_{4} Z_{6} + GB Z_{1} Z_{3} Z_{4} Z_{6} s}{- GB^{2} Z_{1} Z_{4} Z_{5} + GB^{2} Z_{2} Z_{3} Z_{4} - GB^{2} Z_{2} Z_{3} Z_{5} - GB^{2} Z_{2} Z_{4} Z_{5} - GB^{2} Z_{3} Z_{4} Z_{5} + GB Z_{1} Z_{3} Z_{4} s - GB Z_{1} Z_{3} Z_{5} s - 2 GB Z_{1} Z_{4} Z_{5} s - GB Z_{1} Z_{4} Z_{6} s + 2 GB Z_{2} Z_{3} Z_{4} s - 2 GB Z_{2} Z_{3} Z_{5} s - GB Z_{2} Z_{3} Z_{6} s - 2 GB Z_{2} Z_{4} Z_{5} s - GB Z_{2} Z_{4} Z_{6} s - 2 GB Z_{3} Z_{4} Z_{5} s - GB Z_{3} Z_{4} Z_{6} s + Z_{1} Z_{3} Z_{4} s^{2} - Z_{1} Z_{3} Z_{5} s^{2} - Z_{1} Z_{3} Z_{6} s^{2} - Z_{1} Z_{4} Z_{5} s^{2} - Z_{1} Z_{4} Z_{6} s^{2} + Z_{2} Z_{3} Z_{4} s^{2} - Z_{2} Z_{3} Z_{5} s^{2} - Z_{2} Z_{3} Z_{6} s^{2} - Z_{2} Z_{4} Z_{5} s^{2} - Z_{2} Z_{4} Z_{6} s^{2} - Z_{3} Z_{4} Z_{5} s^{2} - Z_{3} Z_{4} Z_{6} s^{2}}$"
      ],
      "text/plain": [
       "(-GB**2*Z_1*Z_2*Z_4*Z_6 + GB*Z_1*Z_3*Z_4*Z_6*s)/(-GB**2*Z_1*Z_4*Z_5 + GB**2*Z_2*Z_3*Z_4 - GB**2*Z_2*Z_3*Z_5 - GB**2*Z_2*Z_4*Z_5 - GB**2*Z_3*Z_4*Z_5 + GB*Z_1*Z_3*Z_4*s - GB*Z_1*Z_3*Z_5*s - 2*GB*Z_1*Z_4*Z_5*s - GB*Z_1*Z_4*Z_6*s + 2*GB*Z_2*Z_3*Z_4*s - 2*GB*Z_2*Z_3*Z_5*s - GB*Z_2*Z_3*Z_6*s - 2*GB*Z_2*Z_4*Z_5*s - GB*Z_2*Z_4*Z_6*s - 2*GB*Z_3*Z_4*Z_5*s - GB*Z_3*Z_4*Z_6*s + Z_1*Z_3*Z_4*s**2 - Z_1*Z_3*Z_5*s**2 - Z_1*Z_3*Z_6*s**2 - Z_1*Z_4*Z_5*s**2 - Z_1*Z_4*Z_6*s**2 + Z_2*Z_3*Z_4*s**2 - Z_2*Z_3*Z_5*s**2 - Z_2*Z_3*Z_6*s**2 - Z_2*Z_4*Z_5*s**2 - Z_2*Z_4*Z_6*s**2 - Z_3*Z_4*Z_5*s**2 - Z_3*Z_4*Z_6*s**2)"
      ]
     },
     "execution_count": 9,
     "metadata": {},
     "output_type": "execute_result"
    }
   ],
   "source": [
    "symcircuit_sol = solver.baseHs\n",
    "symcircuit_sol"
   ]
  },
  {
   "cell_type": "markdown",
   "metadata": {},
   "source": [
    "## Impedance Analyzer"
   ]
  },
  {
   "cell_type": "code",
   "execution_count": 10,
   "metadata": {},
   "outputs": [
    {
     "name": "stdout",
     "output_type": "stream",
     "text": [
      "True\n"
     ]
    },
    {
     "data": {
      "text/plain": [
       "<symcircuit.symbolic_solver.solver.Impedance_Analyzer at 0x10e3b3830>"
      ]
     },
     "execution_count": 10,
     "metadata": {},
     "output_type": "execute_result"
    }
   ],
   "source": [
    "analysis = Impedance_Analyzer(\"VLSI_CMMF\", circuit_solver=solver)\n",
    "print(analysis.isCircuitSolved())\n",
    "analysis"
   ]
  },
  {
   "cell_type": "code",
   "execution_count": 11,
   "metadata": {},
   "outputs": [
    {
     "name": "stdout",
     "output_type": "stream",
     "text": [
      "1 - Z_1 - allowed connections [R_1, 1/(C_1*s), R_1 + 1/(C_1*s), R_1/(C_1*R_1*s + 1)]\n",
      "2 - Z_2 - allowed connections [R_2, 1/(C_2*s), R_2 + 1/(C_2*s), R_2/(C_2*R_2*s + 1)]\n",
      "3 - Z_3 - allowed connections [R_3, 1/(C_3*s), R_3 + 1/(C_3*s), R_3/(C_3*R_3*s + 1)]\n",
      "4 - Z_4 - allowed connections [R_4, 1/(C_4*s), R_4 + 1/(C_4*s), R_4/(C_4*R_4*s + 1)]\n",
      "5 - Z_5 - allowed connections [R_5, 1/(C_5*s), R_5 + 1/(C_5*s), R_5/(C_5*R_5*s + 1)]\n",
      "6 - Z_6 - allowed connections [R_6, 1/(C_6*s), R_6 + 1/(C_6*s), R_6/(C_6*R_6*s + 1)]\n"
     ]
    }
   ],
   "source": [
    "for block in analysis.impedance_blocks:\n",
    "    print(f\"{block.name} - {block.symbol} - allowed connections {block.allowedConnections}\")"
   ]
  },
  {
   "cell_type": "code",
   "execution_count": 12,
   "metadata": {},
   "outputs": [
    {
     "name": "stdout",
     "output_type": "stream",
     "text": [
      "combo key = Z1_Z2_Z3_Z4_Z5_Z6\n"
     ]
    },
    {
     "name": "stderr",
     "output_type": "stream",
     "text": [
      "Getting the TFs (CG): 100%|██████████| 4096/4096 [07:19<00:00,  9.32combo/s]"
     ]
    },
    {
     "name": "stdout",
     "output_type": "stream",
     "text": [
      "Number of transfer functions found: 4096\n"
     ]
    },
    {
     "name": "stderr",
     "output_type": "stream",
     "text": [
      "\n"
     ]
    }
   ],
   "source": [
    "analysis.computeTFs(comboKey=\"Z1_Z2_Z3_Z4_Z5_Z6\")"
   ]
  },
  {
   "cell_type": "code",
   "execution_count": 13,
   "metadata": {},
   "outputs": [
    {
     "name": "stderr",
     "output_type": "stream",
     "text": [
      "Computing Biquad filter parameters: 100%|██████████| 4096/4096 [05:30<00:00, 12.41filter/s]\n"
     ]
    }
   ],
   "source": [
    "analysis.classifier.classifyBiQuadFilters()"
   ]
  },
  {
   "cell_type": "code",
   "execution_count": 14,
   "metadata": {},
   "outputs": [
    {
     "name": "stdout",
     "output_type": "stream",
     "text": [
      "summarizing for filters in ['AP', 'BP', 'BS', 'GE', 'HP', 'LP', 'X-INVALID-NUMER', 'X-INVALID-ORDER', 'X-INVALID-WZ', 'X-PolynomialError']\n",
      "AP : 0\n",
      "BP : 0\n",
      "BS : 0\n",
      "GE : 0\n",
      "HP : 0\n",
      "LP : 0\n",
      "X-INVALID-NUMER : 1\n",
      "X-INVALID-ORDER : 4095\n",
      "X-INVALID-WZ : 0\n",
      "X-PolynomialError : 0\n"
     ]
    }
   ],
   "source": [
    "classifications = analysis.classifier.summarizeFilterType()"
   ]
  },
  {
   "cell_type": "code",
   "execution_count": 15,
   "metadata": {},
   "outputs": [
    {
     "name": "stdout",
     "output_type": "stream",
     "text": [
      "LaTeX report generated and saved to: Runs/VLSI_CMMF/CMMF_BiQuad_Z1_Z2_Z3_Z4_Z5_Z6/CMMF_BiQuad_Z1_Z2_Z3_Z4_Z5_Z6_summary.tex\n"
     ]
    }
   ],
   "source": [
    "analysis.reportSummary(\"CMMF_BiQuad\", \"Z1_Z2_Z3_Z4_Z5_Z6\")"
   ]
  },
  {
   "cell_type": "code",
   "execution_count": 16,
   "metadata": {},
   "outputs": [
    {
     "name": "stdout",
     "output_type": "stream",
     "text": [
      "\n",
      "=== Compiling the reports to PDF ===\n",
      "----** compiling Runs/VLSI_CMMF/CMMF_BiQuad_Z1_Z2_Z3_Z4_Z5_Z6/CMMF_BiQuad_Z1_Z2_Z3_Z4_Z5_Z6_summary.tex **----\n",
      "PDF generated: Runs/VLSI_CMMF/CMMF_BiQuad_Z1_Z2_Z3_Z4_Z5_Z6/CMMF_BiQuad_Z1_Z2_Z3_Z4_Z5_Z6_summary.pdf\n",
      "=== Compiling DONE ===\n",
      "\n"
     ]
    }
   ],
   "source": [
    "analysis.compilePDF()"
   ]
  },
  {
   "cell_type": "code",
   "execution_count": 17,
   "metadata": {},
   "outputs": [
    {
     "name": "stdout",
     "output_type": "stream",
     "text": [
      "Object exported to Runs/VLSI_CMMF/test_object\n"
     ]
    }
   ],
   "source": [
    "analysis.export(\"test\")"
   ]
  },
  {
   "cell_type": "code",
   "execution_count": 24,
   "metadata": {},
   "outputs": [
    {
     "data": {
      "text/plain": [
       "(R_1, R_2, R_3, 1/(C_4*s), R_5 + 1/(C_5*s), R_6)"
      ]
     },
     "execution_count": 24,
     "metadata": {},
     "output_type": "execute_result"
    }
   ],
   "source": [
    "obj = analysis.classifier.clusteredByType[\"X-INVALID-ORDER\"][23]\n",
    "obj.zCombo"
   ]
  },
  {
   "cell_type": "markdown",
   "metadata": {},
   "source": [
    "## Visualization"
   ]
  },
  {
   "cell_type": "code",
   "execution_count": 15,
   "metadata": {},
   "outputs": [],
   "source": [
    "from symcircuit.symbolic_solver.filter import Filter_Classifier\n",
    "results = ExperimentResult(\"VLSI_CMMF_NONIDEAL\")\n",
    "results = results.load(\"Runs/VLSI_CMMF_Automated_NA/results.pkl\")\n",
    "classifications_of_intrest = results.get_filter_types([\"BP\"])\n"
   ]
  },
  {
   "cell_type": "code",
   "execution_count": 27,
   "metadata": {},
   "outputs": [],
   "source": [
    "obj = classifications_of_intrest[3]\n"
   ]
  },
  {
   "cell_type": "code",
   "execution_count": 28,
   "metadata": {},
   "outputs": [
    {
     "data": {
      "text/latex": [
       "$\\displaystyle \\frac{C_{5} R_{1} R_{2} R_{6} s}{C_{4} C_{5} R_{2} R_{3} R_{5} s^{2} + R_{1} + R_{2} + R_{3} + s \\left(C_{4} R_{2} R_{3} + C_{5} R_{1} R_{5} - C_{5} R_{2} R_{3} + C_{5} R_{2} R_{5} + C_{5} R_{3} R_{5}\\right)}$"
      ],
      "text/plain": [
       "C_5*R_1*R_2*R_6*s/(C_4*C_5*R_2*R_3*R_5*s**2 + R_1 + R_2 + R_3 + s*(C_4*R_2*R_3 + C_5*R_1*R_5 - C_5*R_2*R_3 + C_5*R_2*R_5 + C_5*R_3*R_5))"
      ]
     },
     "execution_count": 28,
     "metadata": {},
     "output_type": "execute_result"
    }
   ],
   "source": [
    "obj.transferFunc.simplify()"
   ]
  },
  {
   "cell_type": "code",
   "execution_count": 29,
   "metadata": {},
   "outputs": [],
   "source": [
    "from symcircuit.designer_tools.visualizer import Visualizer\n",
    "viz = Visualizer(filter_classification=obj)\n"
   ]
  },
  {
   "cell_type": "code",
   "execution_count": 30,
   "metadata": {},
   "outputs": [
    {
     "data": {
      "text/plain": [
       "{s: 2*I*pi*f, R: 1000.0, C: 1e-09}"
      ]
     },
     "execution_count": 30,
     "metadata": {},
     "output_type": "execute_result"
    }
   ],
   "source": [
    "viz.set_equal_c()\n",
    "viz.set_equal_r()\n",
    "viz.set_params({\n",
    "    \"R\" : 1e3,\n",
    "    \"C\" : 1e-9\n",
    "})"
   ]
  },
  {
   "cell_type": "code",
   "execution_count": 31,
   "metadata": {},
   "outputs": [
    {
     "name": "stderr",
     "output_type": "stream",
     "text": [
      "2025-01-23 13:35:54,215 - matplotlib.ticker - vmin 5.011872336272722 vmax 19952623.149688788\n",
      "2025-01-23 13:35:54,215 - matplotlib.ticker - ticklocs array([1.e-01, 1.e+00, 1.e+01, 1.e+02, 1.e+03, 1.e+04, 1.e+05, 1.e+06,\n",
      "       1.e+07, 1.e+08, 1.e+09])\n",
      "2025-01-23 13:35:54,220 - matplotlib.ticker - vmin 5.011872336272722 vmax 19952623.149688788\n",
      "2025-01-23 13:35:54,220 - matplotlib.ticker - ticklocs array([1.e-02, 2.e-02, 3.e-02, 4.e-02, 5.e-02, 6.e-02, 7.e-02, 8.e-02,\n",
      "       9.e-02, 1.e-01, 2.e-01, 3.e-01, 4.e-01, 5.e-01, 6.e-01, 7.e-01,\n",
      "       8.e-01, 9.e-01, 1.e+00, 2.e+00, 3.e+00, 4.e+00, 5.e+00, 6.e+00,\n",
      "       7.e+00, 8.e+00, 9.e+00, 1.e+01, 2.e+01, 3.e+01, 4.e+01, 5.e+01,\n",
      "       6.e+01, 7.e+01, 8.e+01, 9.e+01, 1.e+02, 2.e+02, 3.e+02, 4.e+02,\n",
      "       5.e+02, 6.e+02, 7.e+02, 8.e+02, 9.e+02, 1.e+03, 2.e+03, 3.e+03,\n",
      "       4.e+03, 5.e+03, 6.e+03, 7.e+03, 8.e+03, 9.e+03, 1.e+04, 2.e+04,\n",
      "       3.e+04, 4.e+04, 5.e+04, 6.e+04, 7.e+04, 8.e+04, 9.e+04, 1.e+05,\n",
      "       2.e+05, 3.e+05, 4.e+05, 5.e+05, 6.e+05, 7.e+05, 8.e+05, 9.e+05,\n",
      "       1.e+06, 2.e+06, 3.e+06, 4.e+06, 5.e+06, 6.e+06, 7.e+06, 8.e+06,\n",
      "       9.e+06, 1.e+07, 2.e+07, 3.e+07, 4.e+07, 5.e+07, 6.e+07, 7.e+07,\n",
      "       8.e+07, 9.e+07, 1.e+08, 2.e+08, 3.e+08, 4.e+08, 5.e+08, 6.e+08,\n",
      "       7.e+08, 8.e+08, 9.e+08])\n",
      "2025-01-23 13:35:54,221 - matplotlib.ticker - vmin 5.011872336272722 vmax 19952623.149688788\n",
      "2025-01-23 13:35:54,222 - matplotlib.ticker - ticklocs array([1.e-01, 1.e+00, 1.e+01, 1.e+02, 1.e+03, 1.e+04, 1.e+05, 1.e+06,\n",
      "       1.e+07, 1.e+08, 1.e+09])\n",
      "2025-01-23 13:35:54,260 - matplotlib.ticker - vmin 5.011872336272722 vmax 19952623.149688788\n",
      "2025-01-23 13:35:54,261 - matplotlib.ticker - ticklocs array([1.e-01, 1.e+00, 1.e+01, 1.e+02, 1.e+03, 1.e+04, 1.e+05, 1.e+06,\n",
      "       1.e+07, 1.e+08, 1.e+09])\n",
      "2025-01-23 13:35:54,262 - matplotlib.ticker - vmin 5.011872336272722 vmax 19952623.149688788\n",
      "2025-01-23 13:35:54,262 - matplotlib.ticker - ticklocs array([1.e-02, 2.e-02, 3.e-02, 4.e-02, 5.e-02, 6.e-02, 7.e-02, 8.e-02,\n",
      "       9.e-02, 1.e-01, 2.e-01, 3.e-01, 4.e-01, 5.e-01, 6.e-01, 7.e-01,\n",
      "       8.e-01, 9.e-01, 1.e+00, 2.e+00, 3.e+00, 4.e+00, 5.e+00, 6.e+00,\n",
      "       7.e+00, 8.e+00, 9.e+00, 1.e+01, 2.e+01, 3.e+01, 4.e+01, 5.e+01,\n",
      "       6.e+01, 7.e+01, 8.e+01, 9.e+01, 1.e+02, 2.e+02, 3.e+02, 4.e+02,\n",
      "       5.e+02, 6.e+02, 7.e+02, 8.e+02, 9.e+02, 1.e+03, 2.e+03, 3.e+03,\n",
      "       4.e+03, 5.e+03, 6.e+03, 7.e+03, 8.e+03, 9.e+03, 1.e+04, 2.e+04,\n",
      "       3.e+04, 4.e+04, 5.e+04, 6.e+04, 7.e+04, 8.e+04, 9.e+04, 1.e+05,\n",
      "       2.e+05, 3.e+05, 4.e+05, 5.e+05, 6.e+05, 7.e+05, 8.e+05, 9.e+05,\n",
      "       1.e+06, 2.e+06, 3.e+06, 4.e+06, 5.e+06, 6.e+06, 7.e+06, 8.e+06,\n",
      "       9.e+06, 1.e+07, 2.e+07, 3.e+07, 4.e+07, 5.e+07, 6.e+07, 7.e+07,\n",
      "       8.e+07, 9.e+07, 1.e+08, 2.e+08, 3.e+08, 4.e+08, 5.e+08, 6.e+08,\n",
      "       7.e+08, 8.e+08, 9.e+08])\n",
      "2025-01-23 13:35:54,263 - matplotlib.ticker - vmin 5.011872336272722 vmax 19952623.149688788\n",
      "2025-01-23 13:35:54,263 - matplotlib.ticker - ticklocs array([1.e-01, 1.e+00, 1.e+01, 1.e+02, 1.e+03, 1.e+04, 1.e+05, 1.e+06,\n",
      "       1.e+07, 1.e+08, 1.e+09])\n",
      "2025-01-23 13:35:54,287 - matplotlib.ticker - vmin 5.011872336272722 vmax 19952623.149688788\n",
      "2025-01-23 13:35:54,287 - matplotlib.ticker - ticklocs array([1.e-01, 1.e+00, 1.e+01, 1.e+02, 1.e+03, 1.e+04, 1.e+05, 1.e+06,\n",
      "       1.e+07, 1.e+08, 1.e+09])\n",
      "2025-01-23 13:35:54,288 - matplotlib.ticker - vmin 5.011872336272722 vmax 19952623.149688788\n",
      "2025-01-23 13:35:54,288 - matplotlib.ticker - ticklocs array([1.e-02, 2.e-02, 3.e-02, 4.e-02, 5.e-02, 6.e-02, 7.e-02, 8.e-02,\n",
      "       9.e-02, 1.e-01, 2.e-01, 3.e-01, 4.e-01, 5.e-01, 6.e-01, 7.e-01,\n",
      "       8.e-01, 9.e-01, 1.e+00, 2.e+00, 3.e+00, 4.e+00, 5.e+00, 6.e+00,\n",
      "       7.e+00, 8.e+00, 9.e+00, 1.e+01, 2.e+01, 3.e+01, 4.e+01, 5.e+01,\n",
      "       6.e+01, 7.e+01, 8.e+01, 9.e+01, 1.e+02, 2.e+02, 3.e+02, 4.e+02,\n",
      "       5.e+02, 6.e+02, 7.e+02, 8.e+02, 9.e+02, 1.e+03, 2.e+03, 3.e+03,\n",
      "       4.e+03, 5.e+03, 6.e+03, 7.e+03, 8.e+03, 9.e+03, 1.e+04, 2.e+04,\n",
      "       3.e+04, 4.e+04, 5.e+04, 6.e+04, 7.e+04, 8.e+04, 9.e+04, 1.e+05,\n",
      "       2.e+05, 3.e+05, 4.e+05, 5.e+05, 6.e+05, 7.e+05, 8.e+05, 9.e+05,\n",
      "       1.e+06, 2.e+06, 3.e+06, 4.e+06, 5.e+06, 6.e+06, 7.e+06, 8.e+06,\n",
      "       9.e+06, 1.e+07, 2.e+07, 3.e+07, 4.e+07, 5.e+07, 6.e+07, 7.e+07,\n",
      "       8.e+07, 9.e+07, 1.e+08, 2.e+08, 3.e+08, 4.e+08, 5.e+08, 6.e+08,\n",
      "       7.e+08, 8.e+08, 9.e+08])\n",
      "2025-01-23 13:35:54,291 - matplotlib.ticker - vmin 5.011872336272722 vmax 19952623.149688788\n",
      "2025-01-23 13:35:54,291 - matplotlib.ticker - ticklocs array([1.e-01, 1.e+00, 1.e+01, 1.e+02, 1.e+03, 1.e+04, 1.e+05, 1.e+06,\n",
      "       1.e+07, 1.e+08, 1.e+09])\n",
      "2025-01-23 13:35:54,306 - matplotlib.ticker - vmin 5.011872336272722 vmax 19952623.149688788\n",
      "2025-01-23 13:35:54,307 - matplotlib.ticker - ticklocs array([1.e-01, 1.e+00, 1.e+01, 1.e+02, 1.e+03, 1.e+04, 1.e+05, 1.e+06,\n",
      "       1.e+07, 1.e+08, 1.e+09])\n",
      "2025-01-23 13:35:54,307 - matplotlib.ticker - vmin 5.011872336272722 vmax 19952623.149688788\n",
      "2025-01-23 13:35:54,308 - matplotlib.ticker - ticklocs array([1.e-02, 2.e-02, 3.e-02, 4.e-02, 5.e-02, 6.e-02, 7.e-02, 8.e-02,\n",
      "       9.e-02, 1.e-01, 2.e-01, 3.e-01, 4.e-01, 5.e-01, 6.e-01, 7.e-01,\n",
      "       8.e-01, 9.e-01, 1.e+00, 2.e+00, 3.e+00, 4.e+00, 5.e+00, 6.e+00,\n",
      "       7.e+00, 8.e+00, 9.e+00, 1.e+01, 2.e+01, 3.e+01, 4.e+01, 5.e+01,\n",
      "       6.e+01, 7.e+01, 8.e+01, 9.e+01, 1.e+02, 2.e+02, 3.e+02, 4.e+02,\n",
      "       5.e+02, 6.e+02, 7.e+02, 8.e+02, 9.e+02, 1.e+03, 2.e+03, 3.e+03,\n",
      "       4.e+03, 5.e+03, 6.e+03, 7.e+03, 8.e+03, 9.e+03, 1.e+04, 2.e+04,\n",
      "       3.e+04, 4.e+04, 5.e+04, 6.e+04, 7.e+04, 8.e+04, 9.e+04, 1.e+05,\n",
      "       2.e+05, 3.e+05, 4.e+05, 5.e+05, 6.e+05, 7.e+05, 8.e+05, 9.e+05,\n",
      "       1.e+06, 2.e+06, 3.e+06, 4.e+06, 5.e+06, 6.e+06, 7.e+06, 8.e+06,\n",
      "       9.e+06, 1.e+07, 2.e+07, 3.e+07, 4.e+07, 5.e+07, 6.e+07, 7.e+07,\n",
      "       8.e+07, 9.e+07, 1.e+08, 2.e+08, 3.e+08, 4.e+08, 5.e+08, 6.e+08,\n",
      "       7.e+08, 8.e+08, 9.e+08])\n",
      "2025-01-23 13:35:54,309 - matplotlib.ticker - vmin 5.011872336272722 vmax 19952623.149688788\n",
      "2025-01-23 13:35:54,309 - matplotlib.ticker - ticklocs array([1.e-01, 1.e+00, 1.e+01, 1.e+02, 1.e+03, 1.e+04, 1.e+05, 1.e+06,\n",
      "       1.e+07, 1.e+08, 1.e+09])\n",
      "2025-01-23 13:35:54,312 - matplotlib.ticker - vmin 5.011872336272722 vmax 19952623.149688788\n",
      "2025-01-23 13:35:54,312 - matplotlib.ticker - ticklocs array([1.e-01, 1.e+00, 1.e+01, 1.e+02, 1.e+03, 1.e+04, 1.e+05, 1.e+06,\n",
      "       1.e+07, 1.e+08, 1.e+09])\n",
      "2025-01-23 13:35:54,313 - matplotlib.ticker - vmin 5.011872336272722 vmax 19952623.149688788\n",
      "2025-01-23 13:35:54,313 - matplotlib.ticker - ticklocs array([1.e-02, 2.e-02, 3.e-02, 4.e-02, 5.e-02, 6.e-02, 7.e-02, 8.e-02,\n",
      "       9.e-02, 1.e-01, 2.e-01, 3.e-01, 4.e-01, 5.e-01, 6.e-01, 7.e-01,\n",
      "       8.e-01, 9.e-01, 1.e+00, 2.e+00, 3.e+00, 4.e+00, 5.e+00, 6.e+00,\n",
      "       7.e+00, 8.e+00, 9.e+00, 1.e+01, 2.e+01, 3.e+01, 4.e+01, 5.e+01,\n",
      "       6.e+01, 7.e+01, 8.e+01, 9.e+01, 1.e+02, 2.e+02, 3.e+02, 4.e+02,\n",
      "       5.e+02, 6.e+02, 7.e+02, 8.e+02, 9.e+02, 1.e+03, 2.e+03, 3.e+03,\n",
      "       4.e+03, 5.e+03, 6.e+03, 7.e+03, 8.e+03, 9.e+03, 1.e+04, 2.e+04,\n",
      "       3.e+04, 4.e+04, 5.e+04, 6.e+04, 7.e+04, 8.e+04, 9.e+04, 1.e+05,\n",
      "       2.e+05, 3.e+05, 4.e+05, 5.e+05, 6.e+05, 7.e+05, 8.e+05, 9.e+05,\n",
      "       1.e+06, 2.e+06, 3.e+06, 4.e+06, 5.e+06, 6.e+06, 7.e+06, 8.e+06,\n",
      "       9.e+06, 1.e+07, 2.e+07, 3.e+07, 4.e+07, 5.e+07, 6.e+07, 7.e+07,\n",
      "       8.e+07, 9.e+07, 1.e+08, 2.e+08, 3.e+08, 4.e+08, 5.e+08, 6.e+08,\n",
      "       7.e+08, 8.e+08, 9.e+08])\n",
      "2025-01-23 13:35:54,314 - matplotlib.ticker - vmin 5.011872336272722 vmax 19952623.149688788\n",
      "2025-01-23 13:35:54,314 - matplotlib.ticker - ticklocs array([1.e-01, 1.e+00, 1.e+01, 1.e+02, 1.e+03, 1.e+04, 1.e+05, 1.e+06,\n",
      "       1.e+07, 1.e+08, 1.e+09])\n",
      "2025-01-23 13:35:54,321 - matplotlib.ticker - vmin 5.011872336272722 vmax 19952623.149688788\n",
      "2025-01-23 13:35:54,322 - matplotlib.ticker - ticklocs array([1.e-01, 1.e+00, 1.e+01, 1.e+02, 1.e+03, 1.e+04, 1.e+05, 1.e+06,\n",
      "       1.e+07, 1.e+08, 1.e+09])\n",
      "2025-01-23 13:35:54,326 - matplotlib.ticker - vmin 5.011872336272722 vmax 19952623.149688788\n",
      "2025-01-23 13:35:54,326 - matplotlib.ticker - ticklocs array([1.e-02, 2.e-02, 3.e-02, 4.e-02, 5.e-02, 6.e-02, 7.e-02, 8.e-02,\n",
      "       9.e-02, 1.e-01, 2.e-01, 3.e-01, 4.e-01, 5.e-01, 6.e-01, 7.e-01,\n",
      "       8.e-01, 9.e-01, 1.e+00, 2.e+00, 3.e+00, 4.e+00, 5.e+00, 6.e+00,\n",
      "       7.e+00, 8.e+00, 9.e+00, 1.e+01, 2.e+01, 3.e+01, 4.e+01, 5.e+01,\n",
      "       6.e+01, 7.e+01, 8.e+01, 9.e+01, 1.e+02, 2.e+02, 3.e+02, 4.e+02,\n",
      "       5.e+02, 6.e+02, 7.e+02, 8.e+02, 9.e+02, 1.e+03, 2.e+03, 3.e+03,\n",
      "       4.e+03, 5.e+03, 6.e+03, 7.e+03, 8.e+03, 9.e+03, 1.e+04, 2.e+04,\n",
      "       3.e+04, 4.e+04, 5.e+04, 6.e+04, 7.e+04, 8.e+04, 9.e+04, 1.e+05,\n",
      "       2.e+05, 3.e+05, 4.e+05, 5.e+05, 6.e+05, 7.e+05, 8.e+05, 9.e+05,\n",
      "       1.e+06, 2.e+06, 3.e+06, 4.e+06, 5.e+06, 6.e+06, 7.e+06, 8.e+06,\n",
      "       9.e+06, 1.e+07, 2.e+07, 3.e+07, 4.e+07, 5.e+07, 6.e+07, 7.e+07,\n",
      "       8.e+07, 9.e+07, 1.e+08, 2.e+08, 3.e+08, 4.e+08, 5.e+08, 6.e+08,\n",
      "       7.e+08, 8.e+08, 9.e+08])\n",
      "2025-01-23 13:35:54,327 - matplotlib.ticker - vmin 5.011872336272722 vmax 19952623.149688788\n",
      "2025-01-23 13:35:54,327 - matplotlib.ticker - ticklocs array([1.e-01, 1.e+00, 1.e+01, 1.e+02, 1.e+03, 1.e+04, 1.e+05, 1.e+06,\n",
      "       1.e+07, 1.e+08, 1.e+09])\n",
      "2025-01-23 13:35:54,364 - matplotlib.ticker - vmin 5.011872336272722 vmax 19952623.149688788\n",
      "2025-01-23 13:35:54,364 - matplotlib.ticker - ticklocs array([1.e-01, 1.e+00, 1.e+01, 1.e+02, 1.e+03, 1.e+04, 1.e+05, 1.e+06,\n",
      "       1.e+07, 1.e+08, 1.e+09])\n",
      "2025-01-23 13:35:54,364 - matplotlib.ticker - vmin 5.011872336272722 vmax 19952623.149688788\n",
      "2025-01-23 13:35:54,365 - matplotlib.ticker - ticklocs array([1.e-02, 2.e-02, 3.e-02, 4.e-02, 5.e-02, 6.e-02, 7.e-02, 8.e-02,\n",
      "       9.e-02, 1.e-01, 2.e-01, 3.e-01, 4.e-01, 5.e-01, 6.e-01, 7.e-01,\n",
      "       8.e-01, 9.e-01, 1.e+00, 2.e+00, 3.e+00, 4.e+00, 5.e+00, 6.e+00,\n",
      "       7.e+00, 8.e+00, 9.e+00, 1.e+01, 2.e+01, 3.e+01, 4.e+01, 5.e+01,\n",
      "       6.e+01, 7.e+01, 8.e+01, 9.e+01, 1.e+02, 2.e+02, 3.e+02, 4.e+02,\n",
      "       5.e+02, 6.e+02, 7.e+02, 8.e+02, 9.e+02, 1.e+03, 2.e+03, 3.e+03,\n",
      "       4.e+03, 5.e+03, 6.e+03, 7.e+03, 8.e+03, 9.e+03, 1.e+04, 2.e+04,\n",
      "       3.e+04, 4.e+04, 5.e+04, 6.e+04, 7.e+04, 8.e+04, 9.e+04, 1.e+05,\n",
      "       2.e+05, 3.e+05, 4.e+05, 5.e+05, 6.e+05, 7.e+05, 8.e+05, 9.e+05,\n",
      "       1.e+06, 2.e+06, 3.e+06, 4.e+06, 5.e+06, 6.e+06, 7.e+06, 8.e+06,\n",
      "       9.e+06, 1.e+07, 2.e+07, 3.e+07, 4.e+07, 5.e+07, 6.e+07, 7.e+07,\n",
      "       8.e+07, 9.e+07, 1.e+08, 2.e+08, 3.e+08, 4.e+08, 5.e+08, 6.e+08,\n",
      "       7.e+08, 8.e+08, 9.e+08])\n",
      "2025-01-23 13:35:54,366 - matplotlib.ticker - vmin 5.011872336272722 vmax 19952623.149688788\n",
      "2025-01-23 13:35:54,366 - matplotlib.ticker - ticklocs array([1.e-01, 1.e+00, 1.e+01, 1.e+02, 1.e+03, 1.e+04, 1.e+05, 1.e+06,\n",
      "       1.e+07, 1.e+08, 1.e+09])\n",
      "2025-01-23 13:35:54,371 - matplotlib.ticker - vmin 5.011872336272722 vmax 19952623.149688788\n",
      "2025-01-23 13:35:54,371 - matplotlib.ticker - ticklocs array([1.e-01, 1.e+00, 1.e+01, 1.e+02, 1.e+03, 1.e+04, 1.e+05, 1.e+06,\n",
      "       1.e+07, 1.e+08, 1.e+09])\n",
      "2025-01-23 13:35:54,371 - matplotlib.ticker - vmin 5.011872336272722 vmax 19952623.149688788\n",
      "2025-01-23 13:35:54,372 - matplotlib.ticker - ticklocs array([1.e-02, 2.e-02, 3.e-02, 4.e-02, 5.e-02, 6.e-02, 7.e-02, 8.e-02,\n",
      "       9.e-02, 1.e-01, 2.e-01, 3.e-01, 4.e-01, 5.e-01, 6.e-01, 7.e-01,\n",
      "       8.e-01, 9.e-01, 1.e+00, 2.e+00, 3.e+00, 4.e+00, 5.e+00, 6.e+00,\n",
      "       7.e+00, 8.e+00, 9.e+00, 1.e+01, 2.e+01, 3.e+01, 4.e+01, 5.e+01,\n",
      "       6.e+01, 7.e+01, 8.e+01, 9.e+01, 1.e+02, 2.e+02, 3.e+02, 4.e+02,\n",
      "       5.e+02, 6.e+02, 7.e+02, 8.e+02, 9.e+02, 1.e+03, 2.e+03, 3.e+03,\n",
      "       4.e+03, 5.e+03, 6.e+03, 7.e+03, 8.e+03, 9.e+03, 1.e+04, 2.e+04,\n",
      "       3.e+04, 4.e+04, 5.e+04, 6.e+04, 7.e+04, 8.e+04, 9.e+04, 1.e+05,\n",
      "       2.e+05, 3.e+05, 4.e+05, 5.e+05, 6.e+05, 7.e+05, 8.e+05, 9.e+05,\n",
      "       1.e+06, 2.e+06, 3.e+06, 4.e+06, 5.e+06, 6.e+06, 7.e+06, 8.e+06,\n",
      "       9.e+06, 1.e+07, 2.e+07, 3.e+07, 4.e+07, 5.e+07, 6.e+07, 7.e+07,\n",
      "       8.e+07, 9.e+07, 1.e+08, 2.e+08, 3.e+08, 4.e+08, 5.e+08, 6.e+08,\n",
      "       7.e+08, 8.e+08, 9.e+08])\n",
      "2025-01-23 13:35:54,372 - matplotlib.ticker - vmin 5.011872336272722 vmax 19952623.149688788\n",
      "2025-01-23 13:35:54,373 - matplotlib.ticker - ticklocs array([1.e-01, 1.e+00, 1.e+01, 1.e+02, 1.e+03, 1.e+04, 1.e+05, 1.e+06,\n",
      "       1.e+07, 1.e+08, 1.e+09])\n",
      "2025-01-23 13:35:54,436 - matplotlib.ticker - vmin 5.011872336272722 vmax 19952623.149688788\n",
      "2025-01-23 13:35:54,437 - matplotlib.ticker - ticklocs array([1.e-01, 1.e+00, 1.e+01, 1.e+02, 1.e+03, 1.e+04, 1.e+05, 1.e+06,\n",
      "       1.e+07, 1.e+08, 1.e+09])\n",
      "2025-01-23 13:35:54,437 - matplotlib.ticker - vmin 5.011872336272722 vmax 19952623.149688788\n",
      "2025-01-23 13:35:54,437 - matplotlib.ticker - ticklocs array([1.e-02, 2.e-02, 3.e-02, 4.e-02, 5.e-02, 6.e-02, 7.e-02, 8.e-02,\n",
      "       9.e-02, 1.e-01, 2.e-01, 3.e-01, 4.e-01, 5.e-01, 6.e-01, 7.e-01,\n",
      "       8.e-01, 9.e-01, 1.e+00, 2.e+00, 3.e+00, 4.e+00, 5.e+00, 6.e+00,\n",
      "       7.e+00, 8.e+00, 9.e+00, 1.e+01, 2.e+01, 3.e+01, 4.e+01, 5.e+01,\n",
      "       6.e+01, 7.e+01, 8.e+01, 9.e+01, 1.e+02, 2.e+02, 3.e+02, 4.e+02,\n",
      "       5.e+02, 6.e+02, 7.e+02, 8.e+02, 9.e+02, 1.e+03, 2.e+03, 3.e+03,\n",
      "       4.e+03, 5.e+03, 6.e+03, 7.e+03, 8.e+03, 9.e+03, 1.e+04, 2.e+04,\n",
      "       3.e+04, 4.e+04, 5.e+04, 6.e+04, 7.e+04, 8.e+04, 9.e+04, 1.e+05,\n",
      "       2.e+05, 3.e+05, 4.e+05, 5.e+05, 6.e+05, 7.e+05, 8.e+05, 9.e+05,\n",
      "       1.e+06, 2.e+06, 3.e+06, 4.e+06, 5.e+06, 6.e+06, 7.e+06, 8.e+06,\n",
      "       9.e+06, 1.e+07, 2.e+07, 3.e+07, 4.e+07, 5.e+07, 6.e+07, 7.e+07,\n",
      "       8.e+07, 9.e+07, 1.e+08, 2.e+08, 3.e+08, 4.e+08, 5.e+08, 6.e+08,\n",
      "       7.e+08, 8.e+08, 9.e+08])\n",
      "2025-01-23 13:35:54,438 - matplotlib.ticker - vmin 5.011872336272722 vmax 19952623.149688788\n",
      "2025-01-23 13:35:54,438 - matplotlib.ticker - ticklocs array([1.e-01, 1.e+00, 1.e+01, 1.e+02, 1.e+03, 1.e+04, 1.e+05, 1.e+06,\n",
      "       1.e+07, 1.e+08, 1.e+09])\n",
      "2025-01-23 13:35:54,440 - matplotlib.ticker - vmin 5.011872336272722 vmax 19952623.149688788\n",
      "2025-01-23 13:35:54,441 - matplotlib.ticker - ticklocs array([1.e-01, 1.e+00, 1.e+01, 1.e+02, 1.e+03, 1.e+04, 1.e+05, 1.e+06,\n",
      "       1.e+07, 1.e+08, 1.e+09])\n",
      "2025-01-23 13:35:54,441 - matplotlib.ticker - vmin 5.011872336272722 vmax 19952623.149688788\n",
      "2025-01-23 13:35:54,441 - matplotlib.ticker - ticklocs array([1.e-02, 2.e-02, 3.e-02, 4.e-02, 5.e-02, 6.e-02, 7.e-02, 8.e-02,\n",
      "       9.e-02, 1.e-01, 2.e-01, 3.e-01, 4.e-01, 5.e-01, 6.e-01, 7.e-01,\n",
      "       8.e-01, 9.e-01, 1.e+00, 2.e+00, 3.e+00, 4.e+00, 5.e+00, 6.e+00,\n",
      "       7.e+00, 8.e+00, 9.e+00, 1.e+01, 2.e+01, 3.e+01, 4.e+01, 5.e+01,\n",
      "       6.e+01, 7.e+01, 8.e+01, 9.e+01, 1.e+02, 2.e+02, 3.e+02, 4.e+02,\n",
      "       5.e+02, 6.e+02, 7.e+02, 8.e+02, 9.e+02, 1.e+03, 2.e+03, 3.e+03,\n",
      "       4.e+03, 5.e+03, 6.e+03, 7.e+03, 8.e+03, 9.e+03, 1.e+04, 2.e+04,\n",
      "       3.e+04, 4.e+04, 5.e+04, 6.e+04, 7.e+04, 8.e+04, 9.e+04, 1.e+05,\n",
      "       2.e+05, 3.e+05, 4.e+05, 5.e+05, 6.e+05, 7.e+05, 8.e+05, 9.e+05,\n",
      "       1.e+06, 2.e+06, 3.e+06, 4.e+06, 5.e+06, 6.e+06, 7.e+06, 8.e+06,\n",
      "       9.e+06, 1.e+07, 2.e+07, 3.e+07, 4.e+07, 5.e+07, 6.e+07, 7.e+07,\n",
      "       8.e+07, 9.e+07, 1.e+08, 2.e+08, 3.e+08, 4.e+08, 5.e+08, 6.e+08,\n",
      "       7.e+08, 8.e+08, 9.e+08])\n",
      "2025-01-23 13:35:54,442 - matplotlib.ticker - vmin 5.011872336272722 vmax 19952623.149688788\n",
      "2025-01-23 13:35:54,442 - matplotlib.ticker - ticklocs array([1.e-01, 1.e+00, 1.e+01, 1.e+02, 1.e+03, 1.e+04, 1.e+05, 1.e+06,\n",
      "       1.e+07, 1.e+08, 1.e+09])\n",
      "2025-01-23 13:35:54,450 - matplotlib.ticker - vmin 5.011872336272722 vmax 19952623.149688788\n",
      "2025-01-23 13:35:54,450 - matplotlib.ticker - ticklocs array([1.e-01, 1.e+00, 1.e+01, 1.e+02, 1.e+03, 1.e+04, 1.e+05, 1.e+06,\n",
      "       1.e+07, 1.e+08, 1.e+09])\n",
      "2025-01-23 13:35:54,451 - matplotlib.ticker - vmin 5.011872336272722 vmax 19952623.149688788\n",
      "2025-01-23 13:35:54,451 - matplotlib.ticker - ticklocs array([1.e-02, 2.e-02, 3.e-02, 4.e-02, 5.e-02, 6.e-02, 7.e-02, 8.e-02,\n",
      "       9.e-02, 1.e-01, 2.e-01, 3.e-01, 4.e-01, 5.e-01, 6.e-01, 7.e-01,\n",
      "       8.e-01, 9.e-01, 1.e+00, 2.e+00, 3.e+00, 4.e+00, 5.e+00, 6.e+00,\n",
      "       7.e+00, 8.e+00, 9.e+00, 1.e+01, 2.e+01, 3.e+01, 4.e+01, 5.e+01,\n",
      "       6.e+01, 7.e+01, 8.e+01, 9.e+01, 1.e+02, 2.e+02, 3.e+02, 4.e+02,\n",
      "       5.e+02, 6.e+02, 7.e+02, 8.e+02, 9.e+02, 1.e+03, 2.e+03, 3.e+03,\n",
      "       4.e+03, 5.e+03, 6.e+03, 7.e+03, 8.e+03, 9.e+03, 1.e+04, 2.e+04,\n",
      "       3.e+04, 4.e+04, 5.e+04, 6.e+04, 7.e+04, 8.e+04, 9.e+04, 1.e+05,\n",
      "       2.e+05, 3.e+05, 4.e+05, 5.e+05, 6.e+05, 7.e+05, 8.e+05, 9.e+05,\n",
      "       1.e+06, 2.e+06, 3.e+06, 4.e+06, 5.e+06, 6.e+06, 7.e+06, 8.e+06,\n",
      "       9.e+06, 1.e+07, 2.e+07, 3.e+07, 4.e+07, 5.e+07, 6.e+07, 7.e+07,\n",
      "       8.e+07, 9.e+07, 1.e+08, 2.e+08, 3.e+08, 4.e+08, 5.e+08, 6.e+08,\n",
      "       7.e+08, 8.e+08, 9.e+08])\n",
      "2025-01-23 13:35:54,452 - matplotlib.ticker - vmin 5.011872336272722 vmax 19952623.149688788\n",
      "2025-01-23 13:35:54,452 - matplotlib.ticker - ticklocs array([1.e-01, 1.e+00, 1.e+01, 1.e+02, 1.e+03, 1.e+04, 1.e+05, 1.e+06,\n",
      "       1.e+07, 1.e+08, 1.e+09])\n",
      "2025-01-23 13:35:54,464 - matplotlib.ticker - vmin 5.011872336272722 vmax 19952623.149688788\n",
      "2025-01-23 13:35:54,465 - matplotlib.ticker - ticklocs array([1.e-01, 1.e+00, 1.e+01, 1.e+02, 1.e+03, 1.e+04, 1.e+05, 1.e+06,\n",
      "       1.e+07, 1.e+08, 1.e+09])\n",
      "2025-01-23 13:35:54,465 - matplotlib.ticker - vmin 5.011872336272722 vmax 19952623.149688788\n",
      "2025-01-23 13:35:54,466 - matplotlib.ticker - ticklocs array([1.e-02, 2.e-02, 3.e-02, 4.e-02, 5.e-02, 6.e-02, 7.e-02, 8.e-02,\n",
      "       9.e-02, 1.e-01, 2.e-01, 3.e-01, 4.e-01, 5.e-01, 6.e-01, 7.e-01,\n",
      "       8.e-01, 9.e-01, 1.e+00, 2.e+00, 3.e+00, 4.e+00, 5.e+00, 6.e+00,\n",
      "       7.e+00, 8.e+00, 9.e+00, 1.e+01, 2.e+01, 3.e+01, 4.e+01, 5.e+01,\n",
      "       6.e+01, 7.e+01, 8.e+01, 9.e+01, 1.e+02, 2.e+02, 3.e+02, 4.e+02,\n",
      "       5.e+02, 6.e+02, 7.e+02, 8.e+02, 9.e+02, 1.e+03, 2.e+03, 3.e+03,\n",
      "       4.e+03, 5.e+03, 6.e+03, 7.e+03, 8.e+03, 9.e+03, 1.e+04, 2.e+04,\n",
      "       3.e+04, 4.e+04, 5.e+04, 6.e+04, 7.e+04, 8.e+04, 9.e+04, 1.e+05,\n",
      "       2.e+05, 3.e+05, 4.e+05, 5.e+05, 6.e+05, 7.e+05, 8.e+05, 9.e+05,\n",
      "       1.e+06, 2.e+06, 3.e+06, 4.e+06, 5.e+06, 6.e+06, 7.e+06, 8.e+06,\n",
      "       9.e+06, 1.e+07, 2.e+07, 3.e+07, 4.e+07, 5.e+07, 6.e+07, 7.e+07,\n",
      "       8.e+07, 9.e+07, 1.e+08, 2.e+08, 3.e+08, 4.e+08, 5.e+08, 6.e+08,\n",
      "       7.e+08, 8.e+08, 9.e+08])\n",
      "2025-01-23 13:35:54,467 - matplotlib.ticker - vmin 5.011872336272722 vmax 19952623.149688788\n",
      "2025-01-23 13:35:54,467 - matplotlib.ticker - ticklocs array([1.e-01, 1.e+00, 1.e+01, 1.e+02, 1.e+03, 1.e+04, 1.e+05, 1.e+06,\n",
      "       1.e+07, 1.e+08, 1.e+09])\n",
      "2025-01-23 13:35:54,471 - matplotlib.ticker - vmin 5.011872336272722 vmax 19952623.149688788\n",
      "2025-01-23 13:35:54,471 - matplotlib.ticker - ticklocs array([1.e-01, 1.e+00, 1.e+01, 1.e+02, 1.e+03, 1.e+04, 1.e+05, 1.e+06,\n",
      "       1.e+07, 1.e+08, 1.e+09])\n",
      "2025-01-23 13:35:54,472 - matplotlib.ticker - vmin 5.011872336272722 vmax 19952623.149688788\n",
      "2025-01-23 13:35:54,472 - matplotlib.ticker - ticklocs array([1.e-02, 2.e-02, 3.e-02, 4.e-02, 5.e-02, 6.e-02, 7.e-02, 8.e-02,\n",
      "       9.e-02, 1.e-01, 2.e-01, 3.e-01, 4.e-01, 5.e-01, 6.e-01, 7.e-01,\n",
      "       8.e-01, 9.e-01, 1.e+00, 2.e+00, 3.e+00, 4.e+00, 5.e+00, 6.e+00,\n",
      "       7.e+00, 8.e+00, 9.e+00, 1.e+01, 2.e+01, 3.e+01, 4.e+01, 5.e+01,\n",
      "       6.e+01, 7.e+01, 8.e+01, 9.e+01, 1.e+02, 2.e+02, 3.e+02, 4.e+02,\n",
      "       5.e+02, 6.e+02, 7.e+02, 8.e+02, 9.e+02, 1.e+03, 2.e+03, 3.e+03,\n",
      "       4.e+03, 5.e+03, 6.e+03, 7.e+03, 8.e+03, 9.e+03, 1.e+04, 2.e+04,\n",
      "       3.e+04, 4.e+04, 5.e+04, 6.e+04, 7.e+04, 8.e+04, 9.e+04, 1.e+05,\n",
      "       2.e+05, 3.e+05, 4.e+05, 5.e+05, 6.e+05, 7.e+05, 8.e+05, 9.e+05,\n",
      "       1.e+06, 2.e+06, 3.e+06, 4.e+06, 5.e+06, 6.e+06, 7.e+06, 8.e+06,\n",
      "       9.e+06, 1.e+07, 2.e+07, 3.e+07, 4.e+07, 5.e+07, 6.e+07, 7.e+07,\n",
      "       8.e+07, 9.e+07, 1.e+08, 2.e+08, 3.e+08, 4.e+08, 5.e+08, 6.e+08,\n",
      "       7.e+08, 8.e+08, 9.e+08])\n",
      "2025-01-23 13:35:54,473 - matplotlib.ticker - vmin 5.011872336272722 vmax 19952623.149688788\n",
      "2025-01-23 13:35:54,473 - matplotlib.ticker - ticklocs array([1.e-01, 1.e+00, 1.e+01, 1.e+02, 1.e+03, 1.e+04, 1.e+05, 1.e+06,\n",
      "       1.e+07, 1.e+08, 1.e+09])\n",
      "2025-01-23 13:35:54,483 - matplotlib.ticker - vmin 5.011872336272722 vmax 19952623.149688788\n",
      "2025-01-23 13:35:54,483 - matplotlib.ticker - ticklocs array([1.e-01, 1.e+00, 1.e+01, 1.e+02, 1.e+03, 1.e+04, 1.e+05, 1.e+06,\n",
      "       1.e+07, 1.e+08, 1.e+09])\n",
      "2025-01-23 13:35:54,484 - matplotlib.ticker - vmin 5.011872336272722 vmax 19952623.149688788\n",
      "2025-01-23 13:35:54,485 - matplotlib.ticker - ticklocs array([1.e-02, 2.e-02, 3.e-02, 4.e-02, 5.e-02, 6.e-02, 7.e-02, 8.e-02,\n",
      "       9.e-02, 1.e-01, 2.e-01, 3.e-01, 4.e-01, 5.e-01, 6.e-01, 7.e-01,\n",
      "       8.e-01, 9.e-01, 1.e+00, 2.e+00, 3.e+00, 4.e+00, 5.e+00, 6.e+00,\n",
      "       7.e+00, 8.e+00, 9.e+00, 1.e+01, 2.e+01, 3.e+01, 4.e+01, 5.e+01,\n",
      "       6.e+01, 7.e+01, 8.e+01, 9.e+01, 1.e+02, 2.e+02, 3.e+02, 4.e+02,\n",
      "       5.e+02, 6.e+02, 7.e+02, 8.e+02, 9.e+02, 1.e+03, 2.e+03, 3.e+03,\n",
      "       4.e+03, 5.e+03, 6.e+03, 7.e+03, 8.e+03, 9.e+03, 1.e+04, 2.e+04,\n",
      "       3.e+04, 4.e+04, 5.e+04, 6.e+04, 7.e+04, 8.e+04, 9.e+04, 1.e+05,\n",
      "       2.e+05, 3.e+05, 4.e+05, 5.e+05, 6.e+05, 7.e+05, 8.e+05, 9.e+05,\n",
      "       1.e+06, 2.e+06, 3.e+06, 4.e+06, 5.e+06, 6.e+06, 7.e+06, 8.e+06,\n",
      "       9.e+06, 1.e+07, 2.e+07, 3.e+07, 4.e+07, 5.e+07, 6.e+07, 7.e+07,\n",
      "       8.e+07, 9.e+07, 1.e+08, 2.e+08, 3.e+08, 4.e+08, 5.e+08, 6.e+08,\n",
      "       7.e+08, 8.e+08, 9.e+08])\n",
      "2025-01-23 13:35:54,485 - matplotlib.ticker - vmin 5.011872336272722 vmax 19952623.149688788\n",
      "2025-01-23 13:35:54,486 - matplotlib.ticker - ticklocs array([1.e-01, 1.e+00, 1.e+01, 1.e+02, 1.e+03, 1.e+04, 1.e+05, 1.e+06,\n",
      "       1.e+07, 1.e+08, 1.e+09])\n",
      "2025-01-23 13:35:54,496 - matplotlib.ticker - vmin 5.011872336272722 vmax 19952623.149688788\n",
      "2025-01-23 13:35:54,497 - matplotlib.ticker - ticklocs array([1.e-01, 1.e+00, 1.e+01, 1.e+02, 1.e+03, 1.e+04, 1.e+05, 1.e+06,\n",
      "       1.e+07, 1.e+08, 1.e+09])\n",
      "2025-01-23 13:35:54,498 - matplotlib.ticker - vmin 5.011872336272722 vmax 19952623.149688788\n",
      "2025-01-23 13:35:54,498 - matplotlib.ticker - ticklocs array([1.e-02, 2.e-02, 3.e-02, 4.e-02, 5.e-02, 6.e-02, 7.e-02, 8.e-02,\n",
      "       9.e-02, 1.e-01, 2.e-01, 3.e-01, 4.e-01, 5.e-01, 6.e-01, 7.e-01,\n",
      "       8.e-01, 9.e-01, 1.e+00, 2.e+00, 3.e+00, 4.e+00, 5.e+00, 6.e+00,\n",
      "       7.e+00, 8.e+00, 9.e+00, 1.e+01, 2.e+01, 3.e+01, 4.e+01, 5.e+01,\n",
      "       6.e+01, 7.e+01, 8.e+01, 9.e+01, 1.e+02, 2.e+02, 3.e+02, 4.e+02,\n",
      "       5.e+02, 6.e+02, 7.e+02, 8.e+02, 9.e+02, 1.e+03, 2.e+03, 3.e+03,\n",
      "       4.e+03, 5.e+03, 6.e+03, 7.e+03, 8.e+03, 9.e+03, 1.e+04, 2.e+04,\n",
      "       3.e+04, 4.e+04, 5.e+04, 6.e+04, 7.e+04, 8.e+04, 9.e+04, 1.e+05,\n",
      "       2.e+05, 3.e+05, 4.e+05, 5.e+05, 6.e+05, 7.e+05, 8.e+05, 9.e+05,\n",
      "       1.e+06, 2.e+06, 3.e+06, 4.e+06, 5.e+06, 6.e+06, 7.e+06, 8.e+06,\n",
      "       9.e+06, 1.e+07, 2.e+07, 3.e+07, 4.e+07, 5.e+07, 6.e+07, 7.e+07,\n",
      "       8.e+07, 9.e+07, 1.e+08, 2.e+08, 3.e+08, 4.e+08, 5.e+08, 6.e+08,\n",
      "       7.e+08, 8.e+08, 9.e+08])\n",
      "2025-01-23 13:35:54,499 - matplotlib.ticker - vmin 5.011872336272722 vmax 19952623.149688788\n",
      "2025-01-23 13:35:54,500 - matplotlib.ticker - ticklocs array([1.e-01, 1.e+00, 1.e+01, 1.e+02, 1.e+03, 1.e+04, 1.e+05, 1.e+06,\n",
      "       1.e+07, 1.e+08, 1.e+09])\n",
      "2025-01-23 13:35:54,505 - matplotlib.ticker - vmin 5.011872336272722 vmax 19952623.149688788\n",
      "2025-01-23 13:35:54,506 - matplotlib.ticker - ticklocs array([1.e-01, 1.e+00, 1.e+01, 1.e+02, 1.e+03, 1.e+04, 1.e+05, 1.e+06,\n",
      "       1.e+07, 1.e+08, 1.e+09])\n",
      "2025-01-23 13:35:54,507 - matplotlib.ticker - vmin 5.011872336272722 vmax 19952623.149688788\n",
      "2025-01-23 13:35:54,507 - matplotlib.ticker - ticklocs array([1.e-02, 2.e-02, 3.e-02, 4.e-02, 5.e-02, 6.e-02, 7.e-02, 8.e-02,\n",
      "       9.e-02, 1.e-01, 2.e-01, 3.e-01, 4.e-01, 5.e-01, 6.e-01, 7.e-01,\n",
      "       8.e-01, 9.e-01, 1.e+00, 2.e+00, 3.e+00, 4.e+00, 5.e+00, 6.e+00,\n",
      "       7.e+00, 8.e+00, 9.e+00, 1.e+01, 2.e+01, 3.e+01, 4.e+01, 5.e+01,\n",
      "       6.e+01, 7.e+01, 8.e+01, 9.e+01, 1.e+02, 2.e+02, 3.e+02, 4.e+02,\n",
      "       5.e+02, 6.e+02, 7.e+02, 8.e+02, 9.e+02, 1.e+03, 2.e+03, 3.e+03,\n",
      "       4.e+03, 5.e+03, 6.e+03, 7.e+03, 8.e+03, 9.e+03, 1.e+04, 2.e+04,\n",
      "       3.e+04, 4.e+04, 5.e+04, 6.e+04, 7.e+04, 8.e+04, 9.e+04, 1.e+05,\n",
      "       2.e+05, 3.e+05, 4.e+05, 5.e+05, 6.e+05, 7.e+05, 8.e+05, 9.e+05,\n",
      "       1.e+06, 2.e+06, 3.e+06, 4.e+06, 5.e+06, 6.e+06, 7.e+06, 8.e+06,\n",
      "       9.e+06, 1.e+07, 2.e+07, 3.e+07, 4.e+07, 5.e+07, 6.e+07, 7.e+07,\n",
      "       8.e+07, 9.e+07, 1.e+08, 2.e+08, 3.e+08, 4.e+08, 5.e+08, 6.e+08,\n",
      "       7.e+08, 8.e+08, 9.e+08])\n",
      "2025-01-23 13:35:54,509 - matplotlib.ticker - vmin 5.011872336272722 vmax 19952623.149688788\n",
      "2025-01-23 13:35:54,510 - matplotlib.ticker - ticklocs array([1.e-01, 1.e+00, 1.e+01, 1.e+02, 1.e+03, 1.e+04, 1.e+05, 1.e+06,\n",
      "       1.e+07, 1.e+08, 1.e+09])\n",
      "2025-01-23 13:35:54,519 - matplotlib.ticker - vmin 5.011872336272722 vmax 19952623.149688788\n",
      "2025-01-23 13:35:54,521 - matplotlib.ticker - ticklocs array([1.e-01, 1.e+00, 1.e+01, 1.e+02, 1.e+03, 1.e+04, 1.e+05, 1.e+06,\n",
      "       1.e+07, 1.e+08, 1.e+09])\n",
      "2025-01-23 13:35:54,523 - matplotlib.ticker - vmin 5.011872336272722 vmax 19952623.149688788\n",
      "2025-01-23 13:35:54,524 - matplotlib.ticker - ticklocs array([1.e-02, 2.e-02, 3.e-02, 4.e-02, 5.e-02, 6.e-02, 7.e-02, 8.e-02,\n",
      "       9.e-02, 1.e-01, 2.e-01, 3.e-01, 4.e-01, 5.e-01, 6.e-01, 7.e-01,\n",
      "       8.e-01, 9.e-01, 1.e+00, 2.e+00, 3.e+00, 4.e+00, 5.e+00, 6.e+00,\n",
      "       7.e+00, 8.e+00, 9.e+00, 1.e+01, 2.e+01, 3.e+01, 4.e+01, 5.e+01,\n",
      "       6.e+01, 7.e+01, 8.e+01, 9.e+01, 1.e+02, 2.e+02, 3.e+02, 4.e+02,\n",
      "       5.e+02, 6.e+02, 7.e+02, 8.e+02, 9.e+02, 1.e+03, 2.e+03, 3.e+03,\n",
      "       4.e+03, 5.e+03, 6.e+03, 7.e+03, 8.e+03, 9.e+03, 1.e+04, 2.e+04,\n",
      "       3.e+04, 4.e+04, 5.e+04, 6.e+04, 7.e+04, 8.e+04, 9.e+04, 1.e+05,\n",
      "       2.e+05, 3.e+05, 4.e+05, 5.e+05, 6.e+05, 7.e+05, 8.e+05, 9.e+05,\n",
      "       1.e+06, 2.e+06, 3.e+06, 4.e+06, 5.e+06, 6.e+06, 7.e+06, 8.e+06,\n",
      "       9.e+06, 1.e+07, 2.e+07, 3.e+07, 4.e+07, 5.e+07, 6.e+07, 7.e+07,\n",
      "       8.e+07, 9.e+07, 1.e+08, 2.e+08, 3.e+08, 4.e+08, 5.e+08, 6.e+08,\n",
      "       7.e+08, 8.e+08, 9.e+08])\n",
      "2025-01-23 13:35:54,525 - matplotlib.ticker - vmin 5.011872336272722 vmax 19952623.149688788\n",
      "2025-01-23 13:35:54,525 - matplotlib.ticker - ticklocs array([1.e-01, 1.e+00, 1.e+01, 1.e+02, 1.e+03, 1.e+04, 1.e+05, 1.e+06,\n",
      "       1.e+07, 1.e+08, 1.e+09])\n",
      "2025-01-23 13:35:54,527 - matplotlib.ticker - vmin 5.011872336272722 vmax 19952623.149688788\n",
      "2025-01-23 13:35:54,528 - matplotlib.ticker - ticklocs array([1.e-01, 1.e+00, 1.e+01, 1.e+02, 1.e+03, 1.e+04, 1.e+05, 1.e+06,\n",
      "       1.e+07, 1.e+08, 1.e+09])\n",
      "2025-01-23 13:35:54,528 - matplotlib.ticker - vmin 5.011872336272722 vmax 19952623.149688788\n",
      "2025-01-23 13:35:54,528 - matplotlib.ticker - ticklocs array([1.e-02, 2.e-02, 3.e-02, 4.e-02, 5.e-02, 6.e-02, 7.e-02, 8.e-02,\n",
      "       9.e-02, 1.e-01, 2.e-01, 3.e-01, 4.e-01, 5.e-01, 6.e-01, 7.e-01,\n",
      "       8.e-01, 9.e-01, 1.e+00, 2.e+00, 3.e+00, 4.e+00, 5.e+00, 6.e+00,\n",
      "       7.e+00, 8.e+00, 9.e+00, 1.e+01, 2.e+01, 3.e+01, 4.e+01, 5.e+01,\n",
      "       6.e+01, 7.e+01, 8.e+01, 9.e+01, 1.e+02, 2.e+02, 3.e+02, 4.e+02,\n",
      "       5.e+02, 6.e+02, 7.e+02, 8.e+02, 9.e+02, 1.e+03, 2.e+03, 3.e+03,\n",
      "       4.e+03, 5.e+03, 6.e+03, 7.e+03, 8.e+03, 9.e+03, 1.e+04, 2.e+04,\n",
      "       3.e+04, 4.e+04, 5.e+04, 6.e+04, 7.e+04, 8.e+04, 9.e+04, 1.e+05,\n",
      "       2.e+05, 3.e+05, 4.e+05, 5.e+05, 6.e+05, 7.e+05, 8.e+05, 9.e+05,\n",
      "       1.e+06, 2.e+06, 3.e+06, 4.e+06, 5.e+06, 6.e+06, 7.e+06, 8.e+06,\n",
      "       9.e+06, 1.e+07, 2.e+07, 3.e+07, 4.e+07, 5.e+07, 6.e+07, 7.e+07,\n",
      "       8.e+07, 9.e+07, 1.e+08, 2.e+08, 3.e+08, 4.e+08, 5.e+08, 6.e+08,\n",
      "       7.e+08, 8.e+08, 9.e+08])\n",
      "2025-01-23 13:35:54,529 - matplotlib.ticker - vmin 5.011872336272722 vmax 19952623.149688788\n",
      "2025-01-23 13:35:54,530 - matplotlib.ticker - ticklocs array([1.e-01, 1.e+00, 1.e+01, 1.e+02, 1.e+03, 1.e+04, 1.e+05, 1.e+06,\n",
      "       1.e+07, 1.e+08, 1.e+09])\n",
      "2025-01-23 13:35:54,534 - matplotlib.ticker - vmin 5.011872336272722 vmax 19952623.149688788\n",
      "2025-01-23 13:35:54,534 - matplotlib.ticker - ticklocs array([1.e-01, 1.e+00, 1.e+01, 1.e+02, 1.e+03, 1.e+04, 1.e+05, 1.e+06,\n",
      "       1.e+07, 1.e+08, 1.e+09])\n",
      "2025-01-23 13:35:54,535 - matplotlib.ticker - vmin 5.011872336272722 vmax 19952623.149688788\n",
      "2025-01-23 13:35:54,535 - matplotlib.ticker - ticklocs array([1.e-02, 2.e-02, 3.e-02, 4.e-02, 5.e-02, 6.e-02, 7.e-02, 8.e-02,\n",
      "       9.e-02, 1.e-01, 2.e-01, 3.e-01, 4.e-01, 5.e-01, 6.e-01, 7.e-01,\n",
      "       8.e-01, 9.e-01, 1.e+00, 2.e+00, 3.e+00, 4.e+00, 5.e+00, 6.e+00,\n",
      "       7.e+00, 8.e+00, 9.e+00, 1.e+01, 2.e+01, 3.e+01, 4.e+01, 5.e+01,\n",
      "       6.e+01, 7.e+01, 8.e+01, 9.e+01, 1.e+02, 2.e+02, 3.e+02, 4.e+02,\n",
      "       5.e+02, 6.e+02, 7.e+02, 8.e+02, 9.e+02, 1.e+03, 2.e+03, 3.e+03,\n",
      "       4.e+03, 5.e+03, 6.e+03, 7.e+03, 8.e+03, 9.e+03, 1.e+04, 2.e+04,\n",
      "       3.e+04, 4.e+04, 5.e+04, 6.e+04, 7.e+04, 8.e+04, 9.e+04, 1.e+05,\n",
      "       2.e+05, 3.e+05, 4.e+05, 5.e+05, 6.e+05, 7.e+05, 8.e+05, 9.e+05,\n",
      "       1.e+06, 2.e+06, 3.e+06, 4.e+06, 5.e+06, 6.e+06, 7.e+06, 8.e+06,\n",
      "       9.e+06, 1.e+07, 2.e+07, 3.e+07, 4.e+07, 5.e+07, 6.e+07, 7.e+07,\n",
      "       8.e+07, 9.e+07, 1.e+08, 2.e+08, 3.e+08, 4.e+08, 5.e+08, 6.e+08,\n",
      "       7.e+08, 8.e+08, 9.e+08])\n",
      "2025-01-23 13:35:54,535 - matplotlib.ticker - vmin 5.011872336272722 vmax 19952623.149688788\n",
      "2025-01-23 13:35:54,536 - matplotlib.ticker - ticklocs array([1.e-01, 1.e+00, 1.e+01, 1.e+02, 1.e+03, 1.e+04, 1.e+05, 1.e+06,\n",
      "       1.e+07, 1.e+08, 1.e+09])\n",
      "2025-01-23 13:35:54,547 - matplotlib.ticker - vmin 5.011872336272722 vmax 19952623.149688788\n",
      "2025-01-23 13:35:54,547 - matplotlib.ticker - ticklocs array([1.e-01, 1.e+00, 1.e+01, 1.e+02, 1.e+03, 1.e+04, 1.e+05, 1.e+06,\n",
      "       1.e+07, 1.e+08, 1.e+09])\n",
      "2025-01-23 13:35:54,547 - matplotlib.ticker - vmin 5.011872336272722 vmax 19952623.149688788\n",
      "2025-01-23 13:35:54,548 - matplotlib.ticker - ticklocs array([1.e-02, 2.e-02, 3.e-02, 4.e-02, 5.e-02, 6.e-02, 7.e-02, 8.e-02,\n",
      "       9.e-02, 1.e-01, 2.e-01, 3.e-01, 4.e-01, 5.e-01, 6.e-01, 7.e-01,\n",
      "       8.e-01, 9.e-01, 1.e+00, 2.e+00, 3.e+00, 4.e+00, 5.e+00, 6.e+00,\n",
      "       7.e+00, 8.e+00, 9.e+00, 1.e+01, 2.e+01, 3.e+01, 4.e+01, 5.e+01,\n",
      "       6.e+01, 7.e+01, 8.e+01, 9.e+01, 1.e+02, 2.e+02, 3.e+02, 4.e+02,\n",
      "       5.e+02, 6.e+02, 7.e+02, 8.e+02, 9.e+02, 1.e+03, 2.e+03, 3.e+03,\n",
      "       4.e+03, 5.e+03, 6.e+03, 7.e+03, 8.e+03, 9.e+03, 1.e+04, 2.e+04,\n",
      "       3.e+04, 4.e+04, 5.e+04, 6.e+04, 7.e+04, 8.e+04, 9.e+04, 1.e+05,\n",
      "       2.e+05, 3.e+05, 4.e+05, 5.e+05, 6.e+05, 7.e+05, 8.e+05, 9.e+05,\n",
      "       1.e+06, 2.e+06, 3.e+06, 4.e+06, 5.e+06, 6.e+06, 7.e+06, 8.e+06,\n",
      "       9.e+06, 1.e+07, 2.e+07, 3.e+07, 4.e+07, 5.e+07, 6.e+07, 7.e+07,\n",
      "       8.e+07, 9.e+07, 1.e+08, 2.e+08, 3.e+08, 4.e+08, 5.e+08, 6.e+08,\n",
      "       7.e+08, 8.e+08, 9.e+08])\n",
      "2025-01-23 13:35:54,548 - matplotlib.ticker - vmin 5.011872336272722 vmax 19952623.149688788\n",
      "2025-01-23 13:35:54,549 - matplotlib.ticker - ticklocs array([1.e-01, 1.e+00, 1.e+01, 1.e+02, 1.e+03, 1.e+04, 1.e+05, 1.e+06,\n",
      "       1.e+07, 1.e+08, 1.e+09])\n",
      "2025-01-23 13:35:54,551 - matplotlib.ticker - vmin 5.011872336272722 vmax 19952623.149688788\n",
      "2025-01-23 13:35:54,551 - matplotlib.ticker - ticklocs array([1.e-01, 1.e+00, 1.e+01, 1.e+02, 1.e+03, 1.e+04, 1.e+05, 1.e+06,\n",
      "       1.e+07, 1.e+08, 1.e+09])\n",
      "2025-01-23 13:35:54,552 - matplotlib.ticker - vmin 5.011872336272722 vmax 19952623.149688788\n",
      "2025-01-23 13:35:54,553 - matplotlib.ticker - ticklocs array([1.e-02, 2.e-02, 3.e-02, 4.e-02, 5.e-02, 6.e-02, 7.e-02, 8.e-02,\n",
      "       9.e-02, 1.e-01, 2.e-01, 3.e-01, 4.e-01, 5.e-01, 6.e-01, 7.e-01,\n",
      "       8.e-01, 9.e-01, 1.e+00, 2.e+00, 3.e+00, 4.e+00, 5.e+00, 6.e+00,\n",
      "       7.e+00, 8.e+00, 9.e+00, 1.e+01, 2.e+01, 3.e+01, 4.e+01, 5.e+01,\n",
      "       6.e+01, 7.e+01, 8.e+01, 9.e+01, 1.e+02, 2.e+02, 3.e+02, 4.e+02,\n",
      "       5.e+02, 6.e+02, 7.e+02, 8.e+02, 9.e+02, 1.e+03, 2.e+03, 3.e+03,\n",
      "       4.e+03, 5.e+03, 6.e+03, 7.e+03, 8.e+03, 9.e+03, 1.e+04, 2.e+04,\n",
      "       3.e+04, 4.e+04, 5.e+04, 6.e+04, 7.e+04, 8.e+04, 9.e+04, 1.e+05,\n",
      "       2.e+05, 3.e+05, 4.e+05, 5.e+05, 6.e+05, 7.e+05, 8.e+05, 9.e+05,\n",
      "       1.e+06, 2.e+06, 3.e+06, 4.e+06, 5.e+06, 6.e+06, 7.e+06, 8.e+06,\n",
      "       9.e+06, 1.e+07, 2.e+07, 3.e+07, 4.e+07, 5.e+07, 6.e+07, 7.e+07,\n",
      "       8.e+07, 9.e+07, 1.e+08, 2.e+08, 3.e+08, 4.e+08, 5.e+08, 6.e+08,\n",
      "       7.e+08, 8.e+08, 9.e+08])\n",
      "2025-01-23 13:35:54,554 - matplotlib.ticker - vmin 5.011872336272722 vmax 19952623.149688788\n",
      "2025-01-23 13:35:54,555 - matplotlib.ticker - ticklocs array([1.e-01, 1.e+00, 1.e+01, 1.e+02, 1.e+03, 1.e+04, 1.e+05, 1.e+06,\n",
      "       1.e+07, 1.e+08, 1.e+09])\n",
      "2025-01-23 13:35:54,557 - matplotlib.ticker - vmin 5.011872336272722 vmax 19952623.149688788\n",
      "2025-01-23 13:35:54,558 - matplotlib.ticker - ticklocs array([1.e-01, 1.e+00, 1.e+01, 1.e+02, 1.e+03, 1.e+04, 1.e+05, 1.e+06,\n",
      "       1.e+07, 1.e+08, 1.e+09])\n",
      "2025-01-23 13:35:54,558 - matplotlib.ticker - vmin 5.011872336272722 vmax 19952623.149688788\n",
      "2025-01-23 13:35:54,558 - matplotlib.ticker - ticklocs array([1.e-02, 2.e-02, 3.e-02, 4.e-02, 5.e-02, 6.e-02, 7.e-02, 8.e-02,\n",
      "       9.e-02, 1.e-01, 2.e-01, 3.e-01, 4.e-01, 5.e-01, 6.e-01, 7.e-01,\n",
      "       8.e-01, 9.e-01, 1.e+00, 2.e+00, 3.e+00, 4.e+00, 5.e+00, 6.e+00,\n",
      "       7.e+00, 8.e+00, 9.e+00, 1.e+01, 2.e+01, 3.e+01, 4.e+01, 5.e+01,\n",
      "       6.e+01, 7.e+01, 8.e+01, 9.e+01, 1.e+02, 2.e+02, 3.e+02, 4.e+02,\n",
      "       5.e+02, 6.e+02, 7.e+02, 8.e+02, 9.e+02, 1.e+03, 2.e+03, 3.e+03,\n",
      "       4.e+03, 5.e+03, 6.e+03, 7.e+03, 8.e+03, 9.e+03, 1.e+04, 2.e+04,\n",
      "       3.e+04, 4.e+04, 5.e+04, 6.e+04, 7.e+04, 8.e+04, 9.e+04, 1.e+05,\n",
      "       2.e+05, 3.e+05, 4.e+05, 5.e+05, 6.e+05, 7.e+05, 8.e+05, 9.e+05,\n",
      "       1.e+06, 2.e+06, 3.e+06, 4.e+06, 5.e+06, 6.e+06, 7.e+06, 8.e+06,\n",
      "       9.e+06, 1.e+07, 2.e+07, 3.e+07, 4.e+07, 5.e+07, 6.e+07, 7.e+07,\n",
      "       8.e+07, 9.e+07, 1.e+08, 2.e+08, 3.e+08, 4.e+08, 5.e+08, 6.e+08,\n",
      "       7.e+08, 8.e+08, 9.e+08])\n",
      "2025-01-23 13:35:54,559 - matplotlib.ticker - vmin 5.011872336272722 vmax 19952623.149688788\n",
      "2025-01-23 13:35:54,560 - matplotlib.ticker - ticklocs array([1.e-01, 1.e+00, 1.e+01, 1.e+02, 1.e+03, 1.e+04, 1.e+05, 1.e+06,\n",
      "       1.e+07, 1.e+08, 1.e+09])\n",
      "2025-01-23 13:35:54,563 - matplotlib.ticker - vmin 5.011872336272722 vmax 19952623.149688788\n",
      "2025-01-23 13:35:54,563 - matplotlib.ticker - ticklocs array([1.e-01, 1.e+00, 1.e+01, 1.e+02, 1.e+03, 1.e+04, 1.e+05, 1.e+06,\n",
      "       1.e+07, 1.e+08, 1.e+09])\n",
      "2025-01-23 13:35:54,563 - matplotlib.ticker - vmin 5.011872336272722 vmax 19952623.149688788\n",
      "2025-01-23 13:35:54,564 - matplotlib.ticker - ticklocs array([1.e-02, 2.e-02, 3.e-02, 4.e-02, 5.e-02, 6.e-02, 7.e-02, 8.e-02,\n",
      "       9.e-02, 1.e-01, 2.e-01, 3.e-01, 4.e-01, 5.e-01, 6.e-01, 7.e-01,\n",
      "       8.e-01, 9.e-01, 1.e+00, 2.e+00, 3.e+00, 4.e+00, 5.e+00, 6.e+00,\n",
      "       7.e+00, 8.e+00, 9.e+00, 1.e+01, 2.e+01, 3.e+01, 4.e+01, 5.e+01,\n",
      "       6.e+01, 7.e+01, 8.e+01, 9.e+01, 1.e+02, 2.e+02, 3.e+02, 4.e+02,\n",
      "       5.e+02, 6.e+02, 7.e+02, 8.e+02, 9.e+02, 1.e+03, 2.e+03, 3.e+03,\n",
      "       4.e+03, 5.e+03, 6.e+03, 7.e+03, 8.e+03, 9.e+03, 1.e+04, 2.e+04,\n",
      "       3.e+04, 4.e+04, 5.e+04, 6.e+04, 7.e+04, 8.e+04, 9.e+04, 1.e+05,\n",
      "       2.e+05, 3.e+05, 4.e+05, 5.e+05, 6.e+05, 7.e+05, 8.e+05, 9.e+05,\n",
      "       1.e+06, 2.e+06, 3.e+06, 4.e+06, 5.e+06, 6.e+06, 7.e+06, 8.e+06,\n",
      "       9.e+06, 1.e+07, 2.e+07, 3.e+07, 4.e+07, 5.e+07, 6.e+07, 7.e+07,\n",
      "       8.e+07, 9.e+07, 1.e+08, 2.e+08, 3.e+08, 4.e+08, 5.e+08, 6.e+08,\n",
      "       7.e+08, 8.e+08, 9.e+08])\n",
      "2025-01-23 13:35:54,564 - matplotlib.ticker - vmin 5.011872336272722 vmax 19952623.149688788\n",
      "2025-01-23 13:35:54,565 - matplotlib.ticker - ticklocs array([1.e-01, 1.e+00, 1.e+01, 1.e+02, 1.e+03, 1.e+04, 1.e+05, 1.e+06,\n",
      "       1.e+07, 1.e+08, 1.e+09])\n",
      "2025-01-23 13:35:54,568 - matplotlib.ticker - vmin 5.011872336272722 vmax 19952623.149688788\n",
      "2025-01-23 13:35:54,569 - matplotlib.ticker - ticklocs array([1.e-01, 1.e+00, 1.e+01, 1.e+02, 1.e+03, 1.e+04, 1.e+05, 1.e+06,\n",
      "       1.e+07, 1.e+08, 1.e+09])\n",
      "2025-01-23 13:35:54,571 - matplotlib.ticker - vmin 5.011872336272722 vmax 19952623.149688788\n",
      "2025-01-23 13:35:54,571 - matplotlib.ticker - ticklocs array([1.e-02, 2.e-02, 3.e-02, 4.e-02, 5.e-02, 6.e-02, 7.e-02, 8.e-02,\n",
      "       9.e-02, 1.e-01, 2.e-01, 3.e-01, 4.e-01, 5.e-01, 6.e-01, 7.e-01,\n",
      "       8.e-01, 9.e-01, 1.e+00, 2.e+00, 3.e+00, 4.e+00, 5.e+00, 6.e+00,\n",
      "       7.e+00, 8.e+00, 9.e+00, 1.e+01, 2.e+01, 3.e+01, 4.e+01, 5.e+01,\n",
      "       6.e+01, 7.e+01, 8.e+01, 9.e+01, 1.e+02, 2.e+02, 3.e+02, 4.e+02,\n",
      "       5.e+02, 6.e+02, 7.e+02, 8.e+02, 9.e+02, 1.e+03, 2.e+03, 3.e+03,\n",
      "       4.e+03, 5.e+03, 6.e+03, 7.e+03, 8.e+03, 9.e+03, 1.e+04, 2.e+04,\n",
      "       3.e+04, 4.e+04, 5.e+04, 6.e+04, 7.e+04, 8.e+04, 9.e+04, 1.e+05,\n",
      "       2.e+05, 3.e+05, 4.e+05, 5.e+05, 6.e+05, 7.e+05, 8.e+05, 9.e+05,\n",
      "       1.e+06, 2.e+06, 3.e+06, 4.e+06, 5.e+06, 6.e+06, 7.e+06, 8.e+06,\n",
      "       9.e+06, 1.e+07, 2.e+07, 3.e+07, 4.e+07, 5.e+07, 6.e+07, 7.e+07,\n",
      "       8.e+07, 9.e+07, 1.e+08, 2.e+08, 3.e+08, 4.e+08, 5.e+08, 6.e+08,\n",
      "       7.e+08, 8.e+08, 9.e+08])\n",
      "2025-01-23 13:35:54,573 - matplotlib.ticker - vmin 5.011872336272722 vmax 19952623.149688788\n",
      "2025-01-23 13:35:54,573 - matplotlib.ticker - ticklocs array([1.e-01, 1.e+00, 1.e+01, 1.e+02, 1.e+03, 1.e+04, 1.e+05, 1.e+06,\n",
      "       1.e+07, 1.e+08, 1.e+09])\n",
      "2025-01-23 13:35:54,582 - matplotlib.ticker - vmin 5.011872336272722 vmax 19952623.149688788\n",
      "2025-01-23 13:35:54,583 - matplotlib.ticker - ticklocs array([1.e-01, 1.e+00, 1.e+01, 1.e+02, 1.e+03, 1.e+04, 1.e+05, 1.e+06,\n",
      "       1.e+07, 1.e+08, 1.e+09])\n",
      "2025-01-23 13:35:54,583 - matplotlib.ticker - vmin 5.011872336272722 vmax 19952623.149688788\n",
      "2025-01-23 13:35:54,584 - matplotlib.ticker - ticklocs array([1.e-02, 2.e-02, 3.e-02, 4.e-02, 5.e-02, 6.e-02, 7.e-02, 8.e-02,\n",
      "       9.e-02, 1.e-01, 2.e-01, 3.e-01, 4.e-01, 5.e-01, 6.e-01, 7.e-01,\n",
      "       8.e-01, 9.e-01, 1.e+00, 2.e+00, 3.e+00, 4.e+00, 5.e+00, 6.e+00,\n",
      "       7.e+00, 8.e+00, 9.e+00, 1.e+01, 2.e+01, 3.e+01, 4.e+01, 5.e+01,\n",
      "       6.e+01, 7.e+01, 8.e+01, 9.e+01, 1.e+02, 2.e+02, 3.e+02, 4.e+02,\n",
      "       5.e+02, 6.e+02, 7.e+02, 8.e+02, 9.e+02, 1.e+03, 2.e+03, 3.e+03,\n",
      "       4.e+03, 5.e+03, 6.e+03, 7.e+03, 8.e+03, 9.e+03, 1.e+04, 2.e+04,\n",
      "       3.e+04, 4.e+04, 5.e+04, 6.e+04, 7.e+04, 8.e+04, 9.e+04, 1.e+05,\n",
      "       2.e+05, 3.e+05, 4.e+05, 5.e+05, 6.e+05, 7.e+05, 8.e+05, 9.e+05,\n",
      "       1.e+06, 2.e+06, 3.e+06, 4.e+06, 5.e+06, 6.e+06, 7.e+06, 8.e+06,\n",
      "       9.e+06, 1.e+07, 2.e+07, 3.e+07, 4.e+07, 5.e+07, 6.e+07, 7.e+07,\n",
      "       8.e+07, 9.e+07, 1.e+08, 2.e+08, 3.e+08, 4.e+08, 5.e+08, 6.e+08,\n",
      "       7.e+08, 8.e+08, 9.e+08])\n",
      "2025-01-23 13:35:54,585 - matplotlib.ticker - vmin 5.011872336272722 vmax 19952623.149688788\n",
      "2025-01-23 13:35:54,626 - matplotlib.ticker - ticklocs array([1.e-01, 1.e+00, 1.e+01, 1.e+02, 1.e+03, 1.e+04, 1.e+05, 1.e+06,\n",
      "       1.e+07, 1.e+08, 1.e+09])\n",
      "2025-01-23 13:35:54,629 - matplotlib.ticker - vmin 5.011872336272722 vmax 19952623.149688788\n",
      "2025-01-23 13:35:54,629 - matplotlib.ticker - ticklocs array([1.e-01, 1.e+00, 1.e+01, 1.e+02, 1.e+03, 1.e+04, 1.e+05, 1.e+06,\n",
      "       1.e+07, 1.e+08, 1.e+09])\n",
      "2025-01-23 13:35:54,630 - matplotlib.ticker - vmin 5.011872336272722 vmax 19952623.149688788\n",
      "2025-01-23 13:35:54,635 - matplotlib.ticker - ticklocs array([1.e-02, 2.e-02, 3.e-02, 4.e-02, 5.e-02, 6.e-02, 7.e-02, 8.e-02,\n",
      "       9.e-02, 1.e-01, 2.e-01, 3.e-01, 4.e-01, 5.e-01, 6.e-01, 7.e-01,\n",
      "       8.e-01, 9.e-01, 1.e+00, 2.e+00, 3.e+00, 4.e+00, 5.e+00, 6.e+00,\n",
      "       7.e+00, 8.e+00, 9.e+00, 1.e+01, 2.e+01, 3.e+01, 4.e+01, 5.e+01,\n",
      "       6.e+01, 7.e+01, 8.e+01, 9.e+01, 1.e+02, 2.e+02, 3.e+02, 4.e+02,\n",
      "       5.e+02, 6.e+02, 7.e+02, 8.e+02, 9.e+02, 1.e+03, 2.e+03, 3.e+03,\n",
      "       4.e+03, 5.e+03, 6.e+03, 7.e+03, 8.e+03, 9.e+03, 1.e+04, 2.e+04,\n",
      "       3.e+04, 4.e+04, 5.e+04, 6.e+04, 7.e+04, 8.e+04, 9.e+04, 1.e+05,\n",
      "       2.e+05, 3.e+05, 4.e+05, 5.e+05, 6.e+05, 7.e+05, 8.e+05, 9.e+05,\n",
      "       1.e+06, 2.e+06, 3.e+06, 4.e+06, 5.e+06, 6.e+06, 7.e+06, 8.e+06,\n",
      "       9.e+06, 1.e+07, 2.e+07, 3.e+07, 4.e+07, 5.e+07, 6.e+07, 7.e+07,\n",
      "       8.e+07, 9.e+07, 1.e+08, 2.e+08, 3.e+08, 4.e+08, 5.e+08, 6.e+08,\n",
      "       7.e+08, 8.e+08, 9.e+08])\n",
      "2025-01-23 13:35:54,640 - matplotlib.ticker - vmin 5.011872336272722 vmax 19952623.149688788\n",
      "2025-01-23 13:35:54,640 - matplotlib.ticker - ticklocs array([1.e-01, 1.e+00, 1.e+01, 1.e+02, 1.e+03, 1.e+04, 1.e+05, 1.e+06,\n",
      "       1.e+07, 1.e+08, 1.e+09])\n",
      "2025-01-23 13:35:54,651 - matplotlib.ticker - vmin 5.011872336272722 vmax 19952623.149688788\n",
      "2025-01-23 13:35:54,652 - matplotlib.ticker - ticklocs array([1.e-01, 1.e+00, 1.e+01, 1.e+02, 1.e+03, 1.e+04, 1.e+05, 1.e+06,\n",
      "       1.e+07, 1.e+08, 1.e+09])\n",
      "2025-01-23 13:35:54,653 - matplotlib.ticker - vmin 5.011872336272722 vmax 19952623.149688788\n",
      "2025-01-23 13:35:54,653 - matplotlib.ticker - ticklocs array([1.e-02, 2.e-02, 3.e-02, 4.e-02, 5.e-02, 6.e-02, 7.e-02, 8.e-02,\n",
      "       9.e-02, 1.e-01, 2.e-01, 3.e-01, 4.e-01, 5.e-01, 6.e-01, 7.e-01,\n",
      "       8.e-01, 9.e-01, 1.e+00, 2.e+00, 3.e+00, 4.e+00, 5.e+00, 6.e+00,\n",
      "       7.e+00, 8.e+00, 9.e+00, 1.e+01, 2.e+01, 3.e+01, 4.e+01, 5.e+01,\n",
      "       6.e+01, 7.e+01, 8.e+01, 9.e+01, 1.e+02, 2.e+02, 3.e+02, 4.e+02,\n",
      "       5.e+02, 6.e+02, 7.e+02, 8.e+02, 9.e+02, 1.e+03, 2.e+03, 3.e+03,\n",
      "       4.e+03, 5.e+03, 6.e+03, 7.e+03, 8.e+03, 9.e+03, 1.e+04, 2.e+04,\n",
      "       3.e+04, 4.e+04, 5.e+04, 6.e+04, 7.e+04, 8.e+04, 9.e+04, 1.e+05,\n",
      "       2.e+05, 3.e+05, 4.e+05, 5.e+05, 6.e+05, 7.e+05, 8.e+05, 9.e+05,\n",
      "       1.e+06, 2.e+06, 3.e+06, 4.e+06, 5.e+06, 6.e+06, 7.e+06, 8.e+06,\n",
      "       9.e+06, 1.e+07, 2.e+07, 3.e+07, 4.e+07, 5.e+07, 6.e+07, 7.e+07,\n",
      "       8.e+07, 9.e+07, 1.e+08, 2.e+08, 3.e+08, 4.e+08, 5.e+08, 6.e+08,\n",
      "       7.e+08, 8.e+08, 9.e+08])\n",
      "2025-01-23 13:35:54,654 - matplotlib.ticker - vmin 5.011872336272722 vmax 19952623.149688788\n",
      "2025-01-23 13:35:54,654 - matplotlib.ticker - ticklocs array([1.e-01, 1.e+00, 1.e+01, 1.e+02, 1.e+03, 1.e+04, 1.e+05, 1.e+06,\n",
      "       1.e+07, 1.e+08, 1.e+09])\n",
      "2025-01-23 13:35:54,686 - matplotlib.ticker - vmin 5.011872336272722 vmax 19952623.149688788\n",
      "2025-01-23 13:35:54,686 - matplotlib.ticker - ticklocs array([1.e-01, 1.e+00, 1.e+01, 1.e+02, 1.e+03, 1.e+04, 1.e+05, 1.e+06,\n",
      "       1.e+07, 1.e+08, 1.e+09])\n",
      "2025-01-23 13:35:54,687 - matplotlib.ticker - vmin 5.011872336272722 vmax 19952623.149688788\n",
      "2025-01-23 13:35:54,687 - matplotlib.ticker - ticklocs array([1.e-02, 2.e-02, 3.e-02, 4.e-02, 5.e-02, 6.e-02, 7.e-02, 8.e-02,\n",
      "       9.e-02, 1.e-01, 2.e-01, 3.e-01, 4.e-01, 5.e-01, 6.e-01, 7.e-01,\n",
      "       8.e-01, 9.e-01, 1.e+00, 2.e+00, 3.e+00, 4.e+00, 5.e+00, 6.e+00,\n",
      "       7.e+00, 8.e+00, 9.e+00, 1.e+01, 2.e+01, 3.e+01, 4.e+01, 5.e+01,\n",
      "       6.e+01, 7.e+01, 8.e+01, 9.e+01, 1.e+02, 2.e+02, 3.e+02, 4.e+02,\n",
      "       5.e+02, 6.e+02, 7.e+02, 8.e+02, 9.e+02, 1.e+03, 2.e+03, 3.e+03,\n",
      "       4.e+03, 5.e+03, 6.e+03, 7.e+03, 8.e+03, 9.e+03, 1.e+04, 2.e+04,\n",
      "       3.e+04, 4.e+04, 5.e+04, 6.e+04, 7.e+04, 8.e+04, 9.e+04, 1.e+05,\n",
      "       2.e+05, 3.e+05, 4.e+05, 5.e+05, 6.e+05, 7.e+05, 8.e+05, 9.e+05,\n",
      "       1.e+06, 2.e+06, 3.e+06, 4.e+06, 5.e+06, 6.e+06, 7.e+06, 8.e+06,\n",
      "       9.e+06, 1.e+07, 2.e+07, 3.e+07, 4.e+07, 5.e+07, 6.e+07, 7.e+07,\n",
      "       8.e+07, 9.e+07, 1.e+08, 2.e+08, 3.e+08, 4.e+08, 5.e+08, 6.e+08,\n",
      "       7.e+08, 8.e+08, 9.e+08])\n",
      "2025-01-23 13:35:54,688 - matplotlib.ticker - vmin 5.011872336272722 vmax 19952623.149688788\n",
      "2025-01-23 13:35:54,689 - matplotlib.ticker - ticklocs array([1.e-01, 1.e+00, 1.e+01, 1.e+02, 1.e+03, 1.e+04, 1.e+05, 1.e+06,\n",
      "       1.e+07, 1.e+08, 1.e+09])\n",
      "2025-01-23 13:35:54,693 - matplotlib.ticker - vmin 5.011872336272722 vmax 19952623.149688788\n",
      "2025-01-23 13:35:54,693 - matplotlib.ticker - ticklocs array([1.e-01, 1.e+00, 1.e+01, 1.e+02, 1.e+03, 1.e+04, 1.e+05, 1.e+06,\n",
      "       1.e+07, 1.e+08, 1.e+09])\n",
      "2025-01-23 13:35:54,694 - matplotlib.ticker - vmin 5.011872336272722 vmax 19952623.149688788\n",
      "2025-01-23 13:35:54,694 - matplotlib.ticker - ticklocs array([1.e-02, 2.e-02, 3.e-02, 4.e-02, 5.e-02, 6.e-02, 7.e-02, 8.e-02,\n",
      "       9.e-02, 1.e-01, 2.e-01, 3.e-01, 4.e-01, 5.e-01, 6.e-01, 7.e-01,\n",
      "       8.e-01, 9.e-01, 1.e+00, 2.e+00, 3.e+00, 4.e+00, 5.e+00, 6.e+00,\n",
      "       7.e+00, 8.e+00, 9.e+00, 1.e+01, 2.e+01, 3.e+01, 4.e+01, 5.e+01,\n",
      "       6.e+01, 7.e+01, 8.e+01, 9.e+01, 1.e+02, 2.e+02, 3.e+02, 4.e+02,\n",
      "       5.e+02, 6.e+02, 7.e+02, 8.e+02, 9.e+02, 1.e+03, 2.e+03, 3.e+03,\n",
      "       4.e+03, 5.e+03, 6.e+03, 7.e+03, 8.e+03, 9.e+03, 1.e+04, 2.e+04,\n",
      "       3.e+04, 4.e+04, 5.e+04, 6.e+04, 7.e+04, 8.e+04, 9.e+04, 1.e+05,\n",
      "       2.e+05, 3.e+05, 4.e+05, 5.e+05, 6.e+05, 7.e+05, 8.e+05, 9.e+05,\n",
      "       1.e+06, 2.e+06, 3.e+06, 4.e+06, 5.e+06, 6.e+06, 7.e+06, 8.e+06,\n",
      "       9.e+06, 1.e+07, 2.e+07, 3.e+07, 4.e+07, 5.e+07, 6.e+07, 7.e+07,\n",
      "       8.e+07, 9.e+07, 1.e+08, 2.e+08, 3.e+08, 4.e+08, 5.e+08, 6.e+08,\n",
      "       7.e+08, 8.e+08, 9.e+08])\n",
      "2025-01-23 13:35:54,695 - matplotlib.ticker - vmin 5.011872336272722 vmax 19952623.149688788\n",
      "2025-01-23 13:35:54,696 - matplotlib.ticker - ticklocs array([1.e-01, 1.e+00, 1.e+01, 1.e+02, 1.e+03, 1.e+04, 1.e+05, 1.e+06,\n",
      "       1.e+07, 1.e+08, 1.e+09])\n",
      "2025-01-23 13:35:54,715 - matplotlib.ticker - vmin 5.011872336272722 vmax 19952623.149688788\n",
      "2025-01-23 13:35:54,715 - matplotlib.ticker - ticklocs array([1.e-01, 1.e+00, 1.e+01, 1.e+02, 1.e+03, 1.e+04, 1.e+05, 1.e+06,\n",
      "       1.e+07, 1.e+08, 1.e+09])\n",
      "2025-01-23 13:35:54,716 - matplotlib.ticker - vmin 5.011872336272722 vmax 19952623.149688788\n",
      "2025-01-23 13:35:54,716 - matplotlib.ticker - ticklocs array([1.e-02, 2.e-02, 3.e-02, 4.e-02, 5.e-02, 6.e-02, 7.e-02, 8.e-02,\n",
      "       9.e-02, 1.e-01, 2.e-01, 3.e-01, 4.e-01, 5.e-01, 6.e-01, 7.e-01,\n",
      "       8.e-01, 9.e-01, 1.e+00, 2.e+00, 3.e+00, 4.e+00, 5.e+00, 6.e+00,\n",
      "       7.e+00, 8.e+00, 9.e+00, 1.e+01, 2.e+01, 3.e+01, 4.e+01, 5.e+01,\n",
      "       6.e+01, 7.e+01, 8.e+01, 9.e+01, 1.e+02, 2.e+02, 3.e+02, 4.e+02,\n",
      "       5.e+02, 6.e+02, 7.e+02, 8.e+02, 9.e+02, 1.e+03, 2.e+03, 3.e+03,\n",
      "       4.e+03, 5.e+03, 6.e+03, 7.e+03, 8.e+03, 9.e+03, 1.e+04, 2.e+04,\n",
      "       3.e+04, 4.e+04, 5.e+04, 6.e+04, 7.e+04, 8.e+04, 9.e+04, 1.e+05,\n",
      "       2.e+05, 3.e+05, 4.e+05, 5.e+05, 6.e+05, 7.e+05, 8.e+05, 9.e+05,\n",
      "       1.e+06, 2.e+06, 3.e+06, 4.e+06, 5.e+06, 6.e+06, 7.e+06, 8.e+06,\n",
      "       9.e+06, 1.e+07, 2.e+07, 3.e+07, 4.e+07, 5.e+07, 6.e+07, 7.e+07,\n",
      "       8.e+07, 9.e+07, 1.e+08, 2.e+08, 3.e+08, 4.e+08, 5.e+08, 6.e+08,\n",
      "       7.e+08, 8.e+08, 9.e+08])\n",
      "2025-01-23 13:35:54,717 - matplotlib.ticker - vmin 5.011872336272722 vmax 19952623.149688788\n",
      "2025-01-23 13:35:54,718 - matplotlib.ticker - ticklocs array([1.e-01, 1.e+00, 1.e+01, 1.e+02, 1.e+03, 1.e+04, 1.e+05, 1.e+06,\n",
      "       1.e+07, 1.e+08, 1.e+09])\n",
      "2025-01-23 13:35:54,733 - matplotlib.ticker - vmin 5.011872336272722 vmax 19952623.149688788\n",
      "2025-01-23 13:35:54,734 - matplotlib.ticker - ticklocs array([1.e-01, 1.e+00, 1.e+01, 1.e+02, 1.e+03, 1.e+04, 1.e+05, 1.e+06,\n",
      "       1.e+07, 1.e+08, 1.e+09])\n",
      "2025-01-23 13:35:54,735 - matplotlib.ticker - vmin 5.011872336272722 vmax 19952623.149688788\n",
      "2025-01-23 13:35:54,736 - matplotlib.ticker - ticklocs array([1.e-02, 2.e-02, 3.e-02, 4.e-02, 5.e-02, 6.e-02, 7.e-02, 8.e-02,\n",
      "       9.e-02, 1.e-01, 2.e-01, 3.e-01, 4.e-01, 5.e-01, 6.e-01, 7.e-01,\n",
      "       8.e-01, 9.e-01, 1.e+00, 2.e+00, 3.e+00, 4.e+00, 5.e+00, 6.e+00,\n",
      "       7.e+00, 8.e+00, 9.e+00, 1.e+01, 2.e+01, 3.e+01, 4.e+01, 5.e+01,\n",
      "       6.e+01, 7.e+01, 8.e+01, 9.e+01, 1.e+02, 2.e+02, 3.e+02, 4.e+02,\n",
      "       5.e+02, 6.e+02, 7.e+02, 8.e+02, 9.e+02, 1.e+03, 2.e+03, 3.e+03,\n",
      "       4.e+03, 5.e+03, 6.e+03, 7.e+03, 8.e+03, 9.e+03, 1.e+04, 2.e+04,\n",
      "       3.e+04, 4.e+04, 5.e+04, 6.e+04, 7.e+04, 8.e+04, 9.e+04, 1.e+05,\n",
      "       2.e+05, 3.e+05, 4.e+05, 5.e+05, 6.e+05, 7.e+05, 8.e+05, 9.e+05,\n",
      "       1.e+06, 2.e+06, 3.e+06, 4.e+06, 5.e+06, 6.e+06, 7.e+06, 8.e+06,\n",
      "       9.e+06, 1.e+07, 2.e+07, 3.e+07, 4.e+07, 5.e+07, 6.e+07, 7.e+07,\n",
      "       8.e+07, 9.e+07, 1.e+08, 2.e+08, 3.e+08, 4.e+08, 5.e+08, 6.e+08,\n",
      "       7.e+08, 8.e+08, 9.e+08])\n",
      "2025-01-23 13:35:54,737 - matplotlib.ticker - vmin 5.011872336272722 vmax 19952623.149688788\n",
      "2025-01-23 13:35:54,738 - matplotlib.ticker - ticklocs array([1.e-01, 1.e+00, 1.e+01, 1.e+02, 1.e+03, 1.e+04, 1.e+05, 1.e+06,\n",
      "       1.e+07, 1.e+08, 1.e+09])\n",
      "2025-01-23 13:35:54,741 - matplotlib.ticker - vmin 5.011872336272722 vmax 19952623.149688788\n",
      "2025-01-23 13:35:54,741 - matplotlib.ticker - ticklocs array([1.e-01, 1.e+00, 1.e+01, 1.e+02, 1.e+03, 1.e+04, 1.e+05, 1.e+06,\n",
      "       1.e+07, 1.e+08, 1.e+09])\n",
      "2025-01-23 13:35:54,742 - matplotlib.ticker - vmin 5.011872336272722 vmax 19952623.149688788\n",
      "2025-01-23 13:35:54,742 - matplotlib.ticker - ticklocs array([1.e-02, 2.e-02, 3.e-02, 4.e-02, 5.e-02, 6.e-02, 7.e-02, 8.e-02,\n",
      "       9.e-02, 1.e-01, 2.e-01, 3.e-01, 4.e-01, 5.e-01, 6.e-01, 7.e-01,\n",
      "       8.e-01, 9.e-01, 1.e+00, 2.e+00, 3.e+00, 4.e+00, 5.e+00, 6.e+00,\n",
      "       7.e+00, 8.e+00, 9.e+00, 1.e+01, 2.e+01, 3.e+01, 4.e+01, 5.e+01,\n",
      "       6.e+01, 7.e+01, 8.e+01, 9.e+01, 1.e+02, 2.e+02, 3.e+02, 4.e+02,\n",
      "       5.e+02, 6.e+02, 7.e+02, 8.e+02, 9.e+02, 1.e+03, 2.e+03, 3.e+03,\n",
      "       4.e+03, 5.e+03, 6.e+03, 7.e+03, 8.e+03, 9.e+03, 1.e+04, 2.e+04,\n",
      "       3.e+04, 4.e+04, 5.e+04, 6.e+04, 7.e+04, 8.e+04, 9.e+04, 1.e+05,\n",
      "       2.e+05, 3.e+05, 4.e+05, 5.e+05, 6.e+05, 7.e+05, 8.e+05, 9.e+05,\n",
      "       1.e+06, 2.e+06, 3.e+06, 4.e+06, 5.e+06, 6.e+06, 7.e+06, 8.e+06,\n",
      "       9.e+06, 1.e+07, 2.e+07, 3.e+07, 4.e+07, 5.e+07, 6.e+07, 7.e+07,\n",
      "       8.e+07, 9.e+07, 1.e+08, 2.e+08, 3.e+08, 4.e+08, 5.e+08, 6.e+08,\n",
      "       7.e+08, 8.e+08, 9.e+08])\n",
      "2025-01-23 13:35:54,744 - matplotlib.ticker - vmin 5.011872336272722 vmax 19952623.149688788\n",
      "2025-01-23 13:35:54,744 - matplotlib.ticker - ticklocs array([1.e-01, 1.e+00, 1.e+01, 1.e+02, 1.e+03, 1.e+04, 1.e+05, 1.e+06,\n",
      "       1.e+07, 1.e+08, 1.e+09])\n"
     ]
    },
    {
     "data": {
      "image/png": "[encoded data removed]",
      "text/plain": [
       "<Figure size 1000x800 with 2 Axes>"
      ]
     },
     "metadata": {},
     "output_type": "display_data"
    }
   ],
   "source": [
    "viz.visualize()"
   ]
  },
  {
   "cell_type": "code",
   "execution_count": 32,
   "metadata": {},
   "outputs": [
    {
     "data": {
      "text/plain": [
       "['K_BP', 'K_HP', 'K_LP', 'Q', 'bandwidth', 'wo']"
      ]
     },
     "execution_count": 32,
     "metadata": {},
     "output_type": "execute_result"
    }
   ],
   "source": [
    "viz.get_filter_param()"
   ]
  },
  {
   "cell_type": "code",
   "execution_count": 33,
   "metadata": {},
   "outputs": [
    {
     "data": {
      "text/plain": [
       "{'Q': sqrt(3)/3,\n",
       " 'wo': sqrt(3)/(C*R),\n",
       " 'bandwidth': 3/(C*R),\n",
       " 'K_LP': 0,\n",
       " 'K_HP': 0,\n",
       " 'K_BP': R/3,\n",
       " 'Qz': None,\n",
       " 'Wz': None}"
      ]
     },
     "execution_count": 33,
     "metadata": {},
     "output_type": "execute_result"
    }
   ],
   "source": [
    "viz.tf_params"
   ]
  },
  {
   "cell_type": "code",
   "execution_count": 34,
   "metadata": {},
   "outputs": [
    {
     "data": {
      "text/plain": [
       "(sqrt(3)/3, 0.577)"
      ]
     },
     "execution_count": 34,
     "metadata": {},
     "output_type": "execute_result"
    }
   ],
   "source": [
    "viz.eval_filter_parameter(\"Q\")"
   ]
  },
  {
   "cell_type": "markdown",
   "metadata": {},
   "source": [
    "# Automated Search"
   ]
  },
  {
   "cell_type": "code",
   "execution_count": 25,
   "metadata": {},
   "outputs": [
    {
     "name": "stdout",
     "output_type": "stream",
     "text": [
      "\n",
      "!!! could not ressolve the path to the pkl file (found 0)\n",
      "\n",
      "Solving the circuit for the first time\n",
      "====Solving the Circuit====\n",
      "--- Computing the possible impedance connections for [Z_1, Z_2, Z_3, Z_4, Z_5, Z_6] ---\n",
      "--- Impedance connections stored in Circuit_Solver.impedanceConnections---\n",
      " ----------------------------\n",
      "1 - Solving for (Vo2 - 0) / (Iin - 0)\n",
      "2 - Intermediate Variables: [Vo1, Vo2, Va, Iin]\n",
      " ----------------------------\n",
      "3 - solved the base transfer function (symbolic [T])\n",
      "-- Single-ended input/output\n",
      "processing combo index 1\n",
      "processing combo index 2\n",
      "processing combo index 3\n",
      "processing combo index 4\n",
      "processing combo index 5\n",
      "processing combo index 6\n",
      "=====*Circuit Solved*=====\n",
      "\n",
      "=== ExperimentResult saved successfully to Runs/VLSI_CMMF_Automated_NA/results_circuit_solution.pkl - 6.641 kb ===\n",
      "\n",
      "** Loading the circuit history\n",
      "could not ressolve the path to the pkl file (found 0)\n",
      "** Found 0 keys already computed\n",
      "Experiment keys: ['Z1_Z2_Z3_Z4_Z5_Z6', 'Z2_Z3_Z4_Z5_Z6', 'Z1_Z3_Z4_Z5_Z6', 'Z1_Z2_Z3_Z5_Z6', 'Z3_Z4_Z5_Z6', 'Z2_Z3_Z5_Z6', 'Z1_Z3_Z5_Z6', 'Z3_Z5_Z6']\n",
      "Experiment will be ran for 8 keys: ['Z1_Z2_Z3_Z4_Z5_Z6', 'Z2_Z3_Z4_Z5_Z6', 'Z1_Z3_Z4_Z5_Z6', 'Z1_Z2_Z3_Z5_Z6', 'Z3_Z4_Z5_Z6', 'Z2_Z3_Z5_Z6', 'Z1_Z3_Z5_Z6', 'Z3_Z5_Z6']\n",
      "--> Running the VLSI_CMMF_Automated_NA Experiment for Z1_Z2_Z3_Z4_Z5_Z6 (1/8)\n",
      "\n",
      "combo key = Z1_Z2_Z3_Z4_Z5_Z6\n"
     ]
    },
    {
     "name": "stderr",
     "output_type": "stream",
     "text": [
      "Getting the TFs (CG): 100%|██████████| 4096/4096 [00:46<00:00, 87.50combo/s] \n"
     ]
    },
    {
     "name": "stdout",
     "output_type": "stream",
     "text": [
      "Number of transfer functions found: 4096\n"
     ]
    },
    {
     "name": "stderr",
     "output_type": "stream",
     "text": [
      "Computing Biquad filter parameters: 100%|██████████| 4096/4096 [00:46<00:00, 88.64filter/s] \n"
     ]
    },
    {
     "name": "stdout",
     "output_type": "stream",
     "text": [
      "summarizing for filters in ['AP', 'BP', 'BP-UNSTABLE-ZERO', 'BS', 'GE', 'HP', 'LP', 'X-INVALID-NUMER', 'X-INVALID-ORDER', 'X-INVALID-WZ', 'X-PolynomialError']\n",
      "AP : 0\n",
      "BP : 120\n",
      "BP-UNSTABLE-ZERO : 0\n",
      "BS : 0\n",
      "GE : 0\n",
      "HP : 28\n",
      "LP : 120\n",
      "X-INVALID-NUMER : 434\n",
      "X-INVALID-ORDER : 3190\n",
      "X-INVALID-WZ : 204\n",
      "X-PolynomialError : 0\n",
      "LaTeX report generated and saved to: Runs/VLSI_CMMF_Automated_NA/VLSI_CMMF_Automated_NA_Z1_Z2_Z3_Z4_Z5_Z6/VLSI_CMMF_Automated_NA_Z1_Z2_Z3_Z4_Z5_Z6_summary.tex\n",
      "\n",
      "=== Compiling the reports to PDF ===\n",
      "----** compiling Runs/VLSI_CMMF_Automated_NA/VLSI_CMMF_Automated_NA_Z1_Z2_Z3_Z4_Z5_Z6/VLSI_CMMF_Automated_NA_Z1_Z2_Z3_Z4_Z5_Z6_summary.tex **----\n",
      "PDF generated: Runs/VLSI_CMMF_Automated_NA/VLSI_CMMF_Automated_NA_Z1_Z2_Z3_Z4_Z5_Z6/VLSI_CMMF_Automated_NA_Z1_Z2_Z3_Z4_Z5_Z6_summary.pdf\n",
      "=== Compiling DONE ===\n",
      "\n",
      "\n",
      "=== ExperimentResult saved successfully to Runs/VLSI_CMMF_Automated_NA/results.pkl - 2375.339 kb ===\n",
      "\n",
      "--> Running the VLSI_CMMF_Automated_NA Experiment for Z2_Z3_Z4_Z5_Z6 (2/8)\n",
      "\n",
      "combo key = Z2_Z3_Z4_Z5_Z6\n"
     ]
    },
    {
     "name": "stderr",
     "output_type": "stream",
     "text": [
      "Getting the TFs (CG): 100%|██████████| 1024/1024 [00:00<00:00, 1345.86combo/s]\n"
     ]
    },
    {
     "name": "stdout",
     "output_type": "stream",
     "text": [
      "Number of transfer functions found: 1024\n"
     ]
    },
    {
     "name": "stderr",
     "output_type": "stream",
     "text": [
      "Computing Biquad filter parameters: 100%|██████████| 1024/1024 [00:00<00:00, 2116.46filter/s]\n"
     ]
    },
    {
     "name": "stdout",
     "output_type": "stream",
     "text": [
      "summarizing for filters in ['AP', 'BP', 'BP-UNSTABLE-ZERO', 'BS', 'GE', 'HP', 'LP', 'X-INVALID-NUMER', 'X-INVALID-ORDER', 'X-INVALID-WZ', 'X-PolynomialError']\n",
      "AP : 0\n",
      "BP : 48\n",
      "BP-UNSTABLE-ZERO : 0\n",
      "BS : 0\n",
      "GE : 0\n",
      "HP : 0\n",
      "LP : 48\n",
      "X-INVALID-NUMER : 48\n",
      "X-INVALID-ORDER : 880\n",
      "X-INVALID-WZ : 0\n",
      "X-PolynomialError : 0\n",
      "LaTeX report generated and saved to: Runs/VLSI_CMMF_Automated_NA/VLSI_CMMF_Automated_NA_Z2_Z3_Z4_Z5_Z6/VLSI_CMMF_Automated_NA_Z2_Z3_Z4_Z5_Z6_summary.tex\n",
      "\n",
      "=== Compiling the reports to PDF ===\n",
      "----** compiling Runs/VLSI_CMMF_Automated_NA/VLSI_CMMF_Automated_NA_Z2_Z3_Z4_Z5_Z6/VLSI_CMMF_Automated_NA_Z2_Z3_Z4_Z5_Z6_summary.tex **----\n",
      "PDF generated: Runs/VLSI_CMMF_Automated_NA/VLSI_CMMF_Automated_NA_Z2_Z3_Z4_Z5_Z6/VLSI_CMMF_Automated_NA_Z2_Z3_Z4_Z5_Z6_summary.pdf\n",
      "=== Compiling DONE ===\n",
      "\n",
      "\n",
      "=== ExperimentResult saved successfully to Runs/VLSI_CMMF_Automated_NA/results.pkl - 2494.734 kb ===\n",
      "\n",
      "--> Running the VLSI_CMMF_Automated_NA Experiment for Z1_Z3_Z4_Z5_Z6 (3/8)\n",
      "\n",
      "combo key = Z1_Z3_Z4_Z5_Z6\n"
     ]
    },
    {
     "name": "stderr",
     "output_type": "stream",
     "text": [
      "Getting the TFs (CG): 100%|██████████| 1024/1024 [00:05<00:00, 200.49combo/s]\n"
     ]
    },
    {
     "name": "stdout",
     "output_type": "stream",
     "text": [
      "Number of transfer functions found: 1024\n"
     ]
    },
    {
     "name": "stderr",
     "output_type": "stream",
     "text": [
      "Computing Biquad filter parameters: 100%|██████████| 1024/1024 [00:07<00:00, 133.33filter/s]\n"
     ]
    },
    {
     "name": "stdout",
     "output_type": "stream",
     "text": [
      "summarizing for filters in ['AP', 'BP', 'BP-UNSTABLE-ZERO', 'BS', 'GE', 'HP', 'LP', 'X-INVALID-NUMER', 'X-INVALID-ORDER', 'X-INVALID-WZ', 'X-PolynomialError']\n",
      "AP : 0\n",
      "BP : 40\n",
      "BP-UNSTABLE-ZERO : 0\n",
      "BS : 0\n",
      "GE : 0\n",
      "HP : 9\n",
      "LP : 40\n",
      "X-INVALID-NUMER : 135\n",
      "X-INVALID-ORDER : 743\n",
      "X-INVALID-WZ : 57\n",
      "X-PolynomialError : 0\n",
      "LaTeX report generated and saved to: Runs/VLSI_CMMF_Automated_NA/VLSI_CMMF_Automated_NA_Z1_Z3_Z4_Z5_Z6/VLSI_CMMF_Automated_NA_Z1_Z3_Z4_Z5_Z6_summary.tex\n",
      "\n",
      "=== Compiling the reports to PDF ===\n",
      "----** compiling Runs/VLSI_CMMF_Automated_NA/VLSI_CMMF_Automated_NA_Z1_Z3_Z4_Z5_Z6/VLSI_CMMF_Automated_NA_Z1_Z3_Z4_Z5_Z6_summary.tex **----\n",
      "PDF generated: Runs/VLSI_CMMF_Automated_NA/VLSI_CMMF_Automated_NA_Z1_Z3_Z4_Z5_Z6/VLSI_CMMF_Automated_NA_Z1_Z3_Z4_Z5_Z6_summary.pdf\n",
      "=== Compiling DONE ===\n",
      "\n",
      "\n",
      "=== ExperimentResult saved successfully to Runs/VLSI_CMMF_Automated_NA/results.pkl - 2868.341 kb ===\n",
      "\n",
      "--> Running the VLSI_CMMF_Automated_NA Experiment for Z1_Z2_Z3_Z5_Z6 (4/8)\n",
      "\n",
      "combo key = Z1_Z2_Z3_Z5_Z6\n"
     ]
    },
    {
     "name": "stderr",
     "output_type": "stream",
     "text": [
      "Getting the TFs (CG): 100%|██████████| 1024/1024 [00:07<00:00, 145.14combo/s]\n"
     ]
    },
    {
     "name": "stdout",
     "output_type": "stream",
     "text": [
      "Number of transfer functions found: 1024\n"
     ]
    },
    {
     "name": "stderr",
     "output_type": "stream",
     "text": [
      "Computing Biquad filter parameters: 100%|██████████| 1024/1024 [00:09<00:00, 113.44filter/s]\n"
     ]
    },
    {
     "name": "stdout",
     "output_type": "stream",
     "text": [
      "summarizing for filters in ['AP', 'BP', 'BP-UNSTABLE-ZERO', 'BS', 'GE', 'HP', 'LP', 'X-INVALID-NUMER', 'X-INVALID-ORDER', 'X-INVALID-WZ', 'X-PolynomialError']\n",
      "AP : 0\n",
      "BP : 44\n",
      "BP-UNSTABLE-ZERO : 0\n",
      "BS : 0\n",
      "GE : 0\n",
      "HP : 8\n",
      "LP : 44\n",
      "X-INVALID-NUMER : 149\n",
      "X-INVALID-ORDER : 714\n",
      "X-INVALID-WZ : 65\n",
      "X-PolynomialError : 0\n",
      "LaTeX report generated and saved to: Runs/VLSI_CMMF_Automated_NA/VLSI_CMMF_Automated_NA_Z1_Z2_Z3_Z5_Z6/VLSI_CMMF_Automated_NA_Z1_Z2_Z3_Z5_Z6_summary.tex\n",
      "\n",
      "=== Compiling the reports to PDF ===\n",
      "----** compiling Runs/VLSI_CMMF_Automated_NA/VLSI_CMMF_Automated_NA_Z1_Z2_Z3_Z5_Z6/VLSI_CMMF_Automated_NA_Z1_Z2_Z3_Z5_Z6_summary.tex **----\n",
      "PDF generated: Runs/VLSI_CMMF_Automated_NA/VLSI_CMMF_Automated_NA_Z1_Z2_Z3_Z5_Z6/VLSI_CMMF_Automated_NA_Z1_Z2_Z3_Z5_Z6_summary.pdf\n",
      "=== Compiling DONE ===\n",
      "\n",
      "\n",
      "=== ExperimentResult saved successfully to Runs/VLSI_CMMF_Automated_NA/results.pkl - 3293.374 kb ===\n",
      "\n",
      "--> Running the VLSI_CMMF_Automated_NA Experiment for Z3_Z4_Z5_Z6 (5/8)\n",
      "\n",
      "combo key = Z3_Z4_Z5_Z6\n"
     ]
    },
    {
     "name": "stderr",
     "output_type": "stream",
     "text": [
      "Getting the TFs (CG): 100%|██████████| 256/256 [00:08<00:00, 29.51combo/s]\n"
     ]
    },
    {
     "name": "stdout",
     "output_type": "stream",
     "text": [
      "Number of transfer functions found: 256\n"
     ]
    },
    {
     "name": "stderr",
     "output_type": "stream",
     "text": [
      "Computing Biquad filter parameters: 100%|██████████| 256/256 [00:00<00:00, 1415.16filter/s]\n"
     ]
    },
    {
     "name": "stdout",
     "output_type": "stream",
     "text": [
      "summarizing for filters in ['AP', 'BP', 'BP-UNSTABLE-ZERO', 'BS', 'GE', 'HP', 'LP', 'X-INVALID-NUMER', 'X-INVALID-ORDER', 'X-INVALID-WZ', 'X-PolynomialError']\n",
      "AP : 0\n",
      "BP : 0\n",
      "BP-UNSTABLE-ZERO : 0\n",
      "BS : 0\n",
      "GE : 0\n",
      "HP : 0\n",
      "LP : 0\n",
      "X-INVALID-NUMER : 0\n",
      "X-INVALID-ORDER : 32\n",
      "X-INVALID-WZ : 0\n",
      "X-PolynomialError : 224\n",
      "LaTeX report generated and saved to: Runs/VLSI_CMMF_Automated_NA/VLSI_CMMF_Automated_NA_Z3_Z4_Z5_Z6/VLSI_CMMF_Automated_NA_Z3_Z4_Z5_Z6_summary.tex\n",
      "\n",
      "=== Compiling the reports to PDF ===\n",
      "----** compiling Runs/VLSI_CMMF_Automated_NA/VLSI_CMMF_Automated_NA_Z3_Z4_Z5_Z6/VLSI_CMMF_Automated_NA_Z3_Z4_Z5_Z6_summary.tex **----\n",
      "PDF generated: Runs/VLSI_CMMF_Automated_NA/VLSI_CMMF_Automated_NA_Z3_Z4_Z5_Z6/VLSI_CMMF_Automated_NA_Z3_Z4_Z5_Z6_summary.pdf\n",
      "=== Compiling DONE ===\n",
      "\n",
      "\n",
      "=== ExperimentResult saved successfully to Runs/VLSI_CMMF_Automated_NA/results.pkl - 3335.757 kb ===\n",
      "\n",
      "--> Running the VLSI_CMMF_Automated_NA Experiment for Z2_Z3_Z5_Z6 (6/8)\n",
      "\n",
      "combo key = Z2_Z3_Z5_Z6\n"
     ]
    },
    {
     "name": "stderr",
     "output_type": "stream",
     "text": [
      "Getting the TFs (CG): 100%|██████████| 256/256 [00:00<00:00, 1175.38combo/s]\n"
     ]
    },
    {
     "name": "stdout",
     "output_type": "stream",
     "text": [
      "Number of transfer functions found: 256\n"
     ]
    },
    {
     "name": "stderr",
     "output_type": "stream",
     "text": [
      "Computing Biquad filter parameters: 100%|██████████| 256/256 [00:00<00:00, 1535.24filter/s]\n"
     ]
    },
    {
     "name": "stdout",
     "output_type": "stream",
     "text": [
      "summarizing for filters in ['AP', 'BP', 'BP-UNSTABLE-ZERO', 'BS', 'GE', 'HP', 'LP', 'X-INVALID-NUMER', 'X-INVALID-ORDER', 'X-INVALID-WZ', 'X-PolynomialError']\n",
      "AP : 0\n",
      "BP : 12\n",
      "BP-UNSTABLE-ZERO : 0\n",
      "BS : 0\n",
      "GE : 0\n",
      "HP : 0\n",
      "LP : 12\n",
      "X-INVALID-NUMER : 12\n",
      "X-INVALID-ORDER : 220\n",
      "X-INVALID-WZ : 0\n",
      "X-PolynomialError : 0\n",
      "LaTeX report generated and saved to: Runs/VLSI_CMMF_Automated_NA/VLSI_CMMF_Automated_NA_Z2_Z3_Z5_Z6/VLSI_CMMF_Automated_NA_Z2_Z3_Z5_Z6_summary.tex\n",
      "\n",
      "=== Compiling the reports to PDF ===\n",
      "----** compiling Runs/VLSI_CMMF_Automated_NA/VLSI_CMMF_Automated_NA_Z2_Z3_Z5_Z6/VLSI_CMMF_Automated_NA_Z2_Z3_Z5_Z6_summary.tex **----\n",
      "PDF generated: Runs/VLSI_CMMF_Automated_NA/VLSI_CMMF_Automated_NA_Z2_Z3_Z5_Z6/VLSI_CMMF_Automated_NA_Z2_Z3_Z5_Z6_summary.pdf\n",
      "=== Compiling DONE ===\n",
      "\n",
      "\n",
      "=== ExperimentResult saved successfully to Runs/VLSI_CMMF_Automated_NA/results.pkl - 3368.044 kb ===\n",
      "\n",
      "--> Running the VLSI_CMMF_Automated_NA Experiment for Z1_Z3_Z5_Z6 (7/8)\n",
      "\n",
      "combo key = Z1_Z3_Z5_Z6\n"
     ]
    },
    {
     "name": "stderr",
     "output_type": "stream",
     "text": [
      "Getting the TFs (CG): 100%|██████████| 256/256 [00:00<00:00, 401.85combo/s]\n"
     ]
    },
    {
     "name": "stdout",
     "output_type": "stream",
     "text": [
      "Number of transfer functions found: 256\n"
     ]
    },
    {
     "name": "stderr",
     "output_type": "stream",
     "text": [
      "Computing Biquad filter parameters: 100%|██████████| 256/256 [00:01<00:00, 248.22filter/s]\n"
     ]
    },
    {
     "name": "stdout",
     "output_type": "stream",
     "text": [
      "summarizing for filters in ['AP', 'BP', 'BP-UNSTABLE-ZERO', 'BS', 'GE', 'HP', 'LP', 'X-INVALID-NUMER', 'X-INVALID-ORDER', 'X-INVALID-WZ', 'X-PolynomialError']\n",
      "AP : 0\n",
      "BP : 15\n",
      "BP-UNSTABLE-ZERO : 0\n",
      "BS : 0\n",
      "GE : 0\n",
      "HP : 0\n",
      "LP : 15\n",
      "X-INVALID-NUMER : 32\n",
      "X-INVALID-ORDER : 184\n",
      "X-INVALID-WZ : 10\n",
      "X-PolynomialError : 0\n",
      "LaTeX report generated and saved to: Runs/VLSI_CMMF_Automated_NA/VLSI_CMMF_Automated_NA_Z1_Z3_Z5_Z6/VLSI_CMMF_Automated_NA_Z1_Z3_Z5_Z6_summary.tex\n",
      "\n",
      "=== Compiling the reports to PDF ===\n",
      "----** compiling Runs/VLSI_CMMF_Automated_NA/VLSI_CMMF_Automated_NA_Z1_Z3_Z5_Z6/VLSI_CMMF_Automated_NA_Z1_Z3_Z5_Z6_summary.tex **----\n",
      "PDF generated: Runs/VLSI_CMMF_Automated_NA/VLSI_CMMF_Automated_NA_Z1_Z3_Z5_Z6/VLSI_CMMF_Automated_NA_Z1_Z3_Z5_Z6_summary.pdf\n",
      "=== Compiling DONE ===\n",
      "\n",
      "\n",
      "=== ExperimentResult saved successfully to Runs/VLSI_CMMF_Automated_NA/results.pkl - 3435.062 kb ===\n",
      "\n",
      "--> Running the VLSI_CMMF_Automated_NA Experiment for Z3_Z5_Z6 (8/8)\n",
      "\n",
      "combo key = Z3_Z5_Z6\n"
     ]
    },
    {
     "name": "stderr",
     "output_type": "stream",
     "text": [
      "Getting the TFs (CG): 100%|██████████| 64/64 [00:02<00:00, 26.89combo/s]\n"
     ]
    },
    {
     "name": "stdout",
     "output_type": "stream",
     "text": [
      "Number of transfer functions found: 64\n"
     ]
    },
    {
     "name": "stderr",
     "output_type": "stream",
     "text": [
      "Computing Biquad filter parameters: 100%|██████████| 64/64 [00:00<00:00, 679.44filter/s]\n"
     ]
    },
    {
     "name": "stdout",
     "output_type": "stream",
     "text": [
      "summarizing for filters in ['AP', 'BP', 'BP-UNSTABLE-ZERO', 'BS', 'GE', 'HP', 'LP', 'X-INVALID-NUMER', 'X-INVALID-ORDER', 'X-INVALID-WZ', 'X-PolynomialError']\n",
      "AP : 0\n",
      "BP : 0\n",
      "BP-UNSTABLE-ZERO : 0\n",
      "BS : 0\n",
      "GE : 0\n",
      "HP : 0\n",
      "LP : 0\n",
      "X-INVALID-NUMER : 0\n",
      "X-INVALID-ORDER : 8\n",
      "X-INVALID-WZ : 0\n",
      "X-PolynomialError : 56\n",
      "LaTeX report generated and saved to: Runs/VLSI_CMMF_Automated_NA/VLSI_CMMF_Automated_NA_Z3_Z5_Z6/VLSI_CMMF_Automated_NA_Z3_Z5_Z6_summary.tex\n",
      "\n",
      "=== Compiling the reports to PDF ===\n",
      "----** compiling Runs/VLSI_CMMF_Automated_NA/VLSI_CMMF_Automated_NA_Z3_Z5_Z6/VLSI_CMMF_Automated_NA_Z3_Z5_Z6_summary.tex **----\n",
      "PDF generated: Runs/VLSI_CMMF_Automated_NA/VLSI_CMMF_Automated_NA_Z3_Z5_Z6/VLSI_CMMF_Automated_NA_Z3_Z5_Z6_summary.pdf\n",
      "=== Compiling DONE ===\n",
      "\n",
      "\n",
      "=== ExperimentResult saved successfully to Runs/VLSI_CMMF_Automated_NA/results.pkl - 3445.789 kb ===\n",
      "\n",
      "<----> END OF EXPERIMENT <---->\n",
      "Impedance Keys analyzed (count: 8): \n",
      "['Z1_Z2_Z3_Z4_Z5_Z6',\n",
      " 'Z2_Z3_Z4_Z5_Z6',\n",
      " 'Z1_Z3_Z4_Z5_Z6',\n",
      " 'Z1_Z2_Z3_Z5_Z6',\n",
      " 'Z3_Z4_Z5_Z6',\n",
      " 'Z2_Z3_Z5_Z6',\n",
      " 'Z1_Z3_Z5_Z6',\n",
      " 'Z3_Z5_Z6']\n"
     ]
    }
   ],
   "source": [
    "from   symcircuit.symbolic_solver.solver     import run_experiment\n",
    "\n",
    "circuit = TIA_CMMF.circuit\n",
    "\n",
    "\n",
    "experiment_result = run_experiment(\"VLSI_CMMF_Automated\",\n",
    "               T_type=\"NA\",\n",
    "               circuit=circuit,\n",
    "               minNumOfActiveImpedances=3,\n",
    "               maxNumOfActiveImpedances=5,\n",
    "               impedanceKeysOverwrite= [\n",
    "                   \"Z1_Z2_Z3_Z4_Z5_Z6\",\n",
    "                   \"Z2_Z3_Z4_Z5_Z6\",\n",
    "                   \"Z1_Z3_Z4_Z5_Z6\",\n",
    "                   \"Z1_Z2_Z3_Z5_Z6\",\n",
    "                   \"Z3_Z4_Z5_Z6\",\n",
    "                   \"Z2_Z3_Z5_Z6\",\n",
    "                   \"Z1_Z3_Z5_Z6\",\n",
    "                   \"Z3_Z5_Z6\",\n",
    "                   ],\n",
    "               outputFrom= [\"Vo2\", \"0\"],\n",
    "               inputFrom=[\"Iin\", \"0\"],\n",
    "               loadHistory=True\n",
    "               )\n"
   ]
  },
  {
   "cell_type": "code",
   "execution_count": 27,
   "metadata": {},
   "outputs": [
    {
     "data": {
      "text/latex": [
       "$\\displaystyle \\frac{Z_{1} Z_{2} Z_{4} Z_{6}}{Z_{1} Z_{4} Z_{5} - Z_{2} Z_{3} Z_{4} + Z_{2} Z_{3} Z_{5} + Z_{2} Z_{4} Z_{5} + Z_{3} Z_{4} Z_{5}}$"
      ],
      "text/plain": [
       "Z_1*Z_2*Z_4*Z_6/(Z_1*Z_4*Z_5 - Z_2*Z_3*Z_4 + Z_2*Z_3*Z_5 + Z_2*Z_4*Z_5 + Z_3*Z_4*Z_5)"
      ]
     },
     "execution_count": 27,
     "metadata": {},
     "output_type": "execute_result"
    }
   ],
   "source": [
    "classifications, tf = experiment_result.get_impedance_key(\"Z1_Z2_Z3_Z4_Z5_Z6\")\n",
    "tf"
   ]
  },
  {
   "cell_type": "code",
   "execution_count": null,
   "metadata": {},
   "outputs": [],
   "source": [
    "type(classifications), type(classifications[-1])"
   ]
  },
  {
   "cell_type": "code",
   "execution_count": null,
   "metadata": {},
   "outputs": [],
   "source": [
    "# df_classifications = experiment_result.flatten_classifications()\n",
    "# df_classifications"
   ]
  },
  {
   "cell_type": "code",
   "execution_count": null,
   "metadata": {},
   "outputs": [],
   "source": [
    "# df_tfs = experiment_result.flatten_tfs()\n",
    "# df_tfs"
   ]
  },
  {
   "cell_type": "code",
   "execution_count": 28,
   "metadata": {},
   "outputs": [
    {
     "name": "stdout",
     "output_type": "stream",
     "text": [
      "Writting VLSI_CMMF_Automated_NA to csv files\n",
      "flattened all the classifications to Runs/VLSI_CMMF_Automated_NA/classifications_.csv\n",
      "flattened all the classifications to Runs/VLSI_CMMF_Automated_NA/tfs_.csv\n"
     ]
    }
   ],
   "source": [
    "experiment_result.to_csv()"
   ]
  }
 ],
 "metadata": {
  "kernelspec": {
   "display_name": "myenv",
   "language": "python",
   "name": "python3"
  },
  "language_info": {
   "codemirror_mode": {
    "name": "ipython",
    "version": 3
   },
   "file_extension": ".py",
   "mimetype": "text/x-python",
   "name": "python",
   "nbconvert_exporter": "python",
   "pygments_lexer": "ipython3",
   "version": "3.12.2"
  }
 },
 "nbformat": 4,
 "nbformat_minor": 2
}
