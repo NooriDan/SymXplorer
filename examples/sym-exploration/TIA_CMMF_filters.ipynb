{
 "cells": [
  {
   "cell_type": "code",
   "execution_count": 1,
   "metadata": {},
   "outputs": [],
   "source": [
    "from   symxplorer.symbolic_solver.domains    import Circuit, ExperimentResult\n",
    "from   symxplorer.symbolic_solver.solver     import Circuit_Solver, Impedance_Analyzer\n",
    "from   symxplorer.demo.multiple_feedback     import Customized_Current_Mode_Multiple_Feedback as TIA_CMMF\n",
    "import sympy"
   ]
  },
  {
   "cell_type": "markdown",
   "metadata": {},
   "source": [
    "# Manual Runs"
   ]
  },
  {
   "cell_type": "code",
   "execution_count": 15,
   "metadata": {},
   "outputs": [
    {
     "data": {
      "text/plain": [
       "True"
      ]
     },
     "execution_count": 15,
     "metadata": {},
     "output_type": "execute_result"
    }
   ],
   "source": [
    "circuit = TIA_CMMF.circuit\n",
    "circuit.hasSolution()"
   ]
  },
  {
   "cell_type": "code",
   "execution_count": 16,
   "metadata": {},
   "outputs": [
    {
     "data": {
      "text/plain": [
       "([Z_1, Z_2, Z_3, Z_4, Z_5, Z_6], [Z_1, Z_2, Z_3, Z_4, Z_5, Z_6])"
      ]
     },
     "execution_count": 16,
     "metadata": {},
     "output_type": "execute_result"
    }
   ],
   "source": [
    "circuit.impedances, circuit.impedancesToDisconnect"
   ]
  },
  {
   "cell_type": "code",
   "execution_count": 17,
   "metadata": {},
   "outputs": [
    {
     "name": "stdout",
     "output_type": "stream",
     "text": [
      "1 - Eq(Iin, -Va/Z_2 - Vo1/Z_1)\n",
      "2 - Eq(0, Va/Z_5 - Va/Z_4 - Va/Z_2 + (-Va + Vo1)/Z_3)\n",
      "3 - Eq(Va/Z_5, -Vo2/Z_6)\n"
     ]
    }
   ],
   "source": [
    "for i, eq in enumerate(circuit.nodal_equations, 1):\n",
    "    print(f\"{i} - {eq}\")"
   ]
  },
  {
   "cell_type": "code",
   "execution_count": 18,
   "metadata": {},
   "outputs": [
    {
     "data": {
      "text/plain": [
       "[Vo1, Vo2, Va, Iin]"
      ]
     },
     "execution_count": 18,
     "metadata": {},
     "output_type": "execute_result"
    }
   ],
   "source": [
    "circuit.solve_for"
   ]
  },
  {
   "cell_type": "markdown",
   "metadata": {},
   "source": [
    "## Circuit Solver"
   ]
  },
  {
   "cell_type": "code",
   "execution_count": 19,
   "metadata": {},
   "outputs": [],
   "source": [
    "solver = Circuit_Solver(circuit=circuit, _output= sympy.symbols(\"Vo2 0\"), _input=sympy.symbols(\"Iin 0\"), transmissionMatrixType=\"NA\")"
   ]
  },
  {
   "cell_type": "code",
   "execution_count": 20,
   "metadata": {},
   "outputs": [
    {
     "data": {
      "text/plain": [
       "[Z_1, Z_2, Z_3, Z_4, Z_5, Z_6]"
      ]
     },
     "execution_count": 20,
     "metadata": {},
     "output_type": "execute_result"
    }
   ],
   "source": [
    "solver.impedances"
   ]
  },
  {
   "cell_type": "code",
   "execution_count": 21,
   "metadata": {},
   "outputs": [
    {
     "data": {
      "text/plain": [
       "[Z_1, Z_2, Z_3, Z_4, Z_5, Z_6]"
      ]
     },
     "execution_count": 21,
     "metadata": {},
     "output_type": "execute_result"
    }
   ],
   "source": [
    "solver.impedancesToDisconnect"
   ]
  },
  {
   "cell_type": "code",
   "execution_count": 22,
   "metadata": {},
   "outputs": [
    {
     "name": "stdout",
     "output_type": "stream",
     "text": [
      "====Solving the Circuit====\n",
      "--- Computing the possible impedance connections for [Z_1, Z_2, Z_3, Z_4, Z_5, Z_6] ---\n",
      "--- Impedance connections stored in Circuit_Solver.impedanceConnections---\n",
      " ----------------------------\n",
      "1 - Solving for (Vo2 - 0) / (Iin - 0)\n",
      "2 - Intermediate Variables: [Vo1, Vo2, Va, Iin]\n",
      " ----------------------------\n",
      "3 - solved the base transfer function (symbolic [T])\n",
      "-- Single-ended input/output\n",
      "processing combo index 1\n",
      "processing combo index 2\n",
      "processing combo index 3\n",
      "processing combo index 4\n",
      "processing combo index 5\n",
      "processing combo index 6\n",
      "=====*Circuit Solved*=====\n"
     ]
    }
   ],
   "source": [
    "solver.solve()"
   ]
  },
  {
   "cell_type": "code",
   "execution_count": 23,
   "metadata": {},
   "outputs": [
    {
     "data": {
      "text/plain": [
       "[{Va: -Iin*Z_1*Z_2*Z_4*Z_5/(Z_1*Z_4*Z_5 - Z_2*Z_3*Z_4 + Z_2*Z_3*Z_5 + Z_2*Z_4*Z_5 + Z_3*Z_4*Z_5),\n",
       "  Vo1: Iin*(Z_1*Z_2*Z_3*Z_4 - Z_1*Z_2*Z_3*Z_5 - Z_1*Z_2*Z_4*Z_5 - Z_1*Z_3*Z_4*Z_5)/(Z_1*Z_4*Z_5 - Z_2*Z_3*Z_4 + Z_2*Z_3*Z_5 + Z_2*Z_4*Z_5 + Z_3*Z_4*Z_5),\n",
       "  Vo2: Iin*Z_1*Z_2*Z_4*Z_6/(Z_1*Z_4*Z_5 - Z_2*Z_3*Z_4 + Z_2*Z_3*Z_5 + Z_2*Z_4*Z_5 + Z_3*Z_4*Z_5)}]"
      ]
     },
     "execution_count": 23,
     "metadata": {},
     "output_type": "execute_result"
    }
   ],
   "source": [
    "solver.solutions"
   ]
  },
  {
   "cell_type": "code",
   "execution_count": 24,
   "metadata": {},
   "outputs": [
    {
     "data": {
      "text/latex": [
       "$\\displaystyle \\frac{Z_{1} Z_{2} Z_{4} Z_{6}}{Z_{1} Z_{4} Z_{5} - Z_{2} Z_{3} Z_{4} + Z_{2} Z_{3} Z_{5} + Z_{2} Z_{4} Z_{5} + Z_{3} Z_{4} Z_{5}}$"
      ],
      "text/plain": [
       "Z_1*Z_2*Z_4*Z_6/(Z_1*Z_4*Z_5 - Z_2*Z_3*Z_4 + Z_2*Z_3*Z_5 + Z_2*Z_4*Z_5 + Z_3*Z_4*Z_5)"
      ]
     },
     "execution_count": 24,
     "metadata": {},
     "output_type": "execute_result"
    }
   ],
   "source": [
    "symcircuit_sol = solver.baseHs\n",
    "symcircuit_sol"
   ]
  },
  {
   "cell_type": "markdown",
   "metadata": {},
   "source": [
    "## Impedance Analyzer"
   ]
  },
  {
   "cell_type": "code",
   "execution_count": 25,
   "metadata": {},
   "outputs": [
    {
     "name": "stdout",
     "output_type": "stream",
     "text": [
      "True\n"
     ]
    },
    {
     "data": {
      "text/plain": [
       "<symxplorer.symbolic_solver.solver.Impedance_Analyzer at 0x115d56d50>"
      ]
     },
     "execution_count": 25,
     "metadata": {},
     "output_type": "execute_result"
    }
   ],
   "source": [
    "analysis = Impedance_Analyzer(\"VLSI_CMMF\", circuit_solver=solver)\n",
    "print(analysis.isCircuitSolved())\n",
    "analysis"
   ]
  },
  {
   "cell_type": "code",
   "execution_count": 26,
   "metadata": {},
   "outputs": [
    {
     "name": "stdout",
     "output_type": "stream",
     "text": [
      "1 - Z_1 - allowed connections [R_1, 1/(C_1*s), R_1 + 1/(C_1*s), R_1/(C_1*R_1*s + 1)]\n",
      "2 - Z_2 - allowed connections [R_2, 1/(C_2*s), R_2 + 1/(C_2*s), R_2/(C_2*R_2*s + 1)]\n",
      "3 - Z_3 - allowed connections [R_3, 1/(C_3*s), R_3 + 1/(C_3*s), R_3/(C_3*R_3*s + 1)]\n",
      "4 - Z_4 - allowed connections [R_4, 1/(C_4*s), R_4 + 1/(C_4*s), R_4/(C_4*R_4*s + 1)]\n",
      "5 - Z_5 - allowed connections [R_5, 1/(C_5*s), R_5 + 1/(C_5*s), R_5/(C_5*R_5*s + 1)]\n",
      "6 - Z_6 - allowed connections [R_6, 1/(C_6*s), R_6 + 1/(C_6*s), R_6/(C_6*R_6*s + 1)]\n"
     ]
    }
   ],
   "source": [
    "for block in analysis.impedance_blocks:\n",
    "    print(f\"{block.name} - {block.symbol} - allowed connections {block.allowedConnections}\")"
   ]
  },
  {
   "cell_type": "code",
   "execution_count": 27,
   "metadata": {},
   "outputs": [
    {
     "name": "stdout",
     "output_type": "stream",
     "text": [
      "combo key = Z1_Z2_Z3_Z4_Z5_Z6\n"
     ]
    },
    {
     "name": "stderr",
     "output_type": "stream",
     "text": [
      "Getting the TFs (CG): 100%|██████████| 4096/4096 [00:51<00:00, 80.01combo/s] "
     ]
    },
    {
     "name": "stdout",
     "output_type": "stream",
     "text": [
      "Number of transfer functions found: 4096\n"
     ]
    },
    {
     "name": "stderr",
     "output_type": "stream",
     "text": [
      "\n"
     ]
    }
   ],
   "source": [
    "analysis.computeTFs(comboKey=\"Z1_Z2_Z3_Z4_Z5_Z6\")"
   ]
  },
  {
   "cell_type": "code",
   "execution_count": 28,
   "metadata": {},
   "outputs": [
    {
     "name": "stderr",
     "output_type": "stream",
     "text": [
      "Computing Biquad filter parameters: 100%|██████████| 4096/4096 [00:55<00:00, 73.18filter/s] \n"
     ]
    }
   ],
   "source": [
    "analysis.classifier.classifyBiQuadFilters()"
   ]
  },
  {
   "cell_type": "code",
   "execution_count": 29,
   "metadata": {},
   "outputs": [
    {
     "name": "stdout",
     "output_type": "stream",
     "text": [
      "summarizing for filters in ['AP', 'BP', 'BS', 'GE', 'HP', 'LP', 'X-INVALID-NUMER', 'X-INVALID-ORDER', 'X-INVALID-WZ', 'X-PolynomialError']\n",
      "AP : 0\n",
      "BP : 120\n",
      "BS : 0\n",
      "GE : 0\n",
      "HP : 28\n",
      "LP : 120\n",
      "X-INVALID-NUMER : 434\n",
      "X-INVALID-ORDER : 3190\n",
      "X-INVALID-WZ : 204\n",
      "X-PolynomialError : 0\n"
     ]
    }
   ],
   "source": [
    "classifications = analysis.classifier.summarizeFilterType()"
   ]
  },
  {
   "cell_type": "code",
   "execution_count": 30,
   "metadata": {},
   "outputs": [
    {
     "name": "stdout",
     "output_type": "stream",
     "text": [
      "LaTeX report generated and saved to: Runs/VLSI_CMMF/CMMF_BiQuad_Z1_Z2_Z3_Z4_Z5_Z6/CMMF_BiQuad_Z1_Z2_Z3_Z4_Z5_Z6_summary.tex\n"
     ]
    }
   ],
   "source": [
    "analysis.reportSummary(\"CMMF_BiQuad\", \"Z1_Z2_Z3_Z4_Z5_Z6\")"
   ]
  },
  {
   "cell_type": "code",
   "execution_count": 31,
   "metadata": {},
   "outputs": [],
   "source": [
    "# analysis.classifier.classifyFilter(filterOrder=\"FirstOrder\")"
   ]
  },
  {
   "cell_type": "code",
   "execution_count": 19,
   "metadata": {},
   "outputs": [
    {
     "name": "stdout",
     "output_type": "stream",
     "text": [
      "summarizing for filters in ['AP', 'BP', 'BS', 'GE', 'HP', 'LP', 'X-INVALID-NUMER', 'X-INVALID-ORDER', 'X-INVALID-WZ', 'X-PolynomialError']\n",
      "AP : 0\n",
      "BP : 73\n",
      "BS : 0\n",
      "GE : 0\n",
      "HP : 28\n",
      "LP : 52\n",
      "X-INVALID-NUMER : 0\n",
      "X-INVALID-ORDER : 3943\n",
      "X-INVALID-WZ : 0\n",
      "X-PolynomialError : 0\n"
     ]
    }
   ],
   "source": [
    "classifications = analysis.classifier.summarizeFilterType()"
   ]
  },
  {
   "cell_type": "code",
   "execution_count": 20,
   "metadata": {},
   "outputs": [
    {
     "name": "stdout",
     "output_type": "stream",
     "text": [
      "LaTeX report generated and saved to: Runs/VLSI_CMMF/CMMF_FirstOrder_no_stability_check_Z1_Z2_Z3_Z4_Z5/CMMF_FirstOrder_no_stability_check_Z1_Z2_Z3_Z4_Z5_summary.tex\n"
     ]
    }
   ],
   "source": [
    "analysis.reportSummary(\"CMMF_FirstOrder_no_stability_check\", \"Z1_Z2_Z3_Z4_Z5\")"
   ]
  },
  {
   "cell_type": "code",
   "execution_count": 21,
   "metadata": {},
   "outputs": [
    {
     "name": "stderr",
     "output_type": "stream",
     "text": [
      "100%|██████████| 4096/4096 [01:53<00:00, 36.07filter/s] "
     ]
    },
    {
     "name": "stdout",
     "output_type": "stream",
     "text": [
      "summarizing for filters in ['AP', 'BP', 'BP-UNSTABLE-ZERO', 'BS', 'GE', 'HP', 'LP', 'X-INVALID-NUMER', 'X-INVALID-ORDER', 'X-INVALID-WZ', 'X-PolynomialError']\n",
      "AP : 0\n",
      "BP : 72\n",
      "BP-UNSTABLE-ZERO : 1\n",
      "BS : 0\n",
      "GE : 0\n",
      "HP : 28\n",
      "LP : 52\n",
      "X-INVALID-NUMER : 0\n",
      "X-INVALID-ORDER : 3943\n",
      "X-INVALID-WZ : 0\n",
      "X-PolynomialError : 0\n"
     ]
    },
    {
     "name": "stderr",
     "output_type": "stream",
     "text": [
      "\n"
     ]
    },
    {
     "data": {
      "text/plain": [
       "[FilterClassification(valid=False, fType=BP-UNSTABLE-ZERO, parameters={'wo': -(C_6*R_1*R_4 + C_6*R_2*R_3 + C_6*R_2*R_4 + C_6*R_3*R_4)/(C_5*C_6*R_2*R_3*R_4), 'wz': 1/(C_6*R_6), 'K': -R_1*R_6/R_3})zCombo=(R_1, R_2, R_3, R_4, 1/(C_5*s), R_6 + 1/(C_6*s)), transferFunc=(C_5*C_6*R_1*R_2*R_4*R_6*s + C_5*R_1*R_2*R_4)/(-C_5*C_6*R_2*R_3*R_4*s + C_6*R_1*R_4 + C_6*R_2*R_3 + C_6*R_2*R_4 + C_6*R_3*R_4), ]"
      ]
     },
     "execution_count": 21,
     "metadata": {},
     "output_type": "execute_result"
    }
   ],
   "source": [
    "analysis.classifier.validate_stability(fType=\"BP\")"
   ]
  },
  {
   "cell_type": "code",
   "execution_count": 22,
   "metadata": {},
   "outputs": [
    {
     "name": "stdout",
     "output_type": "stream",
     "text": [
      "LaTeX report generated and saved to: Runs/VLSI_CMMF/CMMF_FirstOrder_BP_stability_check_Z1_Z2_Z3_Z4_Z5/CMMF_FirstOrder_BP_stability_check_Z1_Z2_Z3_Z4_Z5_summary.tex\n"
     ]
    }
   ],
   "source": [
    "analysis.reportSummary(\"CMMF_FirstOrder_BP_stability_check\", \"Z1_Z2_Z3_Z4_Z5\")\n"
   ]
  },
  {
   "cell_type": "code",
   "execution_count": 23,
   "metadata": {},
   "outputs": [
    {
     "name": "stdout",
     "output_type": "stream",
     "text": [
      "LaTeX report saved to: Runs/VLSI_CMMF/CMMF_FirstOrder_BP_stability_check_BP_ONLY_Z1_Z2_Z3_Z4_Z5/CMMF_FirstOrder_BP_stability_check_BP_ONLY_Z1_Z2_Z3_Z4_Z5_BP.tex\n"
     ]
    }
   ],
   "source": [
    "analysis.reportType(experimentName=\"CMMF_FirstOrder_BP_stability_check_BP_ONLY\", fType=\"BP\", Z_arr=\"Z1_Z2_Z3_Z4_Z5\")\n"
   ]
  },
  {
   "cell_type": "code",
   "execution_count": 24,
   "metadata": {},
   "outputs": [
    {
     "name": "stdout",
     "output_type": "stream",
     "text": [
      "\n",
      "=== Compiling the reports to PDF ===\n",
      "----** compiling Runs/VLSI_CMMF/CMMF_BiQuad_Z1_Z2_Z3_Z4_Z5_Z6/CMMF_BiQuad_Z1_Z2_Z3_Z4_Z5_Z6_summary.tex **----\n",
      "PDF generated: Runs/VLSI_CMMF/CMMF_BiQuad_Z1_Z2_Z3_Z4_Z5_Z6/CMMF_BiQuad_Z1_Z2_Z3_Z4_Z5_Z6_summary.pdf\n",
      "----** compiling Runs/VLSI_CMMF/CMMF_FirstOrder_no_stability_check_Z1_Z2_Z3_Z4_Z5/CMMF_FirstOrder_no_stability_check_Z1_Z2_Z3_Z4_Z5_summary.tex **----\n",
      "PDF generated: Runs/VLSI_CMMF/CMMF_FirstOrder_no_stability_check_Z1_Z2_Z3_Z4_Z5/CMMF_FirstOrder_no_stability_check_Z1_Z2_Z3_Z4_Z5_summary.pdf\n",
      "----** compiling Runs/VLSI_CMMF/CMMF_FirstOrder_BP_stability_check_Z1_Z2_Z3_Z4_Z5/CMMF_FirstOrder_BP_stability_check_Z1_Z2_Z3_Z4_Z5_summary.tex **----\n",
      "PDF generated: Runs/VLSI_CMMF/CMMF_FirstOrder_BP_stability_check_Z1_Z2_Z3_Z4_Z5/CMMF_FirstOrder_BP_stability_check_Z1_Z2_Z3_Z4_Z5_summary.pdf\n",
      "----** compiling Runs/VLSI_CMMF/CMMF_FirstOrder_BP_stability_check_BP_ONLY_Z1_Z2_Z3_Z4_Z5/CMMF_FirstOrder_BP_stability_check_BP_ONLY_Z1_Z2_Z3_Z4_Z5_BP.tex **----\n",
      "PDF generated: Runs/VLSI_CMMF/CMMF_FirstOrder_BP_stability_check_BP_ONLY_Z1_Z2_Z3_Z4_Z5/CMMF_FirstOrder_BP_stability_check_BP_ONLY_Z1_Z2_Z3_Z4_Z5_BP.pdf\n",
      "=== Compiling DONE ===\n",
      "\n"
     ]
    }
   ],
   "source": [
    "analysis.compilePDF()"
   ]
  },
  {
   "cell_type": "markdown",
   "metadata": {},
   "source": [
    "# Automated Search"
   ]
  },
  {
   "cell_type": "code",
   "execution_count": 3,
   "metadata": {},
   "outputs": [
    {
     "name": "stdout",
     "output_type": "stream",
     "text": [
      "\n",
      "--- Found a unique pkl file at Runs/VLSI_CMMF_Automated_NA/results_circuit_solution.pkl\n",
      "--- Updated the circuit solver\n",
      "Loading the circuit solver from past runs\n",
      "** Loading the circuit history\n",
      "could not ressolve the path to the pkl file (found 0)\n",
      "** Found 0 keys already computed\n",
      "Experiment keys: ['Z1_Z2_Z3_Z4_Z5_Z6']\n",
      "Experiment will be ran for 1 keys: ['Z1_Z2_Z3_Z4_Z5_Z6']\n",
      "--> Running the VLSI_CMMF_Automated_NA Experiment for Z1_Z2_Z3_Z4_Z5_Z6 (1/1)\n",
      "\n",
      "combo key = Z1_Z2_Z3_Z4_Z5_Z6\n"
     ]
    },
    {
     "name": "stderr",
     "output_type": "stream",
     "text": [
      "Getting the TFs (CG): 100%|██████████| 4096/4096 [01:03<00:00, 64.40combo/s] \n"
     ]
    },
    {
     "name": "stdout",
     "output_type": "stream",
     "text": [
      "Number of transfer functions found: 4096\n"
     ]
    },
    {
     "name": "stderr",
     "output_type": "stream",
     "text": [
      "Computing Biquad filter parameters: 100%|██████████| 4096/4096 [01:00<00:00, 68.00filter/s] \n"
     ]
    },
    {
     "name": "stdout",
     "output_type": "stream",
     "text": [
      "summarizing for filters in ['AP', 'BP', 'BS', 'GE', 'HP', 'LP', 'X-INVALID-NUMER', 'X-INVALID-ORDER', 'X-INVALID-WZ', 'X-PolynomialError']\n",
      "AP : 0\n",
      "BP : 120\n",
      "BS : 0\n",
      "GE : 0\n",
      "HP : 28\n",
      "LP : 120\n",
      "X-INVALID-NUMER : 434\n",
      "X-INVALID-ORDER : 3190\n",
      "X-INVALID-WZ : 204\n",
      "X-PolynomialError : 0\n",
      "LaTeX report generated and saved to: Runs/VLSI_CMMF_Automated_NA/VLSI_CMMF_Automated_NA_Z1_Z2_Z3_Z4_Z5_Z6/VLSI_CMMF_Automated_NA_Z1_Z2_Z3_Z4_Z5_Z6_summary.tex\n",
      "\n",
      "=== Compiling the reports to PDF ===\n",
      "----** compiling Runs/VLSI_CMMF_Automated_NA/VLSI_CMMF_Automated_NA_Z1_Z2_Z3_Z4_Z5_Z6/VLSI_CMMF_Automated_NA_Z1_Z2_Z3_Z4_Z5_Z6_summary.tex **----\n",
      "PDF generated: Runs/VLSI_CMMF_Automated_NA/VLSI_CMMF_Automated_NA_Z1_Z2_Z3_Z4_Z5_Z6/VLSI_CMMF_Automated_NA_Z1_Z2_Z3_Z4_Z5_Z6_summary.pdf\n",
      "=== Compiling DONE ===\n",
      "\n",
      "\n",
      "=== ExperimentResult saved successfully to Runs/VLSI_CMMF_Automated_NA/results.pkl - 2483.152 kb ===\n",
      "\n",
      "<----> END OF EXPERIMENT <---->\n",
      "Impedance Keys analyzed (count: 1): \n",
      "['Z1_Z2_Z3_Z4_Z5_Z6']\n"
     ]
    }
   ],
   "source": [
    "from   symxplorer.symbolic_solver.solver     import run_experiment\n",
    "\n",
    "circuit = TIA_CMMF.circuit\n",
    "\n",
    "\n",
    "experiment_result = run_experiment(\"VLSI_CMMF_Automated\",\n",
    "               T_type=\"NA\",\n",
    "               circuit=circuit,\n",
    "               minNumOfActiveImpedances=3,\n",
    "               maxNumOfActiveImpedances=5,\n",
    "               impedanceKeysOverwrite= [\n",
    "                   \"Z1_Z2_Z3_Z4_Z5_Z6\",\n",
    "                #    \"Z2_Z3_Z4_Z5_Z6\",\n",
    "                #    \"Z1_Z3_Z4_Z5_Z6\",\n",
    "                #    \"Z1_Z2_Z3_Z5_Z6\",\n",
    "                #    \"Z3_Z4_Z5_Z6\",\n",
    "                #    \"Z2_Z3_Z5_Z6\",\n",
    "                #    \"Z1_Z3_Z5_Z6\",\n",
    "                #    \"Z3_Z5_Z6\",\n",
    "                   ],\n",
    "               outputFrom= [\"Vo2\", \"0\"],\n",
    "               inputFrom=[\"Iin\", \"0\"],\n",
    "               loadHistory=True\n",
    "               )\n"
   ]
  },
  {
   "cell_type": "code",
   "execution_count": 4,
   "metadata": {},
   "outputs": [
    {
     "data": {
      "text/latex": [
       "$\\displaystyle \\frac{Z_{1} Z_{2} Z_{4} Z_{6}}{Z_{1} Z_{4} Z_{5} - Z_{2} Z_{3} Z_{4} + Z_{2} Z_{3} Z_{5} + Z_{2} Z_{4} Z_{5} + Z_{3} Z_{4} Z_{5}}$"
      ],
      "text/plain": [
       "Z_1*Z_2*Z_4*Z_6/(Z_1*Z_4*Z_5 - Z_2*Z_3*Z_4 + Z_2*Z_3*Z_5 + Z_2*Z_4*Z_5 + Z_3*Z_4*Z_5)"
      ]
     },
     "execution_count": 4,
     "metadata": {},
     "output_type": "execute_result"
    }
   ],
   "source": [
    "classifications, tf = experiment_result.get_impedance_key(\"Z1_Z2_Z3_Z4_Z5_Z6\")\n",
    "tf"
   ]
  },
  {
   "cell_type": "code",
   "execution_count": 5,
   "metadata": {},
   "outputs": [
    {
     "data": {
      "text/plain": [
       "(list, symxplorer.symbolic_solver.domains.Filter_Classification)"
      ]
     },
     "execution_count": 5,
     "metadata": {},
     "output_type": "execute_result"
    }
   ],
   "source": [
    "type(classifications), type(classifications[-1])"
   ]
  },
  {
   "cell_type": "code",
   "execution_count": null,
   "metadata": {},
   "outputs": [],
   "source": [
    "# df_classifications = experiment_result.flatten_classifications()\n",
    "# df_classifications"
   ]
  },
  {
   "cell_type": "code",
   "execution_count": null,
   "metadata": {},
   "outputs": [],
   "source": [
    "# df_tfs = experiment_result.flatten_tfs()\n",
    "# df_tfs"
   ]
  },
  {
   "cell_type": "code",
   "execution_count": 28,
   "metadata": {},
   "outputs": [
    {
     "name": "stdout",
     "output_type": "stream",
     "text": [
      "Writting VLSI_CMMF_Automated_NA to csv files\n",
      "flattened all the classifications to Runs/VLSI_CMMF_Automated_NA/classifications_.csv\n",
      "flattened all the classifications to Runs/VLSI_CMMF_Automated_NA/tfs_.csv\n"
     ]
    }
   ],
   "source": [
    "experiment_result.to_csv()"
   ]
  }
 ],
 "metadata": {
  "kernelspec": {
   "display_name": "myenv",
   "language": "python",
   "name": "python3"
  },
  "language_info": {
   "codemirror_mode": {
    "name": "ipython",
    "version": 3
   },
   "file_extension": ".py",
   "mimetype": "text/x-python",
   "name": "python",
   "nbconvert_exporter": "python",
   "pygments_lexer": "ipython3",
   "version": "3.12.2"
  }
 },
 "nbformat": 4,
 "nbformat_minor": 2
}
