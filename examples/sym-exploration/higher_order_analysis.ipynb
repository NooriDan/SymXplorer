{
 "cells": [
  {
   "cell_type": "code",
   "execution_count": 1,
   "metadata": {},
   "outputs": [],
   "source": [
    "import sympy\n",
    "import pandas as pd\n",
    "from tqdm import tqdm\n",
    "from symxplorer.symbolic_solver.domains import ExperimentResult"
   ]
  },
  {
   "cell_type": "markdown",
   "metadata": {},
   "source": [
    "# Loading the Results of VLSI CMMF Exploration"
   ]
  },
  {
   "cell_type": "code",
   "execution_count": 2,
   "metadata": {},
   "outputs": [],
   "source": [
    "results = ExperimentResult(\"VLSI_CMMF_POST_EXPERIMENT\")\n",
    "dir_of_results = results.find_results_file(\"Runs/VLSI_CMMF_Automated_NA\")\n",
    "results = results.load(f\"{dir_of_results[0]}/results.pkl\")"
   ]
  },
  {
   "cell_type": "code",
   "execution_count": 3,
   "metadata": {},
   "outputs": [
    {
     "data": {
      "text/plain": [
       "dict_keys(['Z1_Z2_Z3_Z4_Z5_Z6'])"
      ]
     },
     "execution_count": 3,
     "metadata": {},
     "output_type": "execute_result"
    }
   ],
   "source": [
    "results.classifications_dict.keys()"
   ]
  },
  {
   "cell_type": "code",
   "execution_count": 4,
   "metadata": {},
   "outputs": [
    {
     "data": {
      "text/plain": [
       "(4096,\n",
       " FilterClassification(False, X-INVALID-ORDER, None)(R_1, R_2, R_3, R_4, R_5, R_6), R_1*R_2*R_4*R_6/(R_1*R_4*R_5 - R_2*R_3*R_4 + R_2*R_3*R_5 + R_2*R_4*R_5 + R_3*R_4*R_5))"
      ]
     },
     "execution_count": 4,
     "metadata": {},
     "output_type": "execute_result"
    }
   ],
   "source": [
    "classifications_of_intrest = results.classifications_dict[\"Z1_Z2_Z3_Z4_Z5_Z6\"]\n",
    "len(classifications_of_intrest), classifications_of_intrest[0]"
   ]
  },
  {
   "cell_type": "code",
   "execution_count": 5,
   "metadata": {},
   "outputs": [],
   "source": [
    "# df = results.flatten_classifications() # This way we can access all the classsifcation into a pandas df"
   ]
  },
  {
   "cell_type": "code",
   "execution_count": 6,
   "metadata": {},
   "outputs": [
    {
     "data": {
      "text/plain": [
       "(120, {'BP'})"
      ]
     },
     "execution_count": 6,
     "metadata": {},
     "output_type": "execute_result"
    }
   ],
   "source": [
    "classifications_of_intrest = []\n",
    "\n",
    "for key in results.classifications_dict.keys():\n",
    "    classifications = results.classifications_dict[key]\n",
    "\n",
    "    classifications_of_intrest += ([classification \n",
    "                                for classification in classifications \n",
    "                                if (classification.fType in [\"BP\"] )]\n",
    "                                )\n",
    "    \n",
    "    fTypes = set(classification.fType for classification in classifications_of_intrest)\n",
    "\n",
    "len(classifications_of_intrest), fTypes"
   ]
  },
  {
   "cell_type": "code",
   "execution_count": 7,
   "metadata": {},
   "outputs": [
    {
     "data": {
      "text/plain": [
       "(R_1, R_2, R_3, 1/(C_4*s), R_5 + 1/(C_5*s), R_6)"
      ]
     },
     "execution_count": 7,
     "metadata": {},
     "output_type": "execute_result"
    }
   ],
   "source": [
    "idx = 3\n",
    "classifications_of_intrest[idx].zCombo"
   ]
  },
  {
   "cell_type": "code",
   "execution_count": 8,
   "metadata": {},
   "outputs": [
    {
     "data": {
      "text/latex": [
       "$\\displaystyle \\frac{C_{5} R_{1} R_{2} R_{6} s}{C_{4} C_{5} R_{2} R_{3} R_{5} s^{2} + R_{1} + R_{2} + R_{3} + s \\left(C_{4} R_{2} R_{3} + C_{5} R_{1} R_{5} - C_{5} R_{2} R_{3} + C_{5} R_{2} R_{5} + C_{5} R_{3} R_{5}\\right)}$"
      ],
      "text/plain": [
       "C_5*R_1*R_2*R_6*s/(C_4*C_5*R_2*R_3*R_5*s**2 + R_1 + R_2 + R_3 + s*(C_4*R_2*R_3 + C_5*R_1*R_5 - C_5*R_2*R_3 + C_5*R_2*R_5 + C_5*R_3*R_5))"
      ]
     },
     "execution_count": 8,
     "metadata": {},
     "output_type": "execute_result"
    }
   ],
   "source": [
    "classifications_of_intrest[idx].transferFunc"
   ]
  },
  {
   "cell_type": "code",
   "execution_count": 9,
   "metadata": {},
   "outputs": [
    {
     "data": {
      "text/latex": [
       "$\\displaystyle \\frac{\\sqrt{C_{4}} \\sqrt{C_{5}} \\sqrt{R_{2}} \\sqrt{R_{3}} \\sqrt{R_{5}} \\sqrt{R_{1} + R_{2} + R_{3}}}{C_{4} R_{2} R_{3} + C_{5} R_{1} R_{5} - C_{5} R_{2} R_{3} + C_{5} R_{2} R_{5} + C_{5} R_{3} R_{5}}$"
      ],
      "text/plain": [
       "sqrt(C_4)*sqrt(C_5)*sqrt(R_2)*sqrt(R_3)*sqrt(R_5)*sqrt(R_1 + R_2 + R_3)/(C_4*R_2*R_3 + C_5*R_1*R_5 - C_5*R_2*R_3 + C_5*R_2*R_5 + C_5*R_3*R_5)"
      ]
     },
     "execution_count": 9,
     "metadata": {},
     "output_type": "execute_result"
    }
   ],
   "source": [
    "Q = classifications_of_intrest[idx].parameters[\"Q\"].simplify()\n",
    "Q"
   ]
  },
  {
   "cell_type": "code",
   "execution_count": 10,
   "metadata": {},
   "outputs": [
    {
     "data": {
      "text/latex": [
       "$\\displaystyle \\frac{C_{5} R_{1} R_{2} R_{6}}{C_{4} R_{2} R_{3} + C_{5} R_{1} R_{5} - C_{5} R_{2} R_{3} + C_{5} R_{2} R_{5} + C_{5} R_{3} R_{5}}$"
      ],
      "text/plain": [
       "C_5*R_1*R_2*R_6/(C_4*R_2*R_3 + C_5*R_1*R_5 - C_5*R_2*R_3 + C_5*R_2*R_5 + C_5*R_3*R_5)"
      ]
     },
     "execution_count": 10,
     "metadata": {},
     "output_type": "execute_result"
    }
   ],
   "source": [
    "K = classifications_of_intrest[idx].parameters[\"K_BP\"].simplify()\n",
    "K"
   ]
  },
  {
   "cell_type": "code",
   "execution_count": 11,
   "metadata": {},
   "outputs": [
    {
     "data": {
      "text/latex": [
       "$\\displaystyle \\frac{\\sqrt{R_{1} + R_{2} + R_{3}}}{\\sqrt{C_{4}} \\sqrt{C_{5}} \\sqrt{R_{2}} \\sqrt{R_{3}} \\sqrt{R_{5}}}$"
      ],
      "text/plain": [
       "sqrt(R_1 + R_2 + R_3)/(sqrt(C_4)*sqrt(C_5)*sqrt(R_2)*sqrt(R_3)*sqrt(R_5))"
      ]
     },
     "execution_count": 11,
     "metadata": {},
     "output_type": "execute_result"
    }
   ],
   "source": [
    "wo = classifications_of_intrest[idx].parameters[\"wo\"].simplify()\n",
    "wo"
   ]
  },
  {
   "cell_type": "markdown",
   "metadata": {},
   "source": [
    "# Examining the Higher Order Filters "
   ]
  },
  {
   "cell_type": "code",
   "execution_count": null,
   "metadata": {},
   "outputs": [],
   "source": [
    "classifications_of_intrest = results.get_filter_types([\"X-INVALID-ORDER\", \"X-INVALID-NUMER\"])\n",
    "len(classifications_of_intrest)"
   ]
  },
  {
   "cell_type": "markdown",
   "metadata": {},
   "source": [
    "## Update filterOrders"
   ]
  },
  {
   "cell_type": "code",
   "execution_count": null,
   "metadata": {},
   "outputs": [],
   "source": [
    "count = {\n",
    "    \"X-CONST\" : 0,\n",
    "}\n",
    "s = sympy.symbols(\"s\")\n",
    "\n",
    "for i, classification in enumerate(classifications_of_intrest):\n",
    "    tf = classification.transferFunc\n",
    "\n",
    "    if not (s in tf.free_symbols): # TF id NOT a function of S - Pure amplifier/level-shifter\n",
    "        ftype = \"X-CONST\"\n",
    "        count[ftype] += 1\n",
    "        classifications_of_intrest[i].fType = \"X-CONST\"\n",
    "        classifications_of_intrest[i].filterOrder = \"Zero\"\n",
    "\n",
    "count"
   ]
  },
  {
   "cell_type": "markdown",
   "metadata": {},
   "source": [
    "## Load the old classification into a classifier object"
   ]
  },
  {
   "cell_type": "code",
   "execution_count": null,
   "metadata": {},
   "outputs": [],
   "source": [
    "from symxplorer.symbolic_solver.filter import Filter_Classifier\n",
    "\n",
    "classifier = Filter_Classifier()\n",
    "classifier.overwrite_classifications(classifications_of_intrest)\n",
    "classifier.isClassified(), len(classifier.classifications)\n"
   ]
  },
  {
   "cell_type": "code",
   "execution_count": 21,
   "metadata": {},
   "outputs": [],
   "source": [
    "# classifier.classifyFilter(filterOrder=\"FirstOrder\")"
   ]
  },
  {
   "cell_type": "code",
   "execution_count": 22,
   "metadata": {},
   "outputs": [],
   "source": [
    "# classifier.summarizeFilterType()"
   ]
  },
  {
   "cell_type": "markdown",
   "metadata": {},
   "source": [
    "# Analyze higher orders\n",
    "- **LP-3rd order**: num_deg = 0, denom_deg = 3\n",
    "    -  The denom is decomposable into 1 second-orders and 1 first-order\n",
    "- **HP-4th Order**: num_deg = 4, denom_deg = 4\n",
    "    -  N(s) has only s^4 term\n",
    "- **BP-4th order**: num_deg = 0, denom_deg = 4\n",
    "    -  N(s) only has s^2 term\n",
    "    -  The denom is decomposable into 2 second-orders"
   ]
  },
  {
   "cell_type": "markdown",
   "metadata": {},
   "source": [
    "### LP-3rd Order"
   ]
  },
  {
   "cell_type": "code",
   "execution_count": null,
   "metadata": {},
   "outputs": [],
   "source": [
    "from tqdm import tqdm\n",
    "# from tqdm.gui import tqdm\n",
    "\n",
    "def get_3rd_order_lp(classifier, check_for_stability: bool = False):\n",
    "    classifications, count = classifier.findFilterInClassification(denom_order=3, numer_order=0, printMessage=False)\n",
    "    print(f\"{count} candidates for 3rd-order LP\")\n",
    "\n",
    "    output = []\n",
    "    count = 0\n",
    "    count_valid = 0\n",
    "    for classification in tqdm(classifications, total=len(classifications)):\n",
    "        count += 1\n",
    "        tf = classification.transferFunc\n",
    "        k, numer, denom = classifier.decompose_tf(tf)\n",
    "\n",
    "        valid = True\n",
    "        for poly in denom:\n",
    "            order = poly.degree()\n",
    "            if order == 1: \n",
    "                if (len(poly.as_dict()) != 2) or (check_for_stability and not classifier.is_poly_stable(poly)):\n",
    "                    valid = False\n",
    "                    break\n",
    "                \n",
    "            elif order == 2:\n",
    "                if (len(poly.as_dict()) != 3) or (check_for_stability and not classifier.is_poly_stable(poly)):\n",
    "                    valid = False\n",
    "                    break\n",
    "\n",
    "            else:\n",
    "                valid = False\n",
    "                break\n",
    "        gain = None\n",
    "        if valid:\n",
    "            count_valid += 1\n",
    "            tf = classification.transferFunc\n",
    "            gain = sympy.limit(tf, sympy.symbols(\"s\"), 0)\n",
    "            # print(f\"ID {count} - valid\")\n",
    "\n",
    "        output += [{\n",
    "            \"valid\": valid,\n",
    "            \"zCombo\": classification.zCombo,\n",
    "            \"tf\" : sympy.latex(classification.transferFunc),\n",
    "            \"DC-Gain\": gain,\n",
    "            \"k\" :  k,\n",
    "            \"numer\": numer,\n",
    "            \"denom\": denom,\n",
    "            \"num-factor-count\":len(numer),\n",
    "            \"denom-factor-count\": len(denom)\n",
    "        }]\n",
    "\n",
    "    print(f\"{count_valid} verified filters\")\n",
    "\n",
    "    return output\n",
    "output_lp = get_3rd_order_lp(classifier)\n",
    "\n",
    "df_lp = pd.DataFrame(output_lp)\n",
    "df_lp.to_csv(f\"Runs/{results.experiment_name}/3rd_LP.csv\")\n",
    "df_lp"
   ]
  },
  {
   "cell_type": "code",
   "execution_count": null,
   "metadata": {},
   "outputs": [],
   "source": [
    "filtered = [output for output in output_lp if output[\"valid\"]]\n",
    "idx = 25\n",
    "x = filtered[idx] \n",
    "x[\"DC-Gain\"]"
   ]
  },
  {
   "cell_type": "code",
   "execution_count": null,
   "metadata": {},
   "outputs": [],
   "source": [
    "x[\"denom\"][1]"
   ]
  },
  {
   "cell_type": "code",
   "execution_count": null,
   "metadata": {},
   "outputs": [],
   "source": [
    "x[\"denom\"][0]"
   ]
  },
  {
   "cell_type": "code",
   "execution_count": null,
   "metadata": {},
   "outputs": [],
   "source": [
    "x[\"zCombo\"]"
   ]
  },
  {
   "cell_type": "markdown",
   "metadata": {},
   "source": [
    "### HP-4th Order"
   ]
  },
  {
   "cell_type": "code",
   "execution_count": null,
   "metadata": {},
   "outputs": [],
   "source": [
    "\n",
    "def get_4th_order_hp(classifier, check_for_stability: bool = False):\n",
    "    classifications, count = classifier.findFilterInClassification(denom_order=4, numer_order=4, printMessage=False)\n",
    "    print(f\"{count} candidates for 4th-order HP\")\n",
    "\n",
    "    output = []\n",
    "    count = 0\n",
    "    count_valid = 0 \n",
    "    for classification in tqdm(classifications, total=len(classifications)):\n",
    "        count += 1\n",
    "        tf = classification.transferFunc\n",
    "        k, numer, denom = classifier.decompose_tf(tf)\n",
    "\n",
    "        valid = True\n",
    "        for poly in denom:\n",
    "            order = poly.degree()\n",
    "            if order == 1: \n",
    "                if (len(poly.as_dict()) != 2) or (check_for_stability and not is_poly_stable(poly)):\n",
    "                    valid = False\n",
    "                    break\n",
    "                \n",
    "            elif order == 2:\n",
    "                if (len(poly.as_dict()) != 3) or (check_for_stability and not is_poly_stable(poly)):\n",
    "                    valid = False\n",
    "                    break\n",
    "\n",
    "            else:\n",
    "                valid = False\n",
    "                break\n",
    "\n",
    "        if len(numer) != 1:\n",
    "            valid = False\n",
    "        # else:\n",
    "        #     for exp in numer[0].as_dict():\n",
    "        #         if exp != 4:\n",
    "        #             valid = False\n",
    "\n",
    "\n",
    "        if valid:\n",
    "            count_valid += 1\n",
    "            # print(f\"ID {count} - valid\")\n",
    "\n",
    "        output += [{\n",
    "            \"valid\": valid,\n",
    "            \"zCombo\": classification.zCombo,\n",
    "            \"classification\" : classification,\n",
    "            \"k\" :  k,\n",
    "            \"numer\": numer,\n",
    "            \"denom\": denom,\n",
    "            \"num-factor-count\":len(numer),\n",
    "            \"denom-factor-count\": len(denom)\n",
    "        }]\n",
    "\n",
    "    print(f\"{count_valid} verified filters\")\n",
    "\n",
    "    return output\n",
    "\n",
    "output_hp = get_4th_order_hp(classifier)\n",
    "\n",
    "df_hp = pd.DataFrame(output_hp)\n",
    "df_hp.to_csv(f\"Runs/{results.experiment_name}/4th_HP.csv\")\n",
    "df_hp"
   ]
  },
  {
   "cell_type": "markdown",
   "metadata": {},
   "source": [
    "### BP-4th Order"
   ]
  },
  {
   "cell_type": "code",
   "execution_count": null,
   "metadata": {},
   "outputs": [],
   "source": [
    "classifications, count = classifier.findFilterInClassification(denom_order=4, numer_order=2, printMessage=False)\n",
    "\n",
    "def get_4th_order_bp(classifier, check_for_stability: bool = False):\n",
    "    classifications, count = classifier.findFilterInClassification(denom_order=4, numer_order=2, printMessage=False)\n",
    "    print(f\"{count} candidates for 4th-order BP\")\n",
    "\n",
    "    output = []\n",
    "    count = 0\n",
    "    count_valid = 0\n",
    "    for classification in tqdm(classifications, total=len(classifications)):\n",
    "        count += 1\n",
    "        tf = classification.transferFunc\n",
    "        k, numer, denom = classifier.decompose_tf(tf)\n",
    "\n",
    "        valid = True\n",
    "        for poly in denom:\n",
    "            order = poly.degree()\n",
    "            if order == 1: \n",
    "                if (len(poly.as_dict()) != 2) or (check_for_stability and not is_poly_stable(poly)):\n",
    "                    valid = False\n",
    "                    break\n",
    "                \n",
    "            elif order == 2:\n",
    "                if (len(poly.as_dict()) != 3) or (check_for_stability and not is_poly_stable(poly)):\n",
    "                    valid = False\n",
    "                    break\n",
    "\n",
    "            else:\n",
    "                valid = False\n",
    "                break\n",
    "\n",
    "        if len(numer) != 1:\n",
    "            valid = False\n",
    "\n",
    "        if valid:\n",
    "            count_valid += 1\n",
    "            # print(f\"ID {count} - valid\")\n",
    "\n",
    "        output += [{\n",
    "            \"valid\": valid,\n",
    "            \"zCombo\": classification.zCombo,\n",
    "            \"classification\" : classification,\n",
    "            \"k\" :  k,\n",
    "            \"numer\": numer,\n",
    "            \"denom\": denom,\n",
    "            \"num-factor-count\":len(numer),\n",
    "            \"denom-factor-count\": len(denom)\n",
    "        }]\n",
    "\n",
    "    print(f\"{count_valid} verified filters\")\n",
    "\n",
    "    return output\n",
    "\n",
    "output_bp = get_4th_order_bp(classifier)\n",
    "\n",
    "df_bp = pd.DataFrame(output_bp)\n",
    "df_bp.to_csv(f\"Runs/{results.experiment_name}/4th_BP.csv\")\n",
    "df_bp"
   ]
  },
  {
   "cell_type": "markdown",
   "metadata": {},
   "source": [
    "# Extract information from all"
   ]
  },
  {
   "cell_type": "code",
   "execution_count": null,
   "metadata": {},
   "outputs": [],
   "source": [
    "data = []\n",
    "for x in tqdm(classifier.classifications, total = len(classifier.classifications)):\n",
    "    k, numer, denom = classifier.decompose_tf(x.transferFunc)\n",
    "    \n",
    "    degrees_list_denom = [poly.degree() for poly in denom]\n",
    "    if len(degrees_list_denom) != 0:\n",
    "        max_degrees_denom = max(degrees_list_denom)\n",
    "    else: \n",
    "        max_degrees_denom = -1\n",
    "\n",
    "    degrees_list_numer = [poly.degree() for poly in numer]\n",
    "\n",
    "    if len(degrees_list_numer) != 0:\n",
    "        max_degrees_numer = max(degrees_list_numer)\n",
    "    else: \n",
    "        max_degrees_numer = -1\n",
    "\n",
    "    data += [\n",
    "        {\n",
    "            \"filter-ID\" : x.filter_id,\n",
    "            \"combo\" : x.zCombo,\n",
    "            \"TF\" : sympy.latex(x.transferFunc),\n",
    "            \"param\" : x.parameters,\n",
    "            \"type\" : x.fType,\n",
    "\n",
    "            \"denom order\" : x.tf_denom_order,\n",
    "            \"denom factor count\" : len(denom),\n",
    "            \"denom factor degrees\": degrees_list_denom,\n",
    "            \"max denom degree\" : max_degrees_denom,\n",
    "\n",
    "            \"numer order\" : x.tf_numer_order,\n",
    "            \"numer facator count\" : len(numer),\n",
    "            \"numer factor degrees\": degrees_list_numer,\n",
    "            \"max numer degree\" : max_degrees_numer,\n",
    "\n",
    "            \"k\" : k,\n",
    "            \"numer factors\" : numer,\n",
    "            \"denom factors\" :denom\n",
    "\n",
    "        }\n",
    "    ]\n",
    "\n",
    "df = pd.DataFrame(data)\n",
    "df.to_csv(f\"Runs/{results.experiment_name}/consice_summary.csv\")"
   ]
  },
  {
   "cell_type": "markdown",
   "metadata": {},
   "source": [
    "# Playground"
   ]
  },
  {
   "cell_type": "code",
   "execution_count": null,
   "metadata": {},
   "outputs": [],
   "source": [
    "from sympy import symbols, Poly, factor, simplify, solveset, S\n",
    "\n",
    "def decompose_tf(transfer_function, variable, assumptions={}):\n",
    "    \"\"\"\n",
    "    Decomposes the denominator of a transfer function into factors, \n",
    "    grouping strictly by the specified variable (e.g., `s`).\n",
    "\n",
    "    Args:\n",
    "        transfer_function: A Sympy expression representing the transfer function.\n",
    "        variable: The main variable to group by (e.g., `s`).\n",
    "        assumptions: A dictionary of assumptions for symbolic variables.\n",
    "\n",
    "    Returns:\n",
    "        A dictionary where each key is a factor (grouped by the main variable),\n",
    "        and the value contains its roots and properties.\n",
    "    \"\"\"\n",
    "    # Apply assumptions to all symbols\n",
    "    for var, assumption in assumptions.items():\n",
    "        var._assumptions.update({assumption: True})\n",
    "    \n",
    "    # Extract the denominator\n",
    "    denominator = transfer_function.as_numer_denom()[1]\n",
    "    \n",
    "    # Ensure the denominator is treated as a polynomial in the given variable\n",
    "    poly = Poly(denominator, variable)\n",
    "    \n",
    "    # Factorize strictly with respect to `variable`\n",
    "    factored = factor(poly.as_expr())\n",
    "    \n",
    "    # Inspect each factor\n",
    "    factors = factored.as_ordered_factors()\n",
    "    results = {}\n",
    "    for factor_expr in factors:\n",
    "        # Solve for the roots of this factor\n",
    "        roots = solveset(factor_expr, variable, domain=S.Complexes)\n",
    "        \n",
    "        # Analyze each root (e.g., real part)\n",
    "        roots_info = []\n",
    "        for root in roots:\n",
    "            real_part = simplify(root.as_real_imag()[0])\n",
    "            roots_info.append({\n",
    "                \"root\": root,\n",
    "                \"real_part\": real_part\n",
    "            })\n",
    "        \n",
    "        # Store results for this factor\n",
    "        results[str(factor_expr)] = {\n",
    "            \"factor\": factor_expr,\n",
    "            \"roots\": roots_info,\n",
    "            \"degree\": Poly(factor_expr, variable).degree()\n",
    "        }\n",
    "    \n",
    "    return results\n",
    "\n",
    "# Example: Define symbolic components\n",
    "R1, R2, R3 = symbols('R1 R2 R3', positive=True)  # Resistors\n",
    "L1 = symbols('L1', positive=True)  # Inductor\n",
    "C1, C2 = symbols('C1 C2', positive=True)  # Capacitors\n",
    "s = symbols('s')\n",
    "\n",
    "# Example transfer function\n",
    "G = (s + R1) / (L1 * s**3 + (R2 + R3) * s**2 + 1 / C1 * s + 1 / C2)\n",
    "\n",
    "# Decompose and inspect the factors\n",
    "results = decompose_tf(G, s)\n",
    "for factor, info in results.items():\n",
    "    print(f\"Factor: {info['factor']}\")\n",
    "    print(f\"Degree: {info['degree']}\")\n",
    "    print(\"Roots:\")\n",
    "    for root_info in info[\"roots\"]:\n",
    "        print(f\"  - Root: {root_info['root']}, Real part: {root_info['real_part']}\")\n",
    "    print()\n"
   ]
  },
  {
   "cell_type": "code",
   "execution_count": null,
   "metadata": {},
   "outputs": [],
   "source": [
    "results.keys()"
   ]
  },
  {
   "cell_type": "code",
   "execution_count": 51,
   "metadata": {},
   "outputs": [],
   "source": [
    "from sympy import symbols, Poly, factor, simplify, solveset, S\n",
    "\n",
    "def decompose_tf(transfer_function):\n",
    "    s = symbols(\"s\")\n",
    "\n",
    "    # Extract the numerator and denominator\n",
    "    numerator, denominator = transfer_function.as_numer_denom()\n",
    " \n",
    "    numerator = Poly(numerator, s)\n",
    "    denominator = Poly(denominator, s)\n",
    "\n",
    "    # Factorize strictly with respect to `variable`\n",
    "    numerator = factor(numerator.as_expr())\n",
    "    denominator = factor(denominator.as_expr())\n",
    "\n",
    "    # Inspect each factor\n",
    "    factors_numer = numerator.as_ordered_factors()\n",
    "    factors_denom = denominator.as_ordered_factors()\n",
    "    \n",
    "    return factors_numer, factors_denom\n",
    "\n",
    "# Example: Define symbolic components\n",
    "R1, R2, R3 = symbols('R1 R2 R3', positive=True)  # Resistors\n",
    "L1 = symbols('L1', positive=True)  # Inductor\n",
    "C1, C2 = symbols('C1 C2', positive=True)  # Capacitors\n",
    "s = symbols('s')\n",
    "\n",
    "# Example transfer function\n",
    "G = (s + R1) / (((s+R3)*(s**2 + s*2*C2+ 2*C2**2)).expand())\n",
    "G.expand()\n",
    "\n",
    "# Decompose and inspect the factors\n",
    "tup = decompose_tf(G)\n",
    "numer = tup[0]\n",
    "denom = tup[1]\n"
   ]
  },
  {
   "cell_type": "code",
   "execution_count": null,
   "metadata": {},
   "outputs": [],
   "source": [
    "from sympy import symbols, Eq, Matrix\n",
    "\n",
    "# Define variables\n",
    "x, y, z = symbols('x y z')\n",
    "\n",
    "# Define nonlinear equations\n",
    "eq1 = x\n",
    "eq2 = z\n",
    "eq3 = x/z\n",
    "\n",
    "# Form the Jacobian matrix\n",
    "equations = [eq1, eq2, eq3]\n",
    "variables = [x, y, z]\n",
    "jacobian = Matrix([[eq.diff(var) for var in variables] for eq in equations])\n",
    "\n",
    "# Compute the rank of the Jacobian matrix\n",
    "rank = jacobian.rank()\n",
    "\n",
    "# Check if the rank equals the number of equations\n",
    "print(\"Jacobian Matrix:\")\n",
    "print(jacobian)\n",
    "print(\"Rank:\", rank)\n",
    "print(\"Number of equations:\", len(equations))\n",
    "\n",
    "if rank == len(equations):\n",
    "    print(\"The system is independent.\")\n",
    "else:\n",
    "    print(\"The system is dependent.\")\n"
   ]
  },
  {
   "cell_type": "markdown",
   "metadata": {},
   "source": [
    "# Sizing"
   ]
  },
  {
   "cell_type": "markdown",
   "metadata": {},
   "source": [
    "## Loading"
   ]
  },
  {
   "cell_type": "code",
   "execution_count": 12,
   "metadata": {},
   "outputs": [
    {
     "data": {
      "text/plain": [
       "dict_keys(['Z1_Z2_Z3_Z4_Z5_Z6'])"
      ]
     },
     "execution_count": 12,
     "metadata": {},
     "output_type": "execute_result"
    }
   ],
   "source": [
    "results.classifications_dict.keys()"
   ]
  },
  {
   "cell_type": "code",
   "execution_count": 13,
   "metadata": {},
   "outputs": [
    {
     "data": {
      "text/plain": [
       "120"
      ]
     },
     "execution_count": 13,
     "metadata": {},
     "output_type": "execute_result"
    }
   ],
   "source": [
    "classifications_of_intrest = results.get_filter_types([\"BP\"])\n",
    "len(classifications_of_intrest)"
   ]
  },
  {
   "cell_type": "code",
   "execution_count": 14,
   "metadata": {},
   "outputs": [
    {
     "data": {
      "text/plain": [
       "(R_1, R_2, 1/(C_3*s), R_4/(C_4*R_4*s + 1), R_5, R_6/(C_6*R_6*s + 1))"
      ]
     },
     "execution_count": 14,
     "metadata": {},
     "output_type": "execute_result"
    }
   ],
   "source": [
    "idx = 10\n",
    "classification = classifications_of_intrest[idx]\n",
    "classification.zCombo"
   ]
  },
  {
   "cell_type": "code",
   "execution_count": 15,
   "metadata": {},
   "outputs": [
    {
     "data": {
      "text/plain": [
       "{'Q': sqrt(C_6)*sqrt(R_4)*sqrt(R_5)*sqrt(R_6)*sqrt(C_3*R_1 + C_3*R_2 + C_4*R_2)*sqrt(-R_2*R_4 + R_2*R_5 + R_4*R_5)/(C_3*R_1*R_4*R_5 + C_3*R_2*R_4*R_5 + C_4*R_2*R_4*R_5 - C_6*R_2*R_4*R_6 + C_6*R_2*R_5*R_6 + C_6*R_4*R_5*R_6),\n",
       " 'wo': sqrt(-R_2*R_4 + R_2*R_5 + R_4*R_5)/sqrt(C_3*C_6*R_1*R_4*R_5*R_6 + C_3*C_6*R_2*R_4*R_5*R_6 + C_4*C_6*R_2*R_4*R_5*R_6),\n",
       " 'bandwidth': (C_3*R_1*R_4*R_5 + C_3*R_2*R_4*R_5 + C_4*R_2*R_4*R_5 - C_6*R_2*R_4*R_6 + C_6*R_2*R_5*R_6 + C_6*R_4*R_5*R_6)/(sqrt(C_6)*sqrt(R_4)*sqrt(R_5)*sqrt(R_6)*sqrt(C_3*R_1 + C_3*R_2 + C_4*R_2)*sqrt(C_3*C_6*R_1*R_4*R_5*R_6 + C_3*C_6*R_2*R_4*R_5*R_6 + C_4*C_6*R_2*R_4*R_5*R_6)),\n",
       " 'K_LP': 0,\n",
       " 'K_HP': 0,\n",
       " 'K_BP': C_3*R_1*R_2*R_4*R_6/(C_3*R_1*R_4*R_5 + C_3*R_2*R_4*R_5 + C_4*R_2*R_4*R_5 - C_6*R_2*R_4*R_6 + C_6*R_2*R_5*R_6 + C_6*R_4*R_5*R_6),\n",
       " 'Qz': None,\n",
       " 'Wz': None}"
      ]
     },
     "execution_count": 15,
     "metadata": {},
     "output_type": "execute_result"
    }
   ],
   "source": [
    "classification.parameters"
   ]
  },
  {
   "cell_type": "code",
   "execution_count": 16,
   "metadata": {},
   "outputs": [
    {
     "name": "stderr",
     "output_type": "stream",
     "text": [
      "2025-01-26 23:14:54,506 - matplotlib - matplotlib data path: /Users/danialnoorizadeh/.pyenv/versions/myenv/lib/python3.12/site-packages/matplotlib/mpl-data\n",
      "2025-01-26 23:14:54,510 - matplotlib - CONFIGDIR=/Users/danialnoorizadeh/.matplotlib\n",
      "2025-01-26 23:14:54,536 - matplotlib - interactive is False\n",
      "2025-01-26 23:14:54,537 - matplotlib - platform is darwin\n",
      "2025-01-26 23:14:54,570 - matplotlib - CACHEDIR=/Users/danialnoorizadeh/.matplotlib\n",
      "2025-01-26 23:14:54,573 - matplotlib.font_manager - Using fontManager instance from /Users/danialnoorizadeh/.matplotlib/fontlist-v390.json\n"
     ]
    }
   ],
   "source": [
    "from symxplorer.designer_tools.sizing import Sizing_Assist\n",
    "\n",
    "assistant = Sizing_Assist(filter_classification=classification)"
   ]
  },
  {
   "cell_type": "markdown",
   "metadata": {},
   "source": [
    "## Inspecting the problem space"
   ]
  },
  {
   "cell_type": "code",
   "execution_count": 17,
   "metadata": {},
   "outputs": [
    {
     "data": {
      "text/plain": [
       "dict_keys(['C_3', 'C_4', 'C_6', 'R_5', 'R_1', 'R_6', 'R_4', 'R_2'])"
      ]
     },
     "execution_count": 17,
     "metadata": {},
     "output_type": "execute_result"
    }
   ],
   "source": [
    "assistant.get_design_variables()"
   ]
  },
  {
   "cell_type": "code",
   "execution_count": 18,
   "metadata": {},
   "outputs": [
    {
     "data": {
      "text/plain": [
       "dict_keys(['Q', 'wo', 'bandwidth', 'K_BP'])"
      ]
     },
     "execution_count": 18,
     "metadata": {},
     "output_type": "execute_result"
    }
   ],
   "source": [
    "assistant.get_metrics()"
   ]
  },
  {
   "cell_type": "code",
   "execution_count": 19,
   "metadata": {},
   "outputs": [
    {
     "data": {
      "text/plain": [
       "{'Q': sqrt(C_6)*sqrt(R_4)*sqrt(R_5)*sqrt(R_6)*sqrt(C_3*R_1 + C_3*R_2 + C_4*R_2)*sqrt(-R_2*R_4 + R_2*R_5 + R_4*R_5)/(C_3*R_1*R_4*R_5 + C_3*R_2*R_4*R_5 + C_4*R_2*R_4*R_5 - C_6*R_2*R_4*R_6 + C_6*R_2*R_5*R_6 + C_6*R_4*R_5*R_6),\n",
       " 'wo': sqrt(-R_2*R_4 + R_2*R_5 + R_4*R_5)/(sqrt(C_6)*sqrt(R_4)*sqrt(R_5)*sqrt(R_6)*sqrt(C_3*R_1 + C_3*R_2 + C_4*R_2)),\n",
       " 'bandwidth': (C_3*R_1*R_4*R_5 + C_3*R_2*R_4*R_5 + C_4*R_2*R_4*R_5 - C_6*R_2*R_4*R_6 + C_6*R_2*R_5*R_6 + C_6*R_4*R_5*R_6)/(C_6*R_4*R_5*R_6*sqrt(C_3**2*R_1**2 + 2*C_3**2*R_1*R_2 + C_3**2*R_2**2 + 2*C_3*C_4*R_1*R_2 + 2*C_3*C_4*R_2**2 + C_4**2*R_2**2)),\n",
       " 'K_BP': C_3*R_1*R_2*R_4*R_6/(C_3*R_1*R_4*R_5 + C_3*R_2*R_4*R_5 + C_4*R_2*R_4*R_5 - C_6*R_2*R_4*R_6 + C_6*R_2*R_5*R_6 + C_6*R_4*R_5*R_6)}"
      ]
     },
     "execution_count": 19,
     "metadata": {},
     "output_type": "execute_result"
    }
   ],
   "source": [
    "assistant.metrics_dict"
   ]
  },
  {
   "cell_type": "code",
   "execution_count": 20,
   "metadata": {},
   "outputs": [
    {
     "data": {
      "text/plain": [
       "(0, 8, 4)"
      ]
     },
     "execution_count": 20,
     "metadata": {},
     "output_type": "execute_result"
    }
   ],
   "source": [
    "assistant.get_problem_space()"
   ]
  },
  {
   "cell_type": "code",
   "execution_count": 21,
   "metadata": {},
   "outputs": [
    {
     "data": {
      "text/plain": [
       "True"
      ]
     },
     "execution_count": 21,
     "metadata": {},
     "output_type": "execute_result"
    }
   ],
   "source": [
    "assistant.kill_variable(\"R_1\", \"R_2\")\n",
    "assistant.kill_variable(\"R_4\", \"R_2\")\n",
    "assistant.kill_variable(\"R_5\", \"R_2\")\n",
    "assistant.kill_variable(\"C_3\", \"C_6\")\n",
    "assistant.kill_variable(\"C_4\", \"C_6\")"
   ]
  },
  {
   "cell_type": "code",
   "execution_count": 22,
   "metadata": {},
   "outputs": [
    {
     "data": {
      "text/plain": [
       "{'Q': sqrt(3)*C_6*R_2**(5/2)*sqrt(R_6)/(3*C_6*R_2**3 + C_6*R_2**2*R_6),\n",
       " 'wo': sqrt(3)/(3*C_6*sqrt(R_2)*sqrt(R_6)),\n",
       " 'bandwidth': (3*C_6*R_2**3 + C_6*R_2**2*R_6)/(3*C_6**2*R_2**3*R_6),\n",
       " 'K_BP': C_6*R_2**3*R_6/(3*C_6*R_2**3 + C_6*R_2**2*R_6)}"
      ]
     },
     "execution_count": 22,
     "metadata": {},
     "output_type": "execute_result"
    }
   ],
   "source": [
    "assistant.metrics_dict"
   ]
  },
  {
   "cell_type": "code",
   "execution_count": 23,
   "metadata": {},
   "outputs": [
    {
     "name": "stdout",
     "output_type": "stream",
     "text": [
      "Jacobian Matrix:\n",
      "Matrix([[0, -sqrt(3)*sqrt(R_2)*sqrt(R_6)/(3*R_2 + R_6)**2 + sqrt(3)*sqrt(R_2)/(2*sqrt(R_6)*(3*R_2 + R_6)), -3*sqrt(3)*sqrt(R_2)*sqrt(R_6)/(3*R_2 + R_6)**2 + sqrt(3)*sqrt(R_6)/(2*sqrt(R_2)*(3*R_2 + R_6))], [-sqrt(3)/(3*C_6**2*sqrt(R_2)*sqrt(R_6)), -sqrt(3)/(6*C_6*sqrt(R_2)*R_6**(3/2)), -sqrt(3)/(6*C_6*R_2**(3/2)*sqrt(R_6))], [-(R_2 + R_6/3)/(C_6**2*R_2*R_6), 1/(3*C_6*R_2*R_6) - (R_2 + R_6/3)/(C_6*R_2*R_6**2), 1/(C_6*R_2*R_6) - (R_2 + R_6/3)/(C_6*R_2**2*R_6)], [0, -R_2*R_6/(3*R_2 + R_6)**2 + R_2/(3*R_2 + R_6), -3*R_2*R_6/(3*R_2 + R_6)**2 + R_6/(3*R_2 + R_6)]])\n",
      "Rank: 3\n",
      "Number of equations: 4\n",
      "The system is dependent.\n"
     ]
    },
    {
     "data": {
      "text/plain": [
       "False"
      ]
     },
     "execution_count": 23,
     "metadata": {},
     "output_type": "execute_result"
    }
   ],
   "source": [
    "assistant.is_metrics_independant()"
   ]
  },
  {
   "cell_type": "code",
   "execution_count": 28,
   "metadata": {},
   "outputs": [
    {
     "name": "stdout",
     "output_type": "stream",
     "text": [
      "Jacobian Matrix:\n",
      "Matrix([[0, -sqrt(3)*sqrt(R_2)*sqrt(R_6)/(3*R_2 + R_6)**2 + sqrt(3)*sqrt(R_2)/(2*sqrt(R_6)*(3*R_2 + R_6)), -3*sqrt(3)*sqrt(R_2)*sqrt(R_6)/(3*R_2 + R_6)**2 + sqrt(3)*sqrt(R_6)/(2*sqrt(R_2)*(3*R_2 + R_6))], [-(R_2 + R_6/3)/(C_6**2*R_2*R_6), 1/(3*C_6*R_2*R_6) - (R_2 + R_6/3)/(C_6*R_2*R_6**2), 1/(C_6*R_2*R_6) - (R_2 + R_6/3)/(C_6*R_2**2*R_6)], [0, -R_2*R_6/(3*R_2 + R_6)**2 + R_2/(3*R_2 + R_6), -3*R_2*R_6/(3*R_2 + R_6)**2 + R_6/(3*R_2 + R_6)]])\n",
      "Row Reduced Jacobian Matrix:\n",
      "Matrix([[1, 0, 0], [0, 1, 0], [0, 0, 1]])\n",
      "Dependent Rows (indices): []\n"
     ]
    },
    {
     "data": {
      "text/plain": [
       "(Matrix([\n",
       " [                              0, -sqrt(3)*sqrt(R_2)*sqrt(R_6)/(3*R_2 + R_6)**2 + sqrt(3)*sqrt(R_2)/(2*sqrt(R_6)*(3*R_2 + R_6)), -3*sqrt(3)*sqrt(R_2)*sqrt(R_6)/(3*R_2 + R_6)**2 + sqrt(3)*sqrt(R_6)/(2*sqrt(R_2)*(3*R_2 + R_6))],\n",
       " [-(R_2 + R_6/3)/(C_6**2*R_2*R_6),                                            1/(3*C_6*R_2*R_6) - (R_2 + R_6/3)/(C_6*R_2*R_6**2),                                                1/(C_6*R_2*R_6) - (R_2 + R_6/3)/(C_6*R_2**2*R_6)],\n",
       " [                              0,                                                 -R_2*R_6/(3*R_2 + R_6)**2 + R_2/(3*R_2 + R_6),                                                 -3*R_2*R_6/(3*R_2 + R_6)**2 + R_6/(3*R_2 + R_6)]]),\n",
       " Matrix([\n",
       " [1, 0, 0],\n",
       " [0, 1, 0],\n",
       " [0, 0, 1]]),\n",
       " [])"
      ]
     },
     "execution_count": 28,
     "metadata": {},
     "output_type": "execute_result"
    }
   ],
   "source": [
    "assistant.get_jacobian_of_metrics()"
   ]
  },
  {
   "cell_type": "code",
   "execution_count": 25,
   "metadata": {},
   "outputs": [
    {
     "data": {
      "text/plain": [
       "True"
      ]
     },
     "execution_count": 25,
     "metadata": {},
     "output_type": "execute_result"
    }
   ],
   "source": [
    "assistant.remove_metric(\"wo\")"
   ]
  },
  {
   "cell_type": "code",
   "execution_count": 26,
   "metadata": {},
   "outputs": [
    {
     "data": {
      "text/plain": [
       "dict_keys(['Q', 'bandwidth', 'K_BP'])"
      ]
     },
     "execution_count": 26,
     "metadata": {},
     "output_type": "execute_result"
    }
   ],
   "source": [
    "assistant.get_metrics()"
   ]
  },
  {
   "cell_type": "code",
   "execution_count": 27,
   "metadata": {},
   "outputs": [
    {
     "name": "stdout",
     "output_type": "stream",
     "text": [
      "Jacobian Matrix:\n",
      "Matrix([[0, -sqrt(3)*sqrt(R_2)*sqrt(R_6)/(3*R_2 + R_6)**2 + sqrt(3)*sqrt(R_2)/(2*sqrt(R_6)*(3*R_2 + R_6)), -3*sqrt(3)*sqrt(R_2)*sqrt(R_6)/(3*R_2 + R_6)**2 + sqrt(3)*sqrt(R_6)/(2*sqrt(R_2)*(3*R_2 + R_6))], [-(R_2 + R_6/3)/(C_6**2*R_2*R_6), 1/(3*C_6*R_2*R_6) - (R_2 + R_6/3)/(C_6*R_2*R_6**2), 1/(C_6*R_2*R_6) - (R_2 + R_6/3)/(C_6*R_2**2*R_6)], [0, -R_2*R_6/(3*R_2 + R_6)**2 + R_2/(3*R_2 + R_6), -3*R_2*R_6/(3*R_2 + R_6)**2 + R_6/(3*R_2 + R_6)]])\n",
      "Rank: 3\n",
      "Number of equations: 3\n",
      "The system is independent.\n"
     ]
    },
    {
     "data": {
      "text/plain": [
       "True"
      ]
     },
     "execution_count": 27,
     "metadata": {},
     "output_type": "execute_result"
    }
   ],
   "source": [
    "assistant.is_metrics_independant()"
   ]
  },
  {
   "cell_type": "markdown",
   "metadata": {},
   "source": [
    "## Inverse Solving"
   ]
  },
  {
   "cell_type": "code",
   "execution_count": null,
   "metadata": {},
   "outputs": [],
   "source": [
    "assistant.relax_design_variable(\"R_1\")\n",
    "assistant.relax_design_variable(\"C_6\")\n",
    "assistant.relax_design_variables"
   ]
  },
  {
   "cell_type": "code",
   "execution_count": null,
   "metadata": {},
   "outputs": [],
   "source": [
    "assistant.get_problem_space()"
   ]
  },
  {
   "cell_type": "code",
   "execution_count": null,
   "metadata": {},
   "outputs": [],
   "source": [
    "assistant.reset_design_variable()\n",
    "assistant.relax_design_variables, assistant.design_variables_dict"
   ]
  },
  {
   "cell_type": "code",
   "execution_count": null,
   "metadata": {},
   "outputs": [],
   "source": [
    "assistant.get_problem_space()"
   ]
  },
  {
   "cell_type": "code",
   "execution_count": null,
   "metadata": {},
   "outputs": [],
   "source": [
    "assistant.is_metrics_independant()"
   ]
  },
  {
   "cell_type": "code",
   "execution_count": 27,
   "metadata": {},
   "outputs": [],
   "source": [
    "assistant.kill_variable(\"R_1\", \"R_2\")\n",
    "assistant.kill_variable(\"C_3\", \"C_6\")\n",
    "assistant.kill_variable(\"C_4\", \"C_6\")\n",
    "\n"
   ]
  },
  {
   "cell_type": "code",
   "execution_count": null,
   "metadata": {},
   "outputs": [],
   "source": [
    "assistant.metrics_dict"
   ]
  },
  {
   "cell_type": "code",
   "execution_count": null,
   "metadata": {},
   "outputs": [],
   "source": [
    "assistant.get_problem_space()"
   ]
  },
  {
   "cell_type": "code",
   "execution_count": null,
   "metadata": {},
   "outputs": [],
   "source": [
    "# assistant.solve_inverse()"
   ]
  },
  {
   "cell_type": "code",
   "execution_count": null,
   "metadata": {},
   "outputs": [],
   "source": [
    "assistant.design_variables_dict"
   ]
  },
  {
   "cell_type": "code",
   "execution_count": null,
   "metadata": {},
   "outputs": [],
   "source": [
    "sol = sympy.solve(assistant.equations, [\n",
    "    assistant.design_variables_dict[\"R_6\"],\n",
    "    assistant.design_variables_dict[\"C_6\"],\n",
    "    assistant.design_variables_dict[\"R_4\"],\n",
    "    # assistant.design_variables_dict[\"R_5\"]\n",
    "    ], dict=True)[0]\n",
    "\n",
    "sol"
   ]
  },
  {
   "cell_type": "code",
   "execution_count": null,
   "metadata": {},
   "outputs": [],
   "source": [
    "prod = (assistant.metrics_dict[\"Q\"]*assistant.metrics_dict[\"bandwidth\"]).simplify()\n",
    "prod"
   ]
  },
  {
   "cell_type": "code",
   "execution_count": null,
   "metadata": {},
   "outputs": [],
   "source": [
    "prod/assistant.metrics_dict[\"wo\"]"
   ]
  }
 ],
 "metadata": {
  "kernelspec": {
   "display_name": "myenv",
   "language": "python",
   "name": "python3"
  },
  "language_info": {
   "codemirror_mode": {
    "name": "ipython",
    "version": 3
   },
   "file_extension": ".py",
   "mimetype": "text/x-python",
   "name": "python",
   "nbconvert_exporter": "python",
   "pygments_lexer": "ipython3",
   "version": "3.12.2"
  }
 },
 "nbformat": 4,
 "nbformat_minor": 2
}
