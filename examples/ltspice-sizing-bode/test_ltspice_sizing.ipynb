{
 "cells": [
  {
   "cell_type": "code",
   "execution_count": null,
   "metadata": {},
   "outputs": [],
   "source": [
    "from symxplorer.spice_engine.spicelib import LTspice_Wrapper\n",
    "\n",
    "from symxplorer.designer_tools.bayesian_ax import Ax_LTspice_Bode_Fitter\n",
    "\n",
    "from symxplorer.designer_tools.tf_models import Second_Order_LP_TF, First_Order_LP_TF, cascade_tf\n",
    "\n",
    "from symxplorer.designer_tools.utils import Frequency_Weight, plot_complex_response"
   ]
  },
  {
   "cell_type": "code",
   "execution_count": null,
   "metadata": {},
   "outputs": [],
   "source": [
    "ltspice_wrapper = LTspice_Wrapper(asc_filename=\"asc/TIA-ALL_Z-LPF-AC.asc\", \n",
    "                          traces_of_interest=['frequency', 'Vout'],\n",
    "                          dump_parent_folder=\"runner\")"
   ]
  },
  {
   "cell_type": "code",
   "execution_count": null,
   "metadata": {},
   "outputs": [],
   "source": [
    "ltspice_wrapper.cap_unit, ltspice_wrapper.res_unit"
   ]
  },
  {
   "cell_type": "code",
   "execution_count": null,
   "metadata": {},
   "outputs": [],
   "source": [
    "# Butterworth Filter (3rd order)\n",
    "fc = 1e7\n",
    "tf1 = Second_Order_LP_TF(q=1, fc=1.272*fc, dc_gain=1e3)\n",
    "tf2 = First_Order_LP_TF(fc=1*fc, dc_gain=1)\n",
    "\n",
    "target_tf = cascade_tf(list_of_tfs=[tf1, tf2], dc_gain_multiplier=1)\n",
    "\n",
    "target_tf"
   ]
  },
  {
   "cell_type": "code",
   "execution_count": 5,
   "metadata": {},
   "outputs": [],
   "source": [
    "frequency_weights = Frequency_Weight(lower= 0.1*fc, upper= 10*fc, bias=10)\n",
    "# We dont know the frequency until we run the simulation\n",
    "frequency_weights.compute_weights()"
   ]
  },
  {
   "cell_type": "code",
   "execution_count": null,
   "metadata": {},
   "outputs": [],
   "source": []
  },
  {
   "cell_type": "code",
   "execution_count": null,
   "metadata": {},
   "outputs": [],
   "source": [
    "optimizer = Ax_LTspice_Bode_Fitter(\n",
    "    ltspice_wrapper=ltspice_wrapper, \n",
    "    target_tf=target_tf,\n",
    "    design_params= { # -1 is a dummy bound \n",
    "        \"C\"  : -1,\n",
    "        \"R1\" : -1,\n",
    "        \"R2\" : -1,\n",
    "        \"R3\" : -1,\n",
    "        \"R5\" : -1,\n",
    "        \"R6\" : -1,\n",
    "    },\n",
    "    c_range= [1, 1e3],\n",
    "    r_range=[1e-2, 1e2],\n",
    "    output_node=\"V(vout)\",\n",
    "    frequency_weight = frequency_weights,\n",
    "    max_loss=50,\n",
    "    loss_fn=\"mse\",\n",
    "    norm_method=\"min-max\",\n",
    "    random_seed=42,\n",
    "    )"
   ]
  },
  {
   "cell_type": "code",
   "execution_count": null,
   "metadata": {},
   "outputs": [],
   "source": [
    "optimizer.parameterize()"
   ]
  },
  {
   "cell_type": "code",
   "execution_count": null,
   "metadata": {},
   "outputs": [],
   "source": [
    "optimizer.create_experiment(num_sobol_trials=5)"
   ]
  },
  {
   "cell_type": "code",
   "execution_count": null,
   "metadata": {},
   "outputs": [],
   "source": [
    "optimizer.optimization_loop(num_trials=100, include_mag_loss=True, include_phase_loss=True)"
   ]
  },
  {
   "cell_type": "code",
   "execution_count": null,
   "metadata": {},
   "outputs": [],
   "source": [
    "from ax.utils.notebook.plotting import init_notebook_plotting, render\n",
    "render(optimizer.ax_client.get_optimization_trace(objective_optimum = 0))"
   ]
  },
  {
   "cell_type": "code",
   "execution_count": null,
   "metadata": {},
   "outputs": [],
   "source": [
    "idx = 72\n",
    "complex_response = optimizer.optimization_log[idx][\"complex_response\"]\n",
    "optimizer.optimization_log[idx][\"bode_fitting_loss\"], optimizer.optimization_log[idx][\"params\"]\n"
   ]
  },
  {
   "cell_type": "code",
   "execution_count": null,
   "metadata": {},
   "outputs": [],
   "source": [
    "optimizer.optimization_log[idx][\"mag_loss\"], optimizer.optimization_log[idx][\"phase_loss\"]"
   ]
  },
  {
   "cell_type": "code",
   "execution_count": null,
   "metadata": {},
   "outputs": [],
   "source": [
    "frequency_weights.weights"
   ]
  },
  {
   "cell_type": "code",
   "execution_count": null,
   "metadata": {},
   "outputs": [],
   "source": [
    "plot_complex_response(optimizer.frequency_array, [complex_response, optimizer.target_complex_response], [\"optimized\", \"Target\"])"
   ]
  },
  {
   "cell_type": "code",
   "execution_count": null,
   "metadata": {},
   "outputs": [],
   "source": [
    "\n",
    "render(optimizer.ax_client.get_contour_plot())"
   ]
  },
  {
   "cell_type": "code",
   "execution_count": null,
   "metadata": {},
   "outputs": [],
   "source": [
    "optimizer.frequency_weight.lower, optimizer.frequency_weight.upper"
   ]
  }
 ],
 "metadata": {
  "kernelspec": {
   "display_name": "myenv",
   "language": "python",
   "name": "python3"
  },
  "language_info": {
   "codemirror_mode": {
    "name": "ipython",
    "version": 3
   },
   "file_extension": ".py",
   "mimetype": "text/x-python",
   "name": "python",
   "nbconvert_exporter": "python",
   "pygments_lexer": "ipython3",
   "version": "3.12.2"
  }
 },
 "nbformat": 4,
 "nbformat_minor": 2
}
