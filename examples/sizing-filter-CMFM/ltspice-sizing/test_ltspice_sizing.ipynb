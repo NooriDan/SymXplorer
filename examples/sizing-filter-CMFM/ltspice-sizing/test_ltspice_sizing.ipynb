{
 "cells": [
  {
   "cell_type": "markdown",
   "metadata": {},
   "source": [
    "# Initialization"
   ]
  },
  {
   "cell_type": "code",
   "execution_count": null,
   "metadata": {},
   "outputs": [],
   "source": [
    "from symxplorer.designer_tools.bayesian_ax import Ax_LTspice_Bode_Fitter\n",
    "\n",
    "from symxplorer.spice_engine.spicelib    import LTspice_Wrapper\n",
    "\n",
    "from symxplorer.designer_tools.tf_models import Second_Order_LP_TF, First_Order_LP_TF, cascade_tf\n",
    "\n",
    "from symxplorer.designer_tools.utils     import Frequency_Weight, plot_complex_response"
   ]
  },
  {
   "cell_type": "markdown",
   "metadata": {},
   "source": [
    "# Sizing The LP filter for given AC Response"
   ]
  },
  {
   "cell_type": "markdown",
   "metadata": {},
   "source": [
    "## Create a Spicelib wrapper"
   ]
  },
  {
   "cell_type": "code",
   "execution_count": null,
   "metadata": {},
   "outputs": [],
   "source": [
    "ltspice_wrapper = LTspice_Wrapper(asc_filename=\"asc/TIA-ALL_Z-LPF-AC.asc\", \n",
    "                          traces_of_interest=['frequency', 'Vout'],\n",
    "                          dump_parent_folder=\"runner\")"
   ]
  },
  {
   "cell_type": "code",
   "execution_count": null,
   "metadata": {},
   "outputs": [],
   "source": [
    "ltspice_wrapper.cap_unit, ltspice_wrapper.res_unit"
   ]
  },
  {
   "cell_type": "markdown",
   "metadata": {},
   "source": [
    "## Define Target TF"
   ]
  },
  {
   "cell_type": "code",
   "execution_count": null,
   "metadata": {},
   "outputs": [],
   "source": [
    "# Butterworth Filter (3rd order)\n",
    "fc = 1e7\n",
    "tf1 = Second_Order_LP_TF(q=1, fc=1.272*fc, dc_gain=1e3)\n",
    "tf2 = First_Order_LP_TF(fc=1*fc, dc_gain=1)\n",
    "\n",
    "target_tf = cascade_tf(list_of_tfs=[tf1, tf2], dc_gain_multiplier=1)\n",
    "\n",
    "target_tf"
   ]
  },
  {
   "cell_type": "markdown",
   "metadata": {},
   "source": [
    "## Create Ax wrapper"
   ]
  },
  {
   "cell_type": "code",
   "execution_count": 17,
   "metadata": {},
   "outputs": [],
   "source": [
    "frequency_weights = Frequency_Weight(lower= 0.001*fc, upper= 10*fc, bias=10)\n",
    "# We dont know the frequency until we run the simulation\n",
    "# frequency_weights.compute_weights()"
   ]
  },
  {
   "cell_type": "markdown",
   "metadata": {},
   "source": [
    "Results from the symbolic sizing stage. We will use this to shrink the search space for the spice-in-the-loop sizing\n",
    "{'C_1': 5.085127777248505e-12,\n",
    "  'R_5': 6027.164065244698,\n",
    "  'R_2': 2052.64637549578,\n",
    "  'R_3': 594.0490703581795,\n",
    "  'R_1': 32164.219541514758,\n",
    "  'C_4': 2.7152591702343307e-11,\n",
    "  'R_6': 5858.0603096601435,\n",
    "  'C_6': 2.7183594035896026e-12}"
   ]
  },
  {
   "cell_type": "code",
   "execution_count": null,
   "metadata": {},
   "outputs": [],
   "source": [
    "optimizer = Ax_LTspice_Bode_Fitter(\n",
    "    ltspice_wrapper=ltspice_wrapper, \n",
    "    target_tf=target_tf,\n",
    "    mag_threshold=60, # in dB\n",
    "    design_params= { # -1 is a dummy bound \n",
    "        \"C\"  : [1, 50], # in pF\n",
    "        \"R1\" : [1, 50],\n",
    "        \"R2\" : [1, 50], # in kOhm\n",
    "        \"R3\" : [0.01, 1],\n",
    "        \"R5\" : [1, 50],\n",
    "        \"R6\" : [1, 50],\n",
    "    },\n",
    "    c_range= [1, 1e4],\n",
    "    r_range= [1e-2, 1e2],\n",
    "    output_node=\"V(vout)\",\n",
    "    frequency_weight = frequency_weights,\n",
    "    max_loss=float('inf'),\n",
    "    loss_type=\"mse\",\n",
    "    loss_norm_method=\"min-max\",\n",
    "    rescale_mag=True,\n",
    "    random_seed=42,\n",
    "    )"
   ]
  },
  {
   "cell_type": "code",
   "execution_count": null,
   "metadata": {},
   "outputs": [],
   "source": [
    "optimizer.parameterize(log_scale=False)\n",
    "optimizer.create_experiment(num_sobol_trials=5, use_outcome_constraint=True)"
   ]
  },
  {
   "cell_type": "code",
   "execution_count": null,
   "metadata": {},
   "outputs": [],
   "source": [
    "optimizer.optimize(num_trials=40, include_mag_loss=True, include_phase_loss=False)"
   ]
  },
  {
   "cell_type": "markdown",
   "metadata": {},
   "source": [
    "## Plot the Results"
   ]
  },
  {
   "cell_type": "markdown",
   "metadata": {},
   "source": [
    "### Plot the best trial"
   ]
  },
  {
   "cell_type": "code",
   "execution_count": null,
   "metadata": {},
   "outputs": [],
   "source": [
    "best_params, best_loss = optimizer.get_best(render_trace=True, use_model_predictions=False)\n",
    "best_params, best_loss"
   ]
  },
  {
   "cell_type": "code",
   "execution_count": null,
   "metadata": {},
   "outputs": [],
   "source": [
    "optimizer.plot_solution() # defualts to the best point, else specify through trial_idx=..."
   ]
  },
  {
   "cell_type": "code",
   "execution_count": null,
   "metadata": {},
   "outputs": [],
   "source": [
    "trial, params, loss = optimizer.ax_client.get_best_trial()\n",
    "trial, params, loss"
   ]
  },
  {
   "cell_type": "markdown",
   "metadata": {},
   "source": [
    "### Choose a trial to plot"
   ]
  },
  {
   "cell_type": "code",
   "execution_count": null,
   "metadata": {},
   "outputs": [],
   "source": [
    "idx = 39\n",
    "complex_response = optimizer.optimization_log[idx][\"complex_response\"]\n",
    "optimizer.optimization_log[idx][\"bode_fitting_loss\"], optimizer.optimization_log[idx][\"params\"]\n"
   ]
  },
  {
   "cell_type": "code",
   "execution_count": null,
   "metadata": {},
   "outputs": [],
   "source": [
    "optimizer.optimization_log[idx][\"mag_loss\"], optimizer.optimization_log[idx][\"phase_loss\"]"
   ]
  },
  {
   "cell_type": "code",
   "execution_count": null,
   "metadata": {},
   "outputs": [],
   "source": [
    "plot_complex_response(optimizer.frequency_array, [complex_response, optimizer.target_complex_response], [\"optimized\", \"Target\"])"
   ]
  },
  {
   "cell_type": "code",
   "execution_count": null,
   "metadata": {},
   "outputs": [],
   "source": [
    "optimizer.frequency_weight.lower, optimizer.frequency_weight.upper"
   ]
  },
  {
   "cell_type": "code",
   "execution_count": null,
   "metadata": {},
   "outputs": [],
   "source": [
    "optimizer.render_contour_plot(param_x='C', param_y=\"R1\", metric=\"bode_fitting_loss\")"
   ]
  },
  {
   "cell_type": "code",
   "execution_count": null,
   "metadata": {},
   "outputs": [],
   "source": [
    "optimizer.get_trials_as_df()"
   ]
  },
  {
   "cell_type": "markdown",
   "metadata": {},
   "source": [
    "### Saving the optimizer"
   ]
  },
  {
   "cell_type": "code",
   "execution_count": 1,
   "metadata": {},
   "outputs": [
    {
     "ename": "NameError",
     "evalue": "name 'optimizer' is not defined",
     "output_type": "error",
     "traceback": [
      "\u001b[0;31m---------------------------------------------------------------------------\u001b[0m",
      "\u001b[0;31mNameError\u001b[0m                                 Traceback (most recent call last)",
      "Cell \u001b[0;32mIn[1], line 1\u001b[0m\n\u001b[0;32m----> 1\u001b[0m \u001b[43moptimizer\u001b[49m\u001b[38;5;241m.\u001b[39mspicelib_cleanup()\n",
      "\u001b[0;31mNameError\u001b[0m: name 'optimizer' is not defined"
     ]
    }
   ],
   "source": [
    "optimizer.spicelib_cleanup()"
   ]
  },
  {
   "cell_type": "code",
   "execution_count": null,
   "metadata": {},
   "outputs": [],
   "source": [
    "optimizer.save_ax(\"100_mse_minmax_mag_phase\")"
   ]
  },
  {
   "cell_type": "markdown",
   "metadata": {},
   "source": [
    "### Loading the optimizer"
   ]
  },
  {
   "cell_type": "code",
   "execution_count": 19,
   "metadata": {},
   "outputs": [],
   "source": [
    "optimizer.ax_client = Ax_LTspice_Bode_Fitter.load_ax(\"checkpoints/100_mse_minmax_mag_phase_2025-02-11_12-35-54.json\")"
   ]
  },
  {
   "cell_type": "markdown",
   "metadata": {},
   "source": [
    "# Sizing the LP filter for minimizing noise"
   ]
  }
 ],
 "metadata": {
  "kernelspec": {
   "display_name": "myenv",
   "language": "python",
   "name": "python3"
  },
  "language_info": {
   "codemirror_mode": {
    "name": "ipython",
    "version": 3
   },
   "file_extension": ".py",
   "mimetype": "text/x-python",
   "name": "python",
   "nbconvert_exporter": "python",
   "pygments_lexer": "ipython3",
   "version": "3.12.2"
  }
 },
 "nbformat": 4,
 "nbformat_minor": 2
}
